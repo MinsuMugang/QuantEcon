{
 "cells": [
  {
   "cell_type": "markdown",
   "id": "dec1fb9a",
   "metadata": {},
   "source": [
    "# Problem Set 6\n",
    "\n",
    "See [Merge](https://datascience.quantecon.org/../pandas/merge.html), [Reshape](https://datascience.quantecon.org/../pandas/reshape.html), and [GroupBy](https://datascience.quantecon.org/../pandas/groupby.html)"
   ]
  },
  {
   "cell_type": "code",
   "execution_count": null,
   "id": "917db662",
   "metadata": {
    "hide-output": false
   },
   "outputs": [],
   "source": [
    "import matplotlib.pyplot as plt\n",
    "import numpy as np\n",
    "import pandas as pd\n",
    "import qeds\n",
    "\n",
    "%matplotlib inline\n",
    "# activate plot theme\n",
    "import qeds\n",
    "qeds.themes.mpl_style();"
   ]
  },
  {
   "cell_type": "markdown",
   "id": "d9e04959",
   "metadata": {},
   "source": [
    "## Questions 1-7\n",
    "\n",
    "Lets start with a relatively straightforward exercise before we get to the really fun stuff.\n",
    "\n",
    "The following code loads a cleaned piece of census data from Statistics Canada."
   ]
  },
  {
   "cell_type": "code",
   "execution_count": null,
   "id": "c651c7c6",
   "metadata": {
    "hide-output": false
   },
   "outputs": [],
   "source": [
    "df = pd.read_csv(\"https://datascience.quantecon.org/assets/data/canada_census.csv\", header=0, index_col=False)\n",
    "df.head()"
   ]
  },
  {
   "cell_type": "markdown",
   "id": "4cefc26c",
   "metadata": {},
   "source": [
    "A *census division* is a geographical area, smaller than a Canadian province, that is used to\n",
    "organize information at a slightly more granular level than by province or by city. The census\n",
    "divisions are shown below.\n",
    "\n",
    "![https://datascience.quantecon.org/_static/canada_censusdivisions_map.png](https://datascience.quantecon.org/_static/canada_censusdivisions_map.png)\n",
    "\n",
    "  \n",
    "The data above contains information on the population, percent of population with a college\n",
    "degree, percent of population who own their house/apartment, and the median after-tax income at the\n",
    "*census division* level.\n",
    "\n",
    "Hint: The `groupby` is the key here.  You will need to practice different split, apply, and combine options."
   ]
  },
  {
   "cell_type": "markdown",
   "id": "4344f1d8",
   "metadata": {},
   "source": [
    "### Question 1\n",
    "\n",
    "Assume that you have a separate data source with province codes and names."
   ]
  },
  {
   "cell_type": "code",
   "execution_count": null,
   "id": "26bdc0a8",
   "metadata": {
    "hide-output": false
   },
   "outputs": [],
   "source": [
    "df_provincecodes = pd.DataFrame({\n",
    "    \"Pname\" : [ 'Newfoundland and Labrador', 'Prince Edward Island', 'Nova Scotia',\n",
    "                'New Brunswick', 'Quebec', 'Ontario', 'Manitoba', 'Saskatchewan',\n",
    "                'Alberta', 'British Columbia', 'Yukon', 'Northwest Territories','Nunavut'],\n",
    "    \"Code\" : ['NL', 'PE', 'NS', 'NB', 'QC', 'ON', 'MB', 'SK', 'AB', 'BC', 'YT', 'NT', 'NU']\n",
    "            })\n",
    "df_provincecodes"
   ]
  },
  {
   "cell_type": "markdown",
   "id": "706d23be",
   "metadata": {},
   "source": [
    "With this,\n",
    "\n",
    "1. Either merge or join these province codes into the census dataframe to provide province codes for each province\n",
    "  name. Hint: You need to figure out which “key” matches in the merge, and don’t be afraid to rename columns for convenience.  \n",
    "1. Drop the province names from the resulting dataframe.  \n",
    "1. Rename the column with the province codes to “Province”.  Hint: `.rename(columns = <YOURDICTIONARY>)`  "
   ]
  },
  {
   "cell_type": "code",
   "execution_count": null,
   "id": "76141650",
   "metadata": {
    "hide-output": false
   },
   "outputs": [],
   "source": [
    "# Your code here"
   ]
  },
  {
   "cell_type": "markdown",
   "id": "73c5b456",
   "metadata": {},
   "source": [
    "For this particular example, you could have renamed the column using `replace`. This is a good check."
   ]
  },
  {
   "cell_type": "code",
   "execution_count": null,
   "id": "eb8b74c1",
   "metadata": {
    "hide-output": false
   },
   "outputs": [],
   "source": [
    "(pd.read_csv(\"https://datascience.quantecon.org/assets/data/canada_census.csv\", header=0, index_col=False)\n",
    ".replace({\n",
    "    \"Alberta\": \"AB\", \"British Columbia\": \"BC\", \"Manitoba\": \"MB\", \"New Brunswick\": \"NB\",\n",
    "    \"Newfoundland and Labrador\": \"NL\", \"Northwest Territories\": \"NT\", \"Nova Scotia\": \"NS\",\n",
    "    \"Nunavut\": \"NU\", \"Ontario\": \"ON\", \"Prince Edward Island\": \"PE\", \"Quebec\": \"QC\",\n",
    "    \"Saskatchewan\": \"SK\", \"Yukon\": \"YT\"})\n",
    ".rename(columns={\"Pname\" : \"Province\"})\n",
    ".head()\n",
    ")"
   ]
  },
  {
   "cell_type": "markdown",
   "id": "974a4555",
   "metadata": {},
   "source": [
    "### Question 2\n",
    "\n",
    "Which province has the highest population? Which has the lowest?"
   ]
  },
  {
   "cell_type": "code",
   "execution_count": null,
   "id": "e76030c5",
   "metadata": {
    "hide-output": false
   },
   "outputs": [],
   "source": [
    "# Your code here"
   ]
  },
  {
   "cell_type": "markdown",
   "id": "55838318",
   "metadata": {},
   "source": [
    "### Question 3\n",
    "\n",
    "Show a bar plot and a pie plot of the province populations.  Hint: After the split-apply-combine, you can use `.plot.bar()` or `.plot.pie()`."
   ]
  },
  {
   "cell_type": "code",
   "execution_count": null,
   "id": "5dfb7077",
   "metadata": {
    "hide-output": false
   },
   "outputs": [],
   "source": [
    "# Your code here"
   ]
  },
  {
   "cell_type": "markdown",
   "id": "33806843",
   "metadata": {},
   "source": [
    "### Question 3\n",
    "\n",
    "Which province has the highest percent of individuals with a college education? Which has the\n",
    "lowest?\n",
    "\n",
    "Hint: Remember to weight this calculation by population!"
   ]
  },
  {
   "cell_type": "code",
   "execution_count": null,
   "id": "7995f3d2",
   "metadata": {
    "hide-output": false
   },
   "outputs": [],
   "source": [
    "# Your code here"
   ]
  },
  {
   "cell_type": "markdown",
   "id": "aea8e82e",
   "metadata": {},
   "source": [
    "### Question 4\n",
    "\n",
    "What is the census division with the highest median income in each province?"
   ]
  },
  {
   "cell_type": "code",
   "execution_count": null,
   "id": "6e5bf234",
   "metadata": {
    "hide-output": false
   },
   "outputs": [],
   "source": [
    "# Your code here"
   ]
  },
  {
   "cell_type": "markdown",
   "id": "2b63c11b",
   "metadata": {},
   "source": [
    "### Question 5\n",
    "\n",
    "By province, what is the total population of census areas where more than 80 percent of the population own houses ?"
   ]
  },
  {
   "cell_type": "code",
   "execution_count": null,
   "id": "a46d6066",
   "metadata": {
    "hide-output": false
   },
   "outputs": [],
   "source": [
    "# Your code here"
   ]
  },
  {
   "cell_type": "markdown",
   "id": "fd3f5224",
   "metadata": {},
   "source": [
    "### Question 6\n",
    "\n",
    "By province, what is the median income and average proportion of college-educated individuals in census areas\n",
    "where more than 80 percent of the population own houses?"
   ]
  },
  {
   "cell_type": "code",
   "execution_count": null,
   "id": "97e9900c",
   "metadata": {
    "hide-output": false
   },
   "outputs": [],
   "source": [
    "# Your code here"
   ]
  },
  {
   "cell_type": "markdown",
   "id": "bbfd4ffb",
   "metadata": {},
   "source": [
    "### Question 7\n",
    "\n",
    "Classify the census areas as low, medium, and highly-educated by using the college-educated proportions,\n",
    "where “low” indicates that less than 10 percent of the area is college-educated, “medium” indicates between 10 and 20 percent is college-educated, and “high” indicates more than 20 percent.\n",
    "\n",
    "Based on that classification, find the average income. Weight this average income by population for each of the low, medium, high education groups."
   ]
  },
  {
   "cell_type": "code",
   "execution_count": null,
   "id": "3d9bdb48",
   "metadata": {
    "hide-output": false
   },
   "outputs": [],
   "source": [
    "# Your code here"
   ]
  },
  {
   "cell_type": "markdown",
   "id": "a4f0bc13",
   "metadata": {},
   "source": [
    "## Questions 8\n",
    "\n",
    "The `qeds` library includes routines to simulate datasets in the\n",
    "format of common sources.\n",
    "\n",
    "One of these sources is [Shopify](https://www.shopify.com/) – an\n",
    "ecommerce platform used by many retail companies.\n",
    "\n",
    "The code below will simulate a fairly large dataset that has the\n",
    "properties of a Shopify order-detail report.\n",
    "\n",
    "We’ll look at the data before describing the exercise."
   ]
  },
  {
   "cell_type": "code",
   "execution_count": null,
   "id": "488daa03",
   "metadata": {
    "hide-output": false
   },
   "outputs": [],
   "source": [
    "np.random.seed(42)\n",
    "url = \"https://datascience.quantecon.org/assets/data/shopify_orders.csv.zip\"\n",
    "orders = pd.read_csv(url)\n",
    "orders.info()\n",
    "\n",
    "orders.head()"
   ]
  },
  {
   "cell_type": "markdown",
   "id": "b5796e71",
   "metadata": {},
   "source": [
    "We define a customer’s cohort as the month in which a customer placed\n",
    "their first order and the customer type as an indicator of whether this\n",
    "was their first order or a returning order.\n",
    "\n",
    "Here’s what we want you to do:\n",
    "\n",
    "**Want**: Compute each month’s total orders, sales, and\n",
    "quantities, separated by customer cohort and customer type.\n",
    "\n",
    "Read that carefully one more time…\n",
    "\n",
    "This exercise is a challenging one.\n",
    "\n",
    "Using the `reshape` and `groupby` tools you have learned, apply the want\n",
    "operator described above."
   ]
  },
  {
   "cell_type": "code",
   "execution_count": null,
   "id": "e3ef73df",
   "metadata": {
    "hide-output": false
   },
   "outputs": [],
   "source": [
    "# Your code here"
   ]
  },
  {
   "cell_type": "markdown",
   "id": "83d4d310",
   "metadata": {},
   "source": [
    "See below for advice on how to proceed.\n",
    "\n",
    "When you are finished, you should have something that looks like this:\n",
    "\n",
    "![https://datascience.quantecon.org/_static/groupby_cohort_analysis_exercise_output.png](https://datascience.quantecon.org/_static/groupby_cohort_analysis_exercise_output.png)\n",
    "\n",
    "  \n",
    "Two notes on the table above:\n",
    "\n",
    "The numbers you produce should actually be identical to those\n",
    ": included in this table… Index into your answer and compare your answers\n",
    "with this table to verify your progress.\n",
    "\n",
    "1. Your actual output will be much bigger – this just shows you what it might look like.  \n",
    "\n",
    "\n",
    "Now, how to do it?\n",
    "\n",
    "There is more than one way to code this, but here are some suggested\n",
    "steps:\n",
    "\n",
    "1. Convert the `Day` column to have a `datetime` `dtype` instead\n",
    "  of object (Hint: use the `pd.to_datetime` function).  \n",
    "1. Add a new column that specifies the date associated with each\n",
    "  customer’s `\"First-time\"` order.  \n",
    "  - Hint 1: You can do this with a combination of `groupby` and\n",
    "    `join`.  \n",
    "  - Hint 2: `customer_type` is always either `Returning` or\n",
    "    `First-time`.  \n",
    "  - Hint 3: Some customers don’t have a\n",
    "    `customer_type == \"First-time\"` entry. For these customers, you need to set their\n",
    "    values to some date that precedes the\n",
    "    sample’s dates. After adding valid data back into `orders` DataFrame,\n",
    "    you can identify the customers who don’t have a `\"First-Time\"`\n",
    "    entry by checking the new column for missing data.  \n",
    "1. You need to group by three things.  \n",
    "1. You can apply one of the built-in aggregation functions to the GroupBy.  \n",
    "1. After the aggregation, you need to use your reshaping skills to\n",
    "  move things to the proper rows and columns.  \n",
    "\n",
    "\n",
    "Good luck!"
   ]
  },
  {
   "cell_type": "markdown",
   "id": "de650456",
   "metadata": {},
   "source": [
    "## Questions 9-10\n",
    "\n",
    "Let’s look at another example.\n",
    "\n",
    "This time, we will use a dataset from the [Bureau of Transportation\n",
    "Statistics](https://www.transtats.bts.gov/OT_Delay/OT_DelayCause1.asp)\n",
    "that describes the cause for all US domestic flight delays in November 2016:\n",
    "\n",
    "Loading this dataset the first time will take a minute or two because it is quite hefty… We recommend taking a break to view this [xkcd comic](https://xkcd.com/303/)."
   ]
  },
  {
   "cell_type": "code",
   "execution_count": null,
   "id": "81d6f059",
   "metadata": {
    "hide-output": false
   },
   "outputs": [],
   "source": [
    "url = \"https://datascience.quantecon.org/assets/data/airline_performance_dec16.csv.zip\"\n",
    "air_perf = pd.read_csv(url)[[\"CRSDepTime\", \"Carrier\", \"CarrierDelay\", \"ArrDelay\"]]\n",
    "air_perf.info()\n",
    "air_perf.head()"
   ]
  },
  {
   "cell_type": "markdown",
   "id": "eae662db",
   "metadata": {},
   "source": [
    "The `Carrier` column identifies the airline while the `CarrierDelay`\n",
    "reports the total delay, in minutes, that was the “carrier’s fault”."
   ]
  },
  {
   "cell_type": "markdown",
   "id": "9b700a0a",
   "metadata": {},
   "source": [
    "### Question 9\n",
    "\n",
    "Determine the 10 airlines which, on average, contribute most to delays."
   ]
  },
  {
   "cell_type": "code",
   "execution_count": null,
   "id": "28dbfa80",
   "metadata": {
    "hide-output": false
   },
   "outputs": [],
   "source": [
    "# Your code here\n",
    "# avg_delays ="
   ]
  },
  {
   "cell_type": "markdown",
   "id": "c51276c3",
   "metadata": {},
   "source": [
    "### Question 10\n",
    "\n",
    "One issue with this dataset is that we might not know what all those two letter carrier codes are!\n",
    "\n",
    "Thankfully, we have a second dataset that maps two-letter codes\n",
    "to full airline names:"
   ]
  },
  {
   "cell_type": "code",
   "execution_count": null,
   "id": "c512eba3",
   "metadata": {
    "hide-output": false
   },
   "outputs": [],
   "source": [
    "url = \"https://datascience.quantecon.org/assets/data/airline_carrier_codes.csv.zip\"\n",
    "carrier_code = pd.read_csv(url)\n",
    "carrier_code.tail()"
   ]
  },
  {
   "cell_type": "markdown",
   "id": "62b973df",
   "metadata": {},
   "source": [
    "In this question, you should merge the carrier codes and the previously computed dataframe from Question 9 (the 10 airlines that contribute most to delays)."
   ]
  },
  {
   "cell_type": "code",
   "execution_count": null,
   "id": "8d404208",
   "metadata": {
    "hide-output": false
   },
   "outputs": [],
   "source": [
    "# Your code here\n",
    "# avg_delays_w_name"
   ]
  },
  {
   "cell_type": "markdown",
   "id": "0def029d",
   "metadata": {},
   "source": [
    "## Question 11\n",
    "\n",
    "In this question, we will load data from the World Bank. World Bank data is often stored in formats containing vestigial columns because of their data format standardization.\n",
    "\n",
    "This particular data contains the world’s age dependency ratios (old) across countries. The ratio is the number of people who are\n",
    "above 65 divided by the number of people between 16 and 65 and measures how many working\n",
    "individuals exist relative to the number of dependent (retired) individuals."
   ]
  },
  {
   "cell_type": "code",
   "execution_count": null,
   "id": "78a517e5",
   "metadata": {
    "hide-output": false
   },
   "outputs": [],
   "source": [
    "adr = pd.read_csv(\"https://datascience.quantecon.org/assets/data/WorldBank_AgeDependencyRatio.csv\")\n",
    "adr.head()"
   ]
  },
  {
   "cell_type": "markdown",
   "id": "b4e898a8",
   "metadata": {},
   "source": [
    "This data only has a single variable, so you can eliminate the `Series Name` and `Series Code`\n",
    "columns. You can also eliminate the `Country Code` or  `Country Name` column (but not both),\n",
    "since they contain repetitive information.\n",
    "\n",
    "We can organize this data in a couple of ways.\n",
    "\n",
    "The first (and the one we’d usually choose) is to place the years and country names on the index and\n",
    "have a single column. (If we had more variables, each variable could have its own column.)\n",
    "\n",
    "Another reasonable organization is to have one country per column and place the years on the index.\n",
    "\n",
    "Your goal is to reshape the data both ways. Which is easier? Which do you\n",
    "think a better organization method?"
   ]
  },
  {
   "cell_type": "code",
   "execution_count": null,
   "id": "1fa5a4b6",
   "metadata": {
    "hide-output": false
   },
   "outputs": [],
   "source": [
    "# Reshape to have years and countries on index"
   ]
  },
  {
   "cell_type": "code",
   "execution_count": null,
   "id": "75481b3c",
   "metadata": {
    "hide-output": false
   },
   "outputs": [],
   "source": [
    "# Reshape to have years on index and country identifiers as columns"
   ]
  }
 ],
 "metadata": {
  "date": 1626302434.406484,
  "filename": "problem_set_6.md",
  "kernelspec": {
   "display_name": "Python",
   "language": "python3",
   "name": "python3"
  },
  "title": "Problem Set 6"
 },
 "nbformat": 4,
 "nbformat_minor": 5
}