{
 "cells": [
  {
   "cell_type": "markdown",
   "id": "3d481f99",
   "metadata": {},
   "source": [
    "# Problem Sets\n",
    "\n",
    "Here are problem sets to check your understanding of the course material."
   ]
  }
 ],
 "metadata": {
  "date": 1626935586.8634655,
  "filename": "index.md",
  "kernelspec": {
   "display_name": "Python",
   "language": "python3",
   "name": "python3"
  },
  "title": "Problem Sets"
 },
 "nbformat": 4,
 "nbformat_minor": 5
}