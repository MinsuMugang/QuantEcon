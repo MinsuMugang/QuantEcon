{
 "cells": [
  {
   "cell_type": "markdown",
   "id": "2808de70",
   "metadata": {},
   "source": [
    "# Problem Set 5\n",
    "\n",
    "See [Optimization](https://datascience.quantecon.org/../scientific/optimization.html), [Introduction](https://datascience.quantecon.org/../pandas/intro.html), and [Basic Functionality](https://datascience.quantecon.org/../pandas/basics.html)"
   ]
  },
  {
   "cell_type": "code",
   "execution_count": null,
   "id": "d31a28ac",
   "metadata": {
    "hide-output": false
   },
   "outputs": [],
   "source": [
    "import pandas as pd\n",
    "import numpy as np\n",
    "\n",
    "%matplotlib inline\n",
    "# activate plot theme\n",
    "import qeds\n",
    "qeds.themes.mpl_style();"
   ]
  },
  {
   "cell_type": "markdown",
   "id": "1b464a97",
   "metadata": {},
   "source": [
    "## Setup for Question 1-5\n",
    "\n",
    "Load data from the [Basic Functionality](https://datascience.quantecon.org/../pandas/basics.html) lecture."
   ]
  },
  {
   "cell_type": "code",
   "execution_count": null,
   "id": "92b273f8",
   "metadata": {
    "hide-output": false
   },
   "outputs": [],
   "source": [
    "url = \"https://datascience.quantecon.org/assets/data/state_unemployment.csv\"\n",
    "unemp_raw = pd.read_csv(url, parse_dates=[\"Date\"])"
   ]
  },
  {
   "cell_type": "markdown",
   "id": "fc454a8c",
   "metadata": {},
   "source": [
    "And do the same manipulation as in the pandas basics lecture."
   ]
  },
  {
   "cell_type": "code",
   "execution_count": null,
   "id": "18f9ee1e",
   "metadata": {
    "hide-output": false
   },
   "outputs": [],
   "source": [
    "states = [\n",
    "    \"Arizona\", \"California\", \"Florida\", \"Illinois\",\n",
    "    \"Michigan\", \"New York\", \"Texas\"\n",
    "]\n",
    "\n",
    "unemp = (\n",
    "    unemp_raw\n",
    "    .reset_index()\n",
    "    .pivot_table(index=\"Date\", columns=\"state\", values=\"UnemploymentRate\")\n",
    "    [states]\n",
    ")"
   ]
  },
  {
   "cell_type": "markdown",
   "id": "4f3a1d68",
   "metadata": {},
   "source": [
    "## Question 1\n",
    "\n",
    "At each date, what is the minimum unemployment rate across all states\n",
    "in our sample?"
   ]
  },
  {
   "cell_type": "code",
   "execution_count": null,
   "id": "0b21230c",
   "metadata": {
    "hide-output": false
   },
   "outputs": [],
   "source": [
    "# Your code here"
   ]
  },
  {
   "cell_type": "markdown",
   "id": "5ef77127",
   "metadata": {},
   "source": [
    "What was the median unemployment rate in each state?"
   ]
  },
  {
   "cell_type": "code",
   "execution_count": null,
   "id": "586f6073",
   "metadata": {
    "hide-output": false
   },
   "outputs": [],
   "source": [
    "# Your code here"
   ]
  },
  {
   "cell_type": "markdown",
   "id": "f2a14872",
   "metadata": {},
   "source": [
    "What was the maximum unemployment rate across the states in our\n",
    "sample? In what state did it happen? In what month/year was this\n",
    "achieved?\n",
    "\n",
    "- Hint 1: What Python type (not `dtype`) is returned by a reduction?  \n",
    "- Hint 2: Read documentation for the method `idxmax`.  "
   ]
  },
  {
   "cell_type": "code",
   "execution_count": null,
   "id": "b16863a6",
   "metadata": {
    "hide-output": false
   },
   "outputs": [],
   "source": [
    "# Your code here"
   ]
  },
  {
   "cell_type": "markdown",
   "id": "987bc61c",
   "metadata": {},
   "source": [
    "Classify each state as high or low volatility based on whether the\n",
    "variance of their unemployment is above or below 4."
   ]
  },
  {
   "cell_type": "code",
   "execution_count": null,
   "id": "efaf8662",
   "metadata": {
    "hide-output": false
   },
   "outputs": [],
   "source": [
    "# Your code here"
   ]
  },
  {
   "cell_type": "markdown",
   "id": "35043b3d",
   "metadata": {},
   "source": [
    "## Question 2\n",
    "\n",
    "Imagine that we want to determine whether unemployment was high (> 6.5),\n",
    "medium (4.5 < x <= 6.5), or low (<= 4.5) for each state and each month.\n",
    "\n",
    "Write a Python function that takes a single number as an input and\n",
    "outputs a single string which notes whether that number is high, medium, or low."
   ]
  },
  {
   "cell_type": "code",
   "execution_count": null,
   "id": "f0c5b9c3",
   "metadata": {
    "hide-output": false
   },
   "outputs": [],
   "source": [
    "# Your code here"
   ]
  },
  {
   "cell_type": "markdown",
   "id": "7c9dec41",
   "metadata": {},
   "source": [
    "Pass your function to either `apply` or `applymap` and save the\n",
    "result in a new DataFrame called `unemp_bins`."
   ]
  },
  {
   "cell_type": "code",
   "execution_count": null,
   "id": "4e209469",
   "metadata": {
    "hide-output": false
   },
   "outputs": [],
   "source": [
    "# Your code here"
   ]
  },
  {
   "cell_type": "markdown",
   "id": "7dd951f4",
   "metadata": {},
   "source": [
    "## Question 3\n",
    "\n",
    "This exercise has multiple parts:\n",
    "\n",
    "Use another transformation on `unemp_bins` to count how many\n",
    "times each state had each of the three classifications.\n",
    "\n",
    "- Hint 1: Will you need to use `apply` or `applymap` for transformation?  \n",
    "- Hint 2: Try googling “pandas count unique value” or something similar to find the proper transformation.  "
   ]
  },
  {
   "cell_type": "code",
   "execution_count": null,
   "id": "c1786430",
   "metadata": {
    "hide-output": false
   },
   "outputs": [],
   "source": [
    "# Your code here"
   ]
  },
  {
   "cell_type": "markdown",
   "id": "eac92039",
   "metadata": {},
   "source": [
    "Construct a horizontal bar chart to detail the occurrences of each level.\n",
    "Use one bar per state and classification for 21 total bars."
   ]
  },
  {
   "cell_type": "code",
   "execution_count": null,
   "id": "43d67bac",
   "metadata": {
    "hide-output": false
   },
   "outputs": [],
   "source": [
    "# Your code here"
   ]
  },
  {
   "cell_type": "markdown",
   "id": "dc0212a1",
   "metadata": {},
   "source": [
    "## Question 4\n",
    "\n",
    "Repeat Question 3, but count how many states had\n",
    "each classification in each month. Which month had the most states\n",
    "with high unemployment? What about medium and low?\n",
    "\n",
    "Part 1: Write a Python function to classify unemployment levels"
   ]
  },
  {
   "cell_type": "code",
   "execution_count": null,
   "id": "58897d3e",
   "metadata": {
    "hide-output": false
   },
   "outputs": [],
   "source": [
    "# Your code here"
   ]
  },
  {
   "cell_type": "markdown",
   "id": "1acb7e90",
   "metadata": {},
   "source": [
    "Part 2: Decide whether you should use `.apply` or `.applymap`.\n",
    "\n",
    "Part 3: Pass your function from part 1 to the method you determined in Part 2."
   ]
  },
  {
   "cell_type": "code",
   "execution_count": null,
   "id": "eac0d8bf",
   "metadata": {
    "hide-output": false
   },
   "outputs": [],
   "source": [
    "unemp_bins = unemp#replace this comment with your code!!"
   ]
  },
  {
   "cell_type": "markdown",
   "id": "b914f9af",
   "metadata": {},
   "source": [
    "Part 4: Count the number of times each state had each classification."
   ]
  },
  {
   "cell_type": "code",
   "execution_count": null,
   "id": "40a2ade3",
   "metadata": {
    "hide-output": false
   },
   "outputs": [],
   "source": [
    "## then make a horizontal bar chart here"
   ]
  },
  {
   "cell_type": "markdown",
   "id": "ee5cf539",
   "metadata": {},
   "source": [
    "Part 5: Apply the same transformation from Part 4 to each date instead of to each state."
   ]
  },
  {
   "cell_type": "code",
   "execution_count": null,
   "id": "3fa74733",
   "metadata": {
    "hide-output": false
   },
   "outputs": [],
   "source": [
    "# Your code here"
   ]
  },
  {
   "cell_type": "markdown",
   "id": "855bf976",
   "metadata": {},
   "source": [
    "## Question 5\n",
    "\n",
    "For a single state of your choice, determine the mean\n",
    "unemployment during “Low”, “Medium”, and “High” unemployment times.\n",
    "(recall your `unemp_bins` DataFrame from the exercise above)"
   ]
  },
  {
   "cell_type": "code",
   "execution_count": null,
   "id": "754db6c6",
   "metadata": {
    "hide-output": false
   },
   "outputs": [],
   "source": [
    "# Your code here"
   ]
  },
  {
   "cell_type": "markdown",
   "id": "1f3a1de7",
   "metadata": {},
   "source": [
    "Which states in our sample performs the best during “bad times?” To\n",
    "determine this, compute each state’s mean unemployment in\n",
    "months where the mean unemployment rate is greater than 7."
   ]
  },
  {
   "cell_type": "code",
   "execution_count": null,
   "id": "4ecafeba",
   "metadata": {
    "hide-output": false
   },
   "outputs": [],
   "source": [
    "# Your code here"
   ]
  }
 ],
 "metadata": {
  "date": 1626302434.325273,
  "filename": "problem_set_5.md",
  "kernelspec": {
   "display_name": "Python",
   "language": "python3",
   "name": "python3"
  },
  "title": "Problem Set 5"
 },
 "nbformat": 4,
 "nbformat_minor": 5
}