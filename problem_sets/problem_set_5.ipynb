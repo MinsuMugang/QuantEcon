{
 "cells": [
  {
   "cell_type": "markdown",
   "id": "550fbfdf",
   "metadata": {},
   "source": [
    "# Problem Set 5\n",
    "\n",
    "See [../scientific/optimization](https://datascience.quantecon.org/../scientific/optimization.html), [../pandas/intro](https://datascience.quantecon.org/../pandas/intro.html), and [../pandas/basics](https://datascience.quantecon.org/../pandas/basics.html)"
   ]
  },
  {
   "cell_type": "code",
   "execution_count": null,
   "id": "3d81bc65",
   "metadata": {
    "hide-output": false
   },
   "outputs": [],
   "source": [
    "import pandas as pd\n",
    "import numpy as np\n",
    "\n",
    "%matplotlib inline\n",
    "# activate plot theme\n",
    "import qeds\n",
    "qeds.themes.mpl_style();"
   ]
  },
  {
   "cell_type": "markdown",
   "id": "181ed031",
   "metadata": {},
   "source": [
    "## Setup for Question 1-5\n",
    "\n",
    "Load data from the [../pandas/basics](https://datascience.quantecon.org/../pandas/basics.html) lecture."
   ]
  },
  {
   "cell_type": "code",
   "execution_count": null,
   "id": "a47548f0",
   "metadata": {
    "hide-output": false
   },
   "outputs": [],
   "source": [
    "url = \"https://datascience.quantecon.org/assets/data/state_unemployment.csv\"\n",
    "unemp_raw = pd.read_csv(url, parse_dates=[\"Date\"])"
   ]
  },
  {
   "cell_type": "markdown",
   "id": "06a14b4a",
   "metadata": {},
   "source": [
    "And do the same manipulation as in the pandas basics lecture."
   ]
  },
  {
   "cell_type": "code",
   "execution_count": null,
   "id": "e7e880dd",
   "metadata": {
    "hide-output": false
   },
   "outputs": [],
   "source": [
    "states = [\n",
    "    \"Arizona\", \"California\", \"Florida\", \"Illinois\",\n",
    "    \"Michigan\", \"New York\", \"Texas\"\n",
    "]\n",
    "\n",
    "unemp = (\n",
    "    unemp_raw\n",
    "    .reset_index()\n",
    "    .pivot_table(index=\"Date\", columns=\"state\", values=\"UnemploymentRate\")\n",
    "    [states]\n",
    ")"
   ]
  },
  {
   "cell_type": "markdown",
   "id": "a93a2733",
   "metadata": {},
   "source": [
    "## Question 1\n",
    "\n",
    "At each date, what is the minimum unemployment rate across all states\n",
    "in our sample?"
   ]
  },
  {
   "cell_type": "code",
   "execution_count": null,
   "id": "90d91f19",
   "metadata": {
    "hide-output": false
   },
   "outputs": [],
   "source": [
    "# Your code here"
   ]
  },
  {
   "cell_type": "markdown",
   "id": "e649c770",
   "metadata": {},
   "source": [
    "What was the median unemployment rate in each state?"
   ]
  },
  {
   "cell_type": "code",
   "execution_count": null,
   "id": "0f726383",
   "metadata": {
    "hide-output": false
   },
   "outputs": [],
   "source": [
    "# Your code here"
   ]
  },
  {
   "cell_type": "markdown",
   "id": "9bfc8de2",
   "metadata": {},
   "source": [
    "What was the maximum unemployment rate across the states in our\n",
    "sample? In what state did it happen? In what month/year was this\n",
    "achieved?\n",
    "\n",
    "- Hint 1: What Python type (not `dtype`) is returned by a reduction?  \n",
    "- Hint 2: Read documentation for the method `idxmax`.  "
   ]
  },
  {
   "cell_type": "code",
   "execution_count": null,
   "id": "ca599a7c",
   "metadata": {
    "hide-output": false
   },
   "outputs": [],
   "source": [
    "# Your code here"
   ]
  },
  {
   "cell_type": "markdown",
   "id": "46f67791",
   "metadata": {},
   "source": [
    "Classify each state as high or low volatility based on whether the\n",
    "variance of their unemployment is above or below 4."
   ]
  },
  {
   "cell_type": "code",
   "execution_count": null,
   "id": "21dbfb93",
   "metadata": {
    "hide-output": false
   },
   "outputs": [],
   "source": [
    "# Your code here"
   ]
  },
  {
   "cell_type": "markdown",
   "id": "4a5177e6",
   "metadata": {},
   "source": [
    "## Question 2\n",
    "\n",
    "Imagine that we want to determine whether unemployment was high (> 6.5),\n",
    "medium (4.5 < x <= 6.5), or low (<= 4.5) for each state and each month.\n",
    "\n",
    "Write a Python function that takes a single number as an input and\n",
    "outputs a single string which notes whether that number is high, medium, or low."
   ]
  },
  {
   "cell_type": "code",
   "execution_count": null,
   "id": "f40bf677",
   "metadata": {
    "hide-output": false
   },
   "outputs": [],
   "source": [
    "# Your code here"
   ]
  },
  {
   "cell_type": "markdown",
   "id": "6e620333",
   "metadata": {},
   "source": [
    "Pass your function to either `apply` or `applymap` and save the\n",
    "result in a new DataFrame called `unemp_bins`."
   ]
  },
  {
   "cell_type": "code",
   "execution_count": null,
   "id": "0c556d6d",
   "metadata": {
    "hide-output": false
   },
   "outputs": [],
   "source": [
    "# Your code here"
   ]
  },
  {
   "cell_type": "markdown",
   "id": "9353d583",
   "metadata": {},
   "source": [
    "## Question 3\n",
    "\n",
    "This exercise has multiple parts:\n",
    "\n",
    "Use another transformation on `unemp_bins` to count how many\n",
    "times each state had each of the three classifications.\n",
    "\n",
    "- Hint 1: Will you need to use `apply` or `applymap` for transformation?  \n",
    "- Hint 2: Try googling “pandas count unique value” or something similar to find the proper transformation.  "
   ]
  },
  {
   "cell_type": "code",
   "execution_count": null,
   "id": "d8aad131",
   "metadata": {
    "hide-output": false
   },
   "outputs": [],
   "source": [
    "# Your code here"
   ]
  },
  {
   "cell_type": "markdown",
   "id": "9ae02b89",
   "metadata": {},
   "source": [
    "Construct a horizontal bar chart to detail the occurrences of each level.\n",
    "Use one bar per state and classification for 21 total bars."
   ]
  },
  {
   "cell_type": "code",
   "execution_count": null,
   "id": "11ae3e12",
   "metadata": {
    "hide-output": false
   },
   "outputs": [],
   "source": [
    "# Your code here"
   ]
  },
  {
   "cell_type": "markdown",
   "id": "64919b6a",
   "metadata": {},
   "source": [
    "## Question 4\n",
    "\n",
    "Repeat Question 3, but count how many states had\n",
    "each classification in each month. Which month had the most states\n",
    "with high unemployment? What about medium and low?\n",
    "\n",
    "Part 1: Write a Python function to classify unemployment levels"
   ]
  },
  {
   "cell_type": "code",
   "execution_count": null,
   "id": "edf70d0e",
   "metadata": {
    "hide-output": false
   },
   "outputs": [],
   "source": [
    "# Your code here"
   ]
  },
  {
   "cell_type": "markdown",
   "id": "7df62f31",
   "metadata": {},
   "source": [
    "Part 2: Decide whether you should use `.apply` or `.applymap`.\n",
    "\n",
    "Part 3: Pass your function from part 1 to the method you determined in Part 2."
   ]
  },
  {
   "cell_type": "code",
   "execution_count": null,
   "id": "9fe9c0fc",
   "metadata": {
    "hide-output": false
   },
   "outputs": [],
   "source": [
    "unemp_bins = unemp#replace this comment with your code!!"
   ]
  },
  {
   "cell_type": "markdown",
   "id": "a8c9f4db",
   "metadata": {},
   "source": [
    "Part 4: Count the number of times each state had each classification."
   ]
  },
  {
   "cell_type": "code",
   "execution_count": null,
   "id": "7629341b",
   "metadata": {
    "hide-output": false
   },
   "outputs": [],
   "source": [
    "## then make a horizontal bar chart here"
   ]
  },
  {
   "cell_type": "markdown",
   "id": "cdce78d7",
   "metadata": {},
   "source": [
    "Part 5: Apply the same transformation from Part 4 to each date instead of to each state."
   ]
  },
  {
   "cell_type": "code",
   "execution_count": null,
   "id": "6a08542d",
   "metadata": {
    "hide-output": false
   },
   "outputs": [],
   "source": [
    "# Your code here"
   ]
  },
  {
   "cell_type": "markdown",
   "id": "b634ebd4",
   "metadata": {},
   "source": [
    "## Question 5\n",
    "\n",
    "For a single state of your choice, determine the mean\n",
    "unemployment during “Low”, “Medium”, and “High” unemployment times.\n",
    "(recall your `unemp_bins` DataFrame from the exercise above)"
   ]
  },
  {
   "cell_type": "code",
   "execution_count": null,
   "id": "616bfa0c",
   "metadata": {
    "hide-output": false
   },
   "outputs": [],
   "source": [
    "# Your code here"
   ]
  },
  {
   "cell_type": "markdown",
   "id": "68aaca61",
   "metadata": {},
   "source": [
    "Which states in our sample performs the best during “bad times?” To\n",
    "determine this, compute each state’s mean unemployment in\n",
    "months where the mean unemployment rate is greater than 7."
   ]
  },
  {
   "cell_type": "code",
   "execution_count": null,
   "id": "d81856d2",
   "metadata": {
    "hide-output": false
   },
   "outputs": [],
   "source": [
    "# Your code here"
   ]
  }
 ],
 "metadata": {
  "date": 1619504021.1377213,
  "filename": "problem_set_5.md",
  "kernelspec": {
   "display_name": "Python",
   "language": "python3",
   "name": "python3"
  },
  "title": "Problem Set 5"
 },
 "nbformat": 4,
 "nbformat_minor": 5
}