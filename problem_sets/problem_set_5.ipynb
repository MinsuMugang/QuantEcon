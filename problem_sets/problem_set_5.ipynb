{
 "cells": [
  {
   "cell_type": "markdown",
   "id": "eab542fd",
   "metadata": {},
   "source": [
    "# Problem Set 5\n",
    "\n",
    "See [Optimization](https://datascience.quantecon.org/../scientific/optimization.html), [Introduction](https://datascience.quantecon.org/../pandas/intro.html), and [Basic Functionality](https://datascience.quantecon.org/../pandas/basics.html)"
   ]
  },
  {
   "cell_type": "code",
   "execution_count": null,
   "id": "2b9f4c71",
   "metadata": {
    "hide-output": false
   },
   "outputs": [],
   "source": [
    "import pandas as pd\n",
    "import numpy as np\n",
    "\n",
    "%matplotlib inline\n",
    "# activate plot theme\n",
    "import qeds\n",
    "qeds.themes.mpl_style();"
   ]
  },
  {
   "cell_type": "markdown",
   "id": "58f3e43c",
   "metadata": {},
   "source": [
    "## Setup for Question 1-5\n",
    "\n",
    "Load data from the [Basic Functionality](https://datascience.quantecon.org/../pandas/basics.html) lecture."
   ]
  },
  {
   "cell_type": "code",
   "execution_count": null,
   "id": "43a9bdcd",
   "metadata": {
    "hide-output": false
   },
   "outputs": [],
   "source": [
    "url = \"https://datascience.quantecon.org/assets/data/state_unemployment.csv\"\n",
    "unemp_raw = pd.read_csv(url, parse_dates=[\"Date\"])"
   ]
  },
  {
   "cell_type": "markdown",
   "id": "c4d37cb2",
   "metadata": {},
   "source": [
    "And do the same manipulation as in the pandas basics lecture."
   ]
  },
  {
   "cell_type": "code",
   "execution_count": null,
   "id": "ce4aa44f",
   "metadata": {
    "hide-output": false
   },
   "outputs": [],
   "source": [
    "states = [\n",
    "    \"Arizona\", \"California\", \"Florida\", \"Illinois\",\n",
    "    \"Michigan\", \"New York\", \"Texas\"\n",
    "]\n",
    "\n",
    "unemp = (\n",
    "    unemp_raw\n",
    "    .reset_index()\n",
    "    .pivot_table(index=\"Date\", columns=\"state\", values=\"UnemploymentRate\")\n",
    "    [states]\n",
    ")"
   ]
  },
  {
   "cell_type": "markdown",
   "id": "18bc7b57",
   "metadata": {},
   "source": [
    "## Question 1\n",
    "\n",
    "At each date, what is the minimum unemployment rate across all states\n",
    "in our sample?"
   ]
  },
  {
   "cell_type": "code",
   "execution_count": null,
   "id": "82ed8614",
   "metadata": {
    "hide-output": false
   },
   "outputs": [],
   "source": [
    "# Your code here"
   ]
  },
  {
   "cell_type": "markdown",
   "id": "297a8164",
   "metadata": {},
   "source": [
    "What was the median unemployment rate in each state?"
   ]
  },
  {
   "cell_type": "code",
   "execution_count": null,
   "id": "8a0b9874",
   "metadata": {
    "hide-output": false
   },
   "outputs": [],
   "source": [
    "# Your code here"
   ]
  },
  {
   "cell_type": "markdown",
   "id": "9613303a",
   "metadata": {},
   "source": [
    "What was the maximum unemployment rate across the states in our\n",
    "sample? In what state did it happen? In what month/year was this\n",
    "achieved?\n",
    "\n",
    "- Hint 1: What Python type (not `dtype`) is returned by a reduction?  \n",
    "- Hint 2: Read documentation for the method `idxmax`.  "
   ]
  },
  {
   "cell_type": "code",
   "execution_count": null,
   "id": "6aa1845d",
   "metadata": {
    "hide-output": false
   },
   "outputs": [],
   "source": [
    "# Your code here"
   ]
  },
  {
   "cell_type": "markdown",
   "id": "17fe4608",
   "metadata": {},
   "source": [
    "Classify each state as high or low volatility based on whether the\n",
    "variance of their unemployment is above or below 4."
   ]
  },
  {
   "cell_type": "code",
   "execution_count": null,
   "id": "0e366885",
   "metadata": {
    "hide-output": false
   },
   "outputs": [],
   "source": [
    "# Your code here"
   ]
  },
  {
   "cell_type": "markdown",
   "id": "5e8bd007",
   "metadata": {},
   "source": [
    "## Question 2\n",
    "\n",
    "Imagine that we want to determine whether unemployment was high (> 6.5),\n",
    "medium (4.5 < x <= 6.5), or low (<= 4.5) for each state and each month.\n",
    "\n",
    "Write a Python function that takes a single number as an input and\n",
    "outputs a single string which notes whether that number is high, medium, or low."
   ]
  },
  {
   "cell_type": "code",
   "execution_count": null,
   "id": "c7f9743d",
   "metadata": {
    "hide-output": false
   },
   "outputs": [],
   "source": [
    "# Your code here"
   ]
  },
  {
   "cell_type": "markdown",
   "id": "7edc2f2a",
   "metadata": {},
   "source": [
    "Pass your function to either `apply` or `applymap` and save the\n",
    "result in a new DataFrame called `unemp_bins`."
   ]
  },
  {
   "cell_type": "code",
   "execution_count": null,
   "id": "1688e51a",
   "metadata": {
    "hide-output": false
   },
   "outputs": [],
   "source": [
    "# Your code here"
   ]
  },
  {
   "cell_type": "markdown",
   "id": "b4166fab",
   "metadata": {},
   "source": [
    "## Question 3\n",
    "\n",
    "This exercise has multiple parts:\n",
    "\n",
    "Use another transformation on `unemp_bins` to count how many\n",
    "times each state had each of the three classifications.\n",
    "\n",
    "- Hint 1: Will you need to use `apply` or `applymap` for transformation?  \n",
    "- Hint 2: Try googling “pandas count unique value” or something similar to find the proper transformation.  "
   ]
  },
  {
   "cell_type": "code",
   "execution_count": null,
   "id": "ed2b4b51",
   "metadata": {
    "hide-output": false
   },
   "outputs": [],
   "source": [
    "# Your code here"
   ]
  },
  {
   "cell_type": "markdown",
   "id": "781b8f06",
   "metadata": {},
   "source": [
    "Construct a horizontal bar chart to detail the occurrences of each level.\n",
    "Use one bar per state and classification for 21 total bars."
   ]
  },
  {
   "cell_type": "code",
   "execution_count": null,
   "id": "e8cac823",
   "metadata": {
    "hide-output": false
   },
   "outputs": [],
   "source": [
    "# Your code here"
   ]
  },
  {
   "cell_type": "markdown",
   "id": "52d1fc42",
   "metadata": {},
   "source": [
    "## Question 4\n",
    "\n",
    "Repeat Question 3, but count how many states had\n",
    "each classification in each month. Which month had the most states\n",
    "with high unemployment? What about medium and low?\n",
    "\n",
    "Part 1: Write a Python function to classify unemployment levels"
   ]
  },
  {
   "cell_type": "code",
   "execution_count": null,
   "id": "fca11a7c",
   "metadata": {
    "hide-output": false
   },
   "outputs": [],
   "source": [
    "# Your code here"
   ]
  },
  {
   "cell_type": "markdown",
   "id": "9c13e153",
   "metadata": {},
   "source": [
    "Part 2: Decide whether you should use `.apply` or `.applymap`.\n",
    "\n",
    "Part 3: Pass your function from part 1 to the method you determined in Part 2."
   ]
  },
  {
   "cell_type": "code",
   "execution_count": null,
   "id": "a4703fc4",
   "metadata": {
    "hide-output": false
   },
   "outputs": [],
   "source": [
    "unemp_bins = unemp#replace this comment with your code!!"
   ]
  },
  {
   "cell_type": "markdown",
   "id": "0f221e9a",
   "metadata": {},
   "source": [
    "Part 4: Count the number of times each state had each classification."
   ]
  },
  {
   "cell_type": "code",
   "execution_count": null,
   "id": "79baf7b0",
   "metadata": {
    "hide-output": false
   },
   "outputs": [],
   "source": [
    "## then make a horizontal bar chart here"
   ]
  },
  {
   "cell_type": "markdown",
   "id": "a418c7a3",
   "metadata": {},
   "source": [
    "Part 5: Apply the same transformation from Part 4 to each date instead of to each state."
   ]
  },
  {
   "cell_type": "code",
   "execution_count": null,
   "id": "7de90456",
   "metadata": {
    "hide-output": false
   },
   "outputs": [],
   "source": [
    "# Your code here"
   ]
  },
  {
   "cell_type": "markdown",
   "id": "666ae40d",
   "metadata": {},
   "source": [
    "## Question 5\n",
    "\n",
    "For a single state of your choice, determine the mean\n",
    "unemployment during “Low”, “Medium”, and “High” unemployment times.\n",
    "(recall your `unemp_bins` DataFrame from the exercise above)"
   ]
  },
  {
   "cell_type": "code",
   "execution_count": null,
   "id": "347528af",
   "metadata": {
    "hide-output": false
   },
   "outputs": [],
   "source": [
    "# Your code here"
   ]
  },
  {
   "cell_type": "markdown",
   "id": "72a2caf7",
   "metadata": {},
   "source": [
    "Which states in our sample performs the best during “bad times?” To\n",
    "determine this, compute each state’s mean unemployment in\n",
    "months where the mean unemployment rate is greater than 7."
   ]
  },
  {
   "cell_type": "code",
   "execution_count": null,
   "id": "67e2fd7f",
   "metadata": {
    "hide-output": false
   },
   "outputs": [],
   "source": [
    "# Your code here"
   ]
  }
 ],
 "metadata": {
  "date": 1621089297.2316911,
  "filename": "problem_set_5.md",
  "kernelspec": {
   "display_name": "Python",
   "language": "python3",
   "name": "python3"
  },
  "title": "Problem Set 5"
 },
 "nbformat": 4,
 "nbformat_minor": 5
}