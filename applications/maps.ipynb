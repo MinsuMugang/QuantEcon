{
 "cells": [
  {
   "cell_type": "markdown",
   "id": "94e9d605",
   "metadata": {},
   "source": [
    "# Mapping in Python\n",
    "\n",
    "**Co-author**\n",
    "\n",
    "> - [Kim Ruhl *University of Wisconsin*](http://kimjruhl.com)  \n",
    "\n",
    "\n",
    "\n",
    "**Prerequisites**\n",
    "\n",
    "- [matplotlib Introduction](https://datascience.quantecon.org/../pandas/matplotlib.html)  \n",
    "- [Visualization Rules](https://datascience.quantecon.org/visualization_rules.html)  \n",
    "\n",
    "\n",
    "**Outcomes**\n",
    "\n",
    "- Use geopandas to create maps  "
   ]
  },
  {
   "cell_type": "code",
   "execution_count": null,
   "id": "d7715727",
   "metadata": {
    "hide-output": false
   },
   "outputs": [],
   "source": [
    "# Uncomment following line to install on colab\n",
    "#! pip install qeds fiona geopandas xgboost gensim folium pyLDAvis descartes"
   ]
  },
  {
   "cell_type": "code",
   "execution_count": null,
   "id": "edc2c39f",
   "metadata": {
    "hide-output": false
   },
   "outputs": [],
   "source": [
    "import geopandas as gpd\n",
    "import matplotlib.pyplot as plt\n",
    "import pandas as pd\n",
    "\n",
    "from shapely.geometry import Point\n",
    "\n",
    "%matplotlib inline\n",
    "# activate plot theme\n",
    "import qeds\n",
    "qeds.themes.mpl_style();"
   ]
  },
  {
   "cell_type": "markdown",
   "id": "9655004e",
   "metadata": {},
   "source": [
    "## Mapping in Python\n",
    "\n",
    "In this lecture, we will use a new package, `geopandas`, to create maps.\n",
    "\n",
    "Maps are really quite complicated… We are trying to project a spherical surface onto a flat figure, which is an\n",
    "inherently complicated endeavor.\n",
    "\n",
    "Luckily, `geopandas` will do most of the heavy lifting for us.\n",
    "\n",
    "Let’s start with a DataFrame that has the latitude and longitude coordinates of various South American cities.\n",
    "\n",
    "Our goal is to turn them into something we can plot – in this case, a `GeoDataFrame`."
   ]
  },
  {
   "cell_type": "code",
   "execution_count": null,
   "id": "93411339",
   "metadata": {
    "hide-output": false
   },
   "outputs": [],
   "source": [
    "df = pd.DataFrame({\n",
    "    'City': ['Buenos Aires', 'Brasilia', 'Santiago', 'Bogota', 'Caracas'],\n",
    "    'Country': ['Argentina', 'Brazil', 'Chile', 'Colombia', 'Venezuela'],\n",
    "    'Latitude': [-34.58, -15.78, -33.45, 4.60, 10.48],\n",
    "    'Longitude': [-58.66, -47.91, -70.66, -74.08, -66.86]\n",
    "})"
   ]
  },
  {
   "cell_type": "markdown",
   "id": "cf174d46",
   "metadata": {},
   "source": [
    "In order to map the cities, we need tuples of coordinates.\n",
    "\n",
    "We generate them by zipping the latitude and longitude together to store them in a new column named `Coordinates`."
   ]
  },
  {
   "cell_type": "code",
   "execution_count": null,
   "id": "7713dcfc",
   "metadata": {
    "hide-output": false
   },
   "outputs": [],
   "source": [
    "df[\"Coordinates\"] = list(zip(df.Longitude, df.Latitude))\n",
    "df.head()"
   ]
  },
  {
   "cell_type": "markdown",
   "id": "814ce274",
   "metadata": {},
   "source": [
    "Our next step is to turn the tuple into a `Shapely` `Point` object.\n",
    "\n",
    "We will do this by applying Shapely’s `Point` method to the `Coordinates` column."
   ]
  },
  {
   "cell_type": "code",
   "execution_count": null,
   "id": "891cab4b",
   "metadata": {
    "hide-output": false
   },
   "outputs": [],
   "source": [
    "df[\"Coordinates\"] = df[\"Coordinates\"].apply(Point)\n",
    "df.head()"
   ]
  },
  {
   "cell_type": "markdown",
   "id": "b938e9ee",
   "metadata": {},
   "source": [
    "Finally, we will convert our DataFrame into a GeoDataFrame by calling the\n",
    "geopandas.DataFrame method.\n",
    "\n",
    "Conveniently, a GeoDataFrame is a data structure with the convenience of a\n",
    "normal DataFrame but also an understanding of how to plot maps.\n",
    "\n",
    "In the code below, we must specify the column that contains the geometry data.\n",
    "\n",
    "See this excerpt from the docs\n",
    "\n",
    "> The most important property of a GeoDataFrame is that it always has one GeoSeries column that\n",
    "holds a special status. This GeoSeries is referred to as the GeoDataFrame’s “geometry”. When a\n",
    "spatial method is applied to a GeoDataFrame (or a spatial attribute like area is called), this\n",
    "commands will always act on the “geometry” column."
   ]
  },
  {
   "cell_type": "code",
   "execution_count": null,
   "id": "c587a0ca",
   "metadata": {
    "hide-output": false
   },
   "outputs": [],
   "source": [
    "gdf = gpd.GeoDataFrame(df, geometry=\"Coordinates\")\n",
    "gdf.head()"
   ]
  },
  {
   "cell_type": "code",
   "execution_count": null,
   "id": "f79243c2",
   "metadata": {
    "hide-output": false
   },
   "outputs": [],
   "source": [
    "# Doesn't look different than a vanilla DataFrame...let's make sure we have what we want\n",
    "print('gdf is of type:', type(gdf))\n",
    "\n",
    "# And how can we tell which column is the geometry column?\n",
    "print('\\nThe geometry column is:', gdf.geometry.name)"
   ]
  },
  {
   "cell_type": "markdown",
   "id": "c6a99277",
   "metadata": {},
   "source": [
    "### Plotting a Map\n",
    "\n",
    "Great, now we have our points in the GeoDataFrame.\n",
    "\n",
    "Let’s plot the locations on a map.\n",
    "\n",
    "This will require 3 steps\n",
    "\n",
    "1. Get the map  \n",
    "1. Plot the map  \n",
    "1. Plot the points (our cities) on the map  "
   ]
  },
  {
   "cell_type": "markdown",
   "id": "54b390f4",
   "metadata": {},
   "source": [
    "#### 1. Get the map\n",
    "\n",
    "An organization called [Natural Earth](https://www.naturalearthdata.com/) compiled the map data\n",
    "that we use here.\n",
    "\n",
    "The file provides the outlines of countries, over which we’ll plot the city locations\n",
    "from our GeoDataFrame.\n",
    "\n",
    "Luckily, `geopandas` already comes bundled with this data, so we don’t\n",
    "have to hunt it down!"
   ]
  },
  {
   "cell_type": "code",
   "execution_count": null,
   "id": "64e827e6",
   "metadata": {
    "hide-output": false
   },
   "outputs": [],
   "source": [
    "# Grab low resolution world file\n",
    "world = gpd.read_file(gpd.datasets.get_path(\"naturalearth_lowres\"))\n",
    "world = world.set_index(\"iso_a3\")\n",
    "\n",
    "world.head()"
   ]
  },
  {
   "cell_type": "markdown",
   "id": "8294818c",
   "metadata": {},
   "source": [
    "`world` is a GeoDataFrame with the following columns:\n",
    "\n",
    "- `pop_est`: Contains a population estimate for the country  \n",
    "- `continent`: The country’s continent  \n",
    "- `name`: The country’s name  \n",
    "- `iso_a3`: The country’s 3 letter abbreviation (we made this the index)  \n",
    "- `gdp_md_est`: An estimate of country’s GDP  \n",
    "- `geometry`: A `POLYGON` for each country (we will learn more about these soon)  "
   ]
  },
  {
   "cell_type": "code",
   "execution_count": null,
   "id": "f533ecca",
   "metadata": {
    "hide-output": false
   },
   "outputs": [],
   "source": [
    "world.geometry.name"
   ]
  },
  {
   "cell_type": "markdown",
   "id": "cf311a2d",
   "metadata": {},
   "source": [
    "Notice that the geometry for this GeoDataFrame is stored in the `geometry` column.\n",
    "\n",
    "**A quick note about polygons**\n",
    "\n",
    "Instead of points (as our cities are), the geometry objects are now polygons.\n",
    "\n",
    "A polygon is what you already likely think it is – a collection of ordered points\n",
    "connected by straight lines.\n",
    "\n",
    "The smaller the distance between the points, the more readily the polygon can approximate\n",
    "non-linear shapes.\n",
    "\n",
    "Let’s see an example of a polygon."
   ]
  },
  {
   "cell_type": "code",
   "execution_count": null,
   "id": "887902b9",
   "metadata": {
    "hide-output": false
   },
   "outputs": [],
   "source": [
    "world.loc[\"ALB\", 'geometry']"
   ]
  },
  {
   "cell_type": "markdown",
   "id": "1588a57e",
   "metadata": {},
   "source": [
    "Notice that it displayed the country of Albania."
   ]
  },
  {
   "cell_type": "code",
   "execution_count": null,
   "id": "47c2e7df",
   "metadata": {
    "hide-output": false
   },
   "outputs": [],
   "source": [
    "# Returns two arrays that hold the x and y coordinates of the points that define the polygon's exterior.\n",
    "x, y = world.loc[\"ALB\", \"geometry\"].exterior.coords.xy\n",
    "\n",
    "# How many points?\n",
    "print('Points in the exterior of Albania:', len(x))"
   ]
  },
  {
   "cell_type": "markdown",
   "id": "1924d1fa",
   "metadata": {},
   "source": [
    "Let’s see another"
   ]
  },
  {
   "cell_type": "code",
   "execution_count": null,
   "id": "6e37c84f",
   "metadata": {
    "hide-output": false
   },
   "outputs": [],
   "source": [
    "world.loc[\"AFG\", \"geometry\"]"
   ]
  },
  {
   "cell_type": "code",
   "execution_count": null,
   "id": "ddf6fcf6",
   "metadata": {
    "hide-output": false
   },
   "outputs": [],
   "source": [
    "# Returns two arrays that hold the x and y coordinates of the points that define the polygon's exterior.\n",
    "x, y = world.loc[\"AFG\", 'geometry'].exterior.coords.xy\n",
    "\n",
    "# How many points?\n",
    "print('Points in the exterior of Afghanistan:', len(x))"
   ]
  },
  {
   "cell_type": "markdown",
   "id": "6450df68",
   "metadata": {},
   "source": [
    "Notice that we’ve now displayed Afghanistan.\n",
    "\n",
    "This is a more complex shape than Albania and thus required more points."
   ]
  },
  {
   "cell_type": "markdown",
   "id": "be1c372c",
   "metadata": {},
   "source": [
    "#### 2. Plotting the map"
   ]
  },
  {
   "cell_type": "code",
   "execution_count": null,
   "id": "9e11abc0",
   "metadata": {
    "hide-output": false
   },
   "outputs": [],
   "source": [
    "fig, gax = plt.subplots(figsize=(10,10))\n",
    "\n",
    "# By only plotting rows in which the continent is 'South America' we only plot SA.\n",
    "world.query(\"continent == 'South America'\").plot(ax=gax, edgecolor='black',color='white')\n",
    "\n",
    "# By the way, if you haven't read the book 'longitude' by Dava Sobel, you should...\n",
    "gax.set_xlabel('longitude')\n",
    "gax.set_ylabel('latitude')\n",
    "\n",
    "gax.spines['top'].set_visible(False)\n",
    "gax.spines['right'].set_visible(False)\n",
    "\n",
    "plt.show()"
   ]
  },
  {
   "cell_type": "markdown",
   "id": "cbdb403e",
   "metadata": {},
   "source": [
    "Creating this map may have been easier than you expected!\n",
    "\n",
    "In reality, a lot of heavy lifting is going on behind the scenes.\n",
    "\n",
    "Entire university classes (and even majors!) focus on the theory and thought\n",
    "that goes into creating maps, but, for now, we are happy to rely on the work done by the\n",
    "experts behind `geopandas` and its related libraries."
   ]
  },
  {
   "cell_type": "markdown",
   "id": "02cfb9c0",
   "metadata": {},
   "source": [
    "#### 3. Plot the cities\n",
    "\n",
    "In the code below, we run the same commands as before to plot the South American countries, but\n",
    ", now, we also plot the data in `gdf`, which contains the location of South American cities."
   ]
  },
  {
   "cell_type": "code",
   "execution_count": null,
   "id": "fee5b51a",
   "metadata": {
    "hide-output": false
   },
   "outputs": [],
   "source": [
    "# Step 3: Plot the cities onto the map\n",
    "# We mostly use the code from before --- we still want the country borders plotted --- and we\n",
    "# add a command to plot the cities\n",
    "fig, gax = plt.subplots(figsize=(10,10))\n",
    "\n",
    "# By only plotting rows in which the continent is 'South America' we only plot, well,\n",
    "# South America.\n",
    "world.query(\"continent == 'South America'\").plot(ax = gax, edgecolor='black', color='white')\n",
    "\n",
    "# This plot the cities. It's the same syntax, but we are plotting from a different GeoDataFrame.\n",
    "# I want the cities as pale red dots.\n",
    "gdf.plot(ax=gax, color='red', alpha = 0.5)\n",
    "\n",
    "gax.set_xlabel('longitude')\n",
    "gax.set_ylabel('latitude')\n",
    "gax.set_title('South America')\n",
    "\n",
    "gax.spines['top'].set_visible(False)\n",
    "gax.spines['right'].set_visible(False)\n",
    "\n",
    "plt.show()"
   ]
  },
  {
   "cell_type": "markdown",
   "id": "78fe8169",
   "metadata": {},
   "source": [
    "**Adding labels to points**.\n",
    "\n",
    "Finally, we might want to consider annotating the cities so we know which cities are which."
   ]
  },
  {
   "cell_type": "code",
   "execution_count": null,
   "id": "e7481be9",
   "metadata": {
    "hide-output": false
   },
   "outputs": [],
   "source": [
    "# Step 3: Plot the cities onto the map\n",
    "# We mostly use the code from before --- we still want the country borders plotted --- and we add a command to plot the cities\n",
    "fig, gax = plt.subplots(figsize=(10,10))\n",
    "\n",
    "# By only plotting rows in which the continent is 'South America' we only plot, well, South America.\n",
    "world.query(\"continent == 'South America'\").plot(ax = gax, edgecolor='black', color='white')\n",
    "\n",
    "# This plot the cities. It's the same syntax, but we are plotting from a different GeoDataFrame. I want the\n",
    "# cities as pale red dots.\n",
    "gdf.plot(ax=gax, color='red', alpha = 0.5)\n",
    "\n",
    "gax.set_xlabel('longitude')\n",
    "gax.set_ylabel('latitude')\n",
    "gax.set_title('South America')\n",
    "\n",
    "# Kill the spines...\n",
    "gax.spines['top'].set_visible(False)\n",
    "gax.spines['right'].set_visible(False)\n",
    "\n",
    "# ...or get rid of all the axis. Is it important to know the lat and long?\n",
    "# plt.axis('off')\n",
    "\n",
    "\n",
    "# Label the cities\n",
    "for x, y, label in zip(gdf['Coordinates'].x, gdf['Coordinates'].y, gdf['City']):\n",
    "    gax.annotate(label, xy=(x,y), xytext=(4,4), textcoords='offset points')\n",
    "\n",
    "plt.show()"
   ]
  },
  {
   "cell_type": "markdown",
   "id": "5dffd85c",
   "metadata": {},
   "source": [
    "## Case Study: Voting in Wisconsin\n",
    "\n",
    "In the example that follows, we will demonstrate how each county in Wisconsin voted during the 2016\n",
    "Presidential Election.\n",
    "\n",
    "Along the way, we will learn a couple of valuable lessons:\n",
    "\n",
    "1. Where to find shape files for US states and counties  \n",
    "1. How to match census style data to shape files  "
   ]
  },
  {
   "cell_type": "markdown",
   "id": "a67b4812",
   "metadata": {},
   "source": [
    "### Find and Plot State Border\n",
    "\n",
    "Our first step will be to find the border for the state of interest. This can be found on the [US\n",
    "Census’s website here](https://www.census.gov/geographies/mapping-files/time-series/geo/carto-boundary-file.html).\n",
    "\n",
    "You can download the `cb_2016_us_state_5m.zip` by hand, or simply allow `geopandas` to extract\n",
    "the relevant information from the zip file online."
   ]
  },
  {
   "cell_type": "code",
   "execution_count": null,
   "id": "dd42d92b",
   "metadata": {
    "hide-output": false
   },
   "outputs": [],
   "source": [
    "state_df = gpd.read_file(\"cb_2016_us_state_5m.zip\")\n",
    "state_df.head()"
   ]
  },
  {
   "cell_type": "code",
   "execution_count": null,
   "id": "9eaca51c",
   "metadata": {
    "hide-output": false
   },
   "outputs": [],
   "source": [
    "print(state_df.columns)"
   ]
  },
  {
   "cell_type": "markdown",
   "id": "741bdd8b",
   "metadata": {},
   "source": [
    "We have various columns, but, most importantly, we can find the right geometry by filtering by name."
   ]
  },
  {
   "cell_type": "code",
   "execution_count": null,
   "id": "f230112b",
   "metadata": {
    "hide-output": false
   },
   "outputs": [],
   "source": [
    "fig, gax = plt.subplots(figsize=(10, 10))\n",
    "state_df.query(\"NAME == 'Wisconsin'\").plot(ax=gax, edgecolor=\"black\", color=\"white\")\n",
    "plt.show()"
   ]
  },
  {
   "cell_type": "markdown",
   "id": "41400cbf",
   "metadata": {},
   "source": [
    "### Find and Plot County Borders\n",
    "\n",
    "Next, we will add the county borders to our map.\n",
    "\n",
    "The county shape files (for the entire US) can be found on the [Census\n",
    "site](https://www.census.gov/geo/maps-data/data/cbf/cbf_counties.html).\n",
    "\n",
    "Once again, we will use the 5m resolution."
   ]
  },
  {
   "cell_type": "code",
   "execution_count": null,
   "id": "8d253547",
   "metadata": {
    "hide-output": false
   },
   "outputs": [],
   "source": [
    "county_df = gpd.read_file(\"cb_2016_us_county_5m.zip\")\n",
    "county_df.head()"
   ]
  },
  {
   "cell_type": "code",
   "execution_count": null,
   "id": "2a97406f",
   "metadata": {
    "hide-output": false
   },
   "outputs": [],
   "source": [
    "print(county_df.columns)"
   ]
  },
  {
   "cell_type": "markdown",
   "id": "77164957",
   "metadata": {},
   "source": [
    "Wisconsin’s FIPS code is 55 so we will make sure that we only keep those counties."
   ]
  },
  {
   "cell_type": "code",
   "execution_count": null,
   "id": "7fdf9eb3",
   "metadata": {
    "hide-output": false
   },
   "outputs": [],
   "source": [
    "county_df = county_df.query(\"STATEFP == '55'\")"
   ]
  },
  {
   "cell_type": "markdown",
   "id": "c0e2259e",
   "metadata": {},
   "source": [
    "Now we can plot all counties in Wisconsin."
   ]
  },
  {
   "cell_type": "code",
   "execution_count": null,
   "id": "0b1d6ac9",
   "metadata": {
    "hide-output": false
   },
   "outputs": [],
   "source": [
    "fig, gax = plt.subplots(figsize=(10, 10))\n",
    "\n",
    "state_df.query(\"NAME == 'Wisconsin'\").plot(ax=gax, edgecolor=\"black\", color=\"white\")\n",
    "county_df.plot(ax=gax, edgecolor=\"black\", color=\"white\")\n",
    "\n",
    "plt.show()"
   ]
  },
  {
   "cell_type": "markdown",
   "id": "2ca3e995",
   "metadata": {},
   "source": [
    "### Get Vote Data\n",
    "\n",
    "The final step is to get the vote data, which can be found online on [this site](https://elections.wi.gov/elections-voting/results/2016/fall-general).\n",
    "\n",
    "Our friend Kim says,\n",
    "\n",
    "> Go ahead and open up the file. It’s a mess! I saved a cleaned up version of the file to\n",
    "`results.csv` which we can use to save the hassle with cleaning the data. For fun, you should\n",
    "load the raw data and try beating it into shape. That’s what you normally would have to do…\n",
    "and it’s fun.\n",
    "\n",
    "\n",
    "We’d like to add that such an exercise is also “good for you” (similar to how vegetables are good for you).\n",
    "\n",
    "But, for the example in class, we’ll simply start with his cleaned data."
   ]
  },
  {
   "cell_type": "code",
   "execution_count": null,
   "id": "ff70c4c6",
   "metadata": {
    "hide-output": false
   },
   "outputs": [],
   "source": [
    "results = pd.read_csv(\"https://raw.githubusercontent.com/QuantEcon/lecture-datascience.myst/main/lectures/applications/ruhl_cleaned_results.csv\", thousands=\",\")\n",
    "results.head()"
   ]
  },
  {
   "cell_type": "markdown",
   "id": "ecfe62a2",
   "metadata": {},
   "source": [
    "Notice that this is NOT a GeoDataFrame; it has no geographical information.\n",
    "\n",
    "But it does have the names of each county.\n",
    "\n",
    "We will be able to use this to match to the counties from `county_df`.\n",
    "\n",
    "First, we need to finish up the data cleaning."
   ]
  },
  {
   "cell_type": "code",
   "execution_count": null,
   "id": "438979a8",
   "metadata": {
    "hide-output": false
   },
   "outputs": [],
   "source": [
    "results[\"county\"] = results[\"county\"].str.title()\n",
    "results[\"county\"] = results[\"county\"].str.strip()\n",
    "county_df[\"NAME\"] = county_df[\"NAME\"].str.title()\n",
    "county_df[\"NAME\"] = county_df[\"NAME\"].str.strip()"
   ]
  },
  {
   "cell_type": "markdown",
   "id": "88b757ab",
   "metadata": {},
   "source": [
    "Then, we can merge election results with the county data."
   ]
  },
  {
   "cell_type": "code",
   "execution_count": null,
   "id": "10873564",
   "metadata": {
    "hide-output": false
   },
   "outputs": [],
   "source": [
    "res_w_states = county_df.merge(results, left_on=\"NAME\", right_on=\"county\", how=\"inner\")"
   ]
  },
  {
   "cell_type": "markdown",
   "id": "774d4a89",
   "metadata": {},
   "source": [
    "Next, we’ll create a new variable called `trump_share`, which will denote the percentage of votes that\n",
    "Donald Trump won during the election."
   ]
  },
  {
   "cell_type": "code",
   "execution_count": null,
   "id": "6b46c621",
   "metadata": {
    "hide-output": false
   },
   "outputs": [],
   "source": [
    "res_w_states[\"trump_share\"] = res_w_states[\"trump\"] / (res_w_states[\"total\"])\n",
    "res_w_states[\"rel_trump_share\"] = res_w_states[\"trump\"] / (res_w_states[\"trump\"]+res_w_states[\"clinton\"])\n",
    "res_w_states.head()"
   ]
  },
  {
   "cell_type": "markdown",
   "id": "224eaaea",
   "metadata": {},
   "source": [
    "Finally, we can create our map."
   ]
  },
  {
   "cell_type": "code",
   "execution_count": null,
   "id": "c44a5bd3",
   "metadata": {
    "hide-output": false
   },
   "outputs": [],
   "source": [
    "fig, gax = plt.subplots(figsize = (10,8))\n",
    "\n",
    "# Plot the state\n",
    "state_df[state_df['NAME'] == 'Wisconsin'].plot(ax = gax, edgecolor='black',color='white')\n",
    "\n",
    "# Plot the counties and pass 'rel_trump_share' as the data to color\n",
    "res_w_states.plot(\n",
    "    ax=gax, edgecolor='black', column='rel_trump_share', legend=True, cmap='RdBu_r',\n",
    "    vmin=0.2, vmax=0.8\n",
    ")\n",
    "\n",
    "# Add text to let people know what we are plotting\n",
    "gax.annotate('Republican vote share',xy=(0.76, 0.06),  xycoords='figure fraction')\n",
    "\n",
    "# I don't want the axis with long and lat\n",
    "plt.axis('off')\n",
    "\n",
    "plt.show()"
   ]
  },
  {
   "cell_type": "markdown",
   "id": "a7705589",
   "metadata": {},
   "source": [
    "What do you see from this map?\n",
    "\n",
    "How many counties did Trump win? How many did Clinton win?"
   ]
  },
  {
   "cell_type": "code",
   "execution_count": null,
   "id": "1c14968b",
   "metadata": {
    "hide-output": false
   },
   "outputs": [],
   "source": [
    "res_w_states.eval(\"trump > clinton\").sum()"
   ]
  },
  {
   "cell_type": "code",
   "execution_count": null,
   "id": "7f7663ef",
   "metadata": {
    "hide-output": false
   },
   "outputs": [],
   "source": [
    "res_w_states.eval(\"clinton > trump\").sum()"
   ]
  },
  {
   "cell_type": "markdown",
   "id": "e739dba5",
   "metadata": {},
   "source": [
    "Who had more votes? Do you think a comparison in counties won or votes won is more reasonable? Why\n",
    "do you think they diverge?"
   ]
  },
  {
   "cell_type": "code",
   "execution_count": null,
   "id": "116ee591",
   "metadata": {
    "hide-output": false
   },
   "outputs": [],
   "source": [
    "res_w_states[\"trump\"].sum()"
   ]
  },
  {
   "cell_type": "code",
   "execution_count": null,
   "id": "9ab55efb",
   "metadata": {
    "hide-output": false
   },
   "outputs": [],
   "source": [
    "res_w_states[\"clinton\"].sum()"
   ]
  },
  {
   "cell_type": "markdown",
   "id": "6a63c02e",
   "metadata": {},
   "source": [
    "What story could you tell about this divergence?"
   ]
  },
  {
   "cell_type": "markdown",
   "id": "63070ca5",
   "metadata": {},
   "source": [
    "### Interactivity\n",
    "\n",
    "Multiple Python libraries can help create interactive figures.\n",
    "\n",
    "Here, we will see an example using bokeh.\n",
    "\n",
    "In the another lecture, we will see an example with folium."
   ]
  },
  {
   "cell_type": "code",
   "execution_count": null,
   "id": "f014695b",
   "metadata": {
    "hide-output": false
   },
   "outputs": [],
   "source": [
    "from bokeh.io import output_notebook\n",
    "from bokeh.plotting import figure, ColumnDataSource\n",
    "from bokeh.io import output_notebook, show, output_file\n",
    "from bokeh.plotting import figure\n",
    "from bokeh.models import GeoJSONDataSource, LinearColorMapper, ColorBar, HoverTool\n",
    "from bokeh.palettes import brewer\n",
    "output_notebook()\n",
    "import json\n",
    "res_w_states[\"clinton_share\"] = res_w_states[\"clinton\"] / res_w_states[\"total\"]\n",
    "#Convert data to geojson for bokeh\n",
    "wi_geojson=GeoJSONDataSource(geojson=res_w_states.to_json())"
   ]
  },
  {
   "cell_type": "code",
   "execution_count": null,
   "id": "13cdd05a",
   "metadata": {
    "hide-output": false
   },
   "outputs": [],
   "source": [
    "color_mapper = LinearColorMapper(palette = brewer['RdBu'][10], low = 0, high = 1)\n",
    "color_bar = ColorBar(color_mapper=color_mapper, label_standoff=8,width = 500, height = 20,\n",
    "                     border_line_color=None,location = (0,0), orientation = 'horizontal')\n",
    "hover = HoverTool(tooltips = [ ('County','@county'),('Portion Trump', '@trump_share'),\n",
    "                               ('Portion Clinton','@clinton_share'),\n",
    "                               ('Total','@total')])\n",
    "p = figure(title=\"Wisconsin Voting in 2016 Presidential Election\", tools=[hover])\n",
    "p.patches(\"xs\",\"ys\",source=wi_geojson,\n",
    "          fill_color = {'field' :'rel_trump_share', 'transform' : color_mapper})\n",
    "p.add_layout(color_bar, 'below')\n",
    "show(p)"
   ]
  }
 ],
 "metadata": {
  "date": 1623378094.7981496,
  "filename": "maps.md",
  "kernelspec": {
   "display_name": "Python",
   "language": "python3",
   "name": "python3"
  },
  "title": "Mapping in Python"
 },
 "nbformat": 4,
 "nbformat_minor": 5
}