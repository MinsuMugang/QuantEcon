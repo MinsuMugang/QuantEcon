{
 "cells": [
  {
   "cell_type": "markdown",
   "id": "0d6b3d0d",
   "metadata": {},
   "source": [
    "# Applications\n",
    "\n",
    "In this part of the course, we will begin to apply the skills that you have learned. This\n",
    "includes using familiar tools in new applications and learning new tools that can be used for\n",
    "special types of analysis."
   ]
  },
  {
   "cell_type": "markdown",
   "id": "e08dbc6a",
   "metadata": {},
   "source": [
    "##  [Data Visualization: Rules and Guidelines](https://datascience.quantecon.org/visualization_rules.html)"
   ]
  },
  {
   "cell_type": "markdown",
   "id": "812514cd",
   "metadata": {},
   "source": [
    "##  [Regression](https://datascience.quantecon.org/regression.html)"
   ]
  },
  {
   "cell_type": "markdown",
   "id": "5983b819",
   "metadata": {},
   "source": [
    "##  [Case Study: Recidivism](https://datascience.quantecon.org/recidivism.html)"
   ]
  },
  {
   "cell_type": "markdown",
   "id": "4ae561da",
   "metadata": {},
   "source": [
    "##  [Mapping in Python](https://datascience.quantecon.org/maps.html)"
   ]
  },
  {
   "cell_type": "markdown",
   "id": "36cfe234",
   "metadata": {},
   "source": [
    "##  [Classification](https://datascience.quantecon.org/classification.html)"
   ]
  },
  {
   "cell_type": "markdown",
   "id": "a3c94243",
   "metadata": {},
   "source": [
    "##  [Working with Text](https://datascience.quantecon.org/working_with_text.html)"
   ]
  },
  {
   "cell_type": "markdown",
   "id": "507c4844",
   "metadata": {},
   "source": [
    "##  [Machine Learning in Economics](https://datascience.quantecon.org/ml_in_economics.html)"
   ]
  },
  {
   "cell_type": "markdown",
   "id": "17722397",
   "metadata": {},
   "source": [
    "##  [Heterogeneous Effects](https://datascience.quantecon.org/heterogeneity.html)"
   ]
  }
 ],
 "metadata": {
  "date": 1626302430.947754,
  "filename": "index.md",
  "kernelspec": {
   "display_name": "Python",
   "language": "python3",
   "name": "python3"
  },
  "title": "Applications"
 },
 "nbformat": 4,
 "nbformat_minor": 5
}