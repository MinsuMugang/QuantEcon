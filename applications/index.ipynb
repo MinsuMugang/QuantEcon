{
 "cells": [
  {
   "cell_type": "markdown",
   "id": "ec4d1e8a",
   "metadata": {},
   "source": [
    "# Applications\n",
    "\n",
    "In this part of the course, we will begin to apply the skills that you have learned. This\n",
    "includes using familiar tools in new applications and learning new tools that can be used for\n",
    "special types of analysis."
   ]
  },
  {
   "cell_type": "markdown",
   "id": "6bf76c18",
   "metadata": {},
   "source": [
    "##  [Data Visualization: Rules and Guidelines](https://datascience.quantecon.org/visualization_rules.html)"
   ]
  },
  {
   "cell_type": "markdown",
   "id": "8a3d31d0",
   "metadata": {},
   "source": [
    "##  [Regression](https://datascience.quantecon.org/regression.html)"
   ]
  },
  {
   "cell_type": "markdown",
   "id": "d5a72726",
   "metadata": {},
   "source": [
    "##  [Case Study: Recidivism](https://datascience.quantecon.org/recidivism.html)"
   ]
  },
  {
   "cell_type": "markdown",
   "id": "9f50c5e0",
   "metadata": {},
   "source": [
    "##  [Mapping in Python](https://datascience.quantecon.org/maps.html)"
   ]
  },
  {
   "cell_type": "markdown",
   "id": "0b7934b4",
   "metadata": {},
   "source": [
    "##  [Classification](https://datascience.quantecon.org/classification.html)"
   ]
  },
  {
   "cell_type": "markdown",
   "id": "c649c3e3",
   "metadata": {},
   "source": [
    "##  [Working with Text](https://datascience.quantecon.org/working_with_text.html)"
   ]
  },
  {
   "cell_type": "markdown",
   "id": "cb31d72a",
   "metadata": {},
   "source": [
    "##  [Machine Learning in Economics](https://datascience.quantecon.org/ml_in_economics.html)"
   ]
  },
  {
   "cell_type": "markdown",
   "id": "65b9ca89",
   "metadata": {},
   "source": [
    "##  [Heterogeneous Effects](https://datascience.quantecon.org/heterogeneity.html)"
   ]
  }
 ],
 "metadata": {
  "date": 1665536764.9802322,
  "filename": "index.md",
  "kernelspec": {
   "display_name": "Python",
   "language": "python3",
   "name": "python3"
  },
  "title": "Applications"
 },
 "nbformat": 4,
 "nbformat_minor": 5
}