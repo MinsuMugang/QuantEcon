{
 "cells": [
  {
   "cell_type": "markdown",
   "id": "5d586892",
   "metadata": {},
   "source": [
    "# Applications\n",
    "\n",
    "In this part of the course, we will begin to apply the skills that you have learned. This\n",
    "includes using familiar tools in new applications and learning new tools that can be used for\n",
    "special types of analysis."
   ]
  }
 ],
 "metadata": {
  "date": 1620602108.7285652,
  "filename": "index.md",
  "kernelspec": {
   "display_name": "Python",
   "language": "python3",
   "name": "python3"
  },
  "title": "Applications"
 },
 "nbformat": 4,
 "nbformat_minor": 5
}