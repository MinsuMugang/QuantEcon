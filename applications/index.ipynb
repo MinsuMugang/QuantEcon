{
 "cells": [
  {
   "cell_type": "markdown",
   "id": "ba6571ae",
   "metadata": {},
   "source": [
    "# Applications\n",
    "\n",
    "In this part of the course, we will begin to apply the skills that you have learned. This\n",
    "includes using familiar tools in new applications and learning new tools that can be used for\n",
    "special types of analysis."
   ]
  },
  {
   "cell_type": "markdown",
   "id": "b6341dcd",
   "metadata": {},
   "source": [
    "##  [Data Visualization: Rules and Guidelines](https://quantecon.github.io/lecture-datascience.myst/visualization_rules.html)"
   ]
  },
  {
   "cell_type": "markdown",
   "id": "dc06bab1",
   "metadata": {},
   "source": [
    "##  [Regression](https://quantecon.github.io/lecture-datascience.myst/regression.html)"
   ]
  },
  {
   "cell_type": "markdown",
   "id": "d79cc5d8",
   "metadata": {},
   "source": [
    "##  [Case Study: Recidivism](https://quantecon.github.io/lecture-datascience.myst/recidivism.html)"
   ]
  },
  {
   "cell_type": "markdown",
   "id": "cff3eeec",
   "metadata": {},
   "source": [
    "##  [Mapping in Python](https://quantecon.github.io/lecture-datascience.myst/maps.html)"
   ]
  },
  {
   "cell_type": "markdown",
   "id": "752945ce",
   "metadata": {},
   "source": [
    "##  [Classification](https://quantecon.github.io/lecture-datascience.myst/classification.html)"
   ]
  },
  {
   "cell_type": "markdown",
   "id": "0a245a82",
   "metadata": {},
   "source": [
    "##  [Working with Text](https://quantecon.github.io/lecture-datascience.myst/working_with_text.html)"
   ]
  },
  {
   "cell_type": "markdown",
   "id": "7ac24297",
   "metadata": {},
   "source": [
    "##  [Machine Learning in Economics](https://quantecon.github.io/lecture-datascience.myst/ml_in_economics.html)"
   ]
  },
  {
   "cell_type": "markdown",
   "id": "10b29500",
   "metadata": {},
   "source": [
    "##  [Heterogeneous Effects](https://quantecon.github.io/lecture-datascience.myst/heterogeneity.html)"
   ]
  }
 ],
 "metadata": {
  "date": 1624413425.0221007,
  "filename": "index.md",
  "kernelspec": {
   "display_name": "Python",
   "language": "python3",
   "name": "python3"
  },
  "title": "Applications"
 },
 "nbformat": 4,
 "nbformat_minor": 5
}