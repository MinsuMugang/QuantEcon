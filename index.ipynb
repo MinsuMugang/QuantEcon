{
 "cells": [
  {
   "cell_type": "markdown",
   "id": "1db8f2e0",
   "metadata": {},
   "source": [
    "# Datascience for Economists\n",
    "\n",
    "This website presents a series of lectures on programming, data science, and economics. The emphasis of these materials is not just the programming and statistics necessary to analyze data, but also on interpreting the results through the lens of economics.\n",
    "\n",
    "This work was supported in part by the Center for Innovative Data in Economics Research (CIDER) at the [Vancouver School of Economics](https://economics.ubc.ca/), UBC, funded by the Canada Excellence Research Chair grant.\n",
    "\n",
    "To get an idea of what one can do after taking this course, please take a look at [previous student projects](https://datascience.quantecon.org/theme/projects.html).\n",
    "\n",
    "[Chase Coleman](http://www.chasegcoleman.com/), [Spencer Lyon](http://spencerlyon.com/), [Jesse Perla](http://jesseperla.com/), [More Contributors](https://datascience.quantecon.org/theme/contributors.html)."
   ]
  },
  {
   "cell_type": "markdown",
   "id": "32d8fad6",
   "metadata": {},
   "source": [
    "##  [Introduction](https://datascience.quantecon.org/introduction/index.html)\n",
    "\n",
    "Course description, software installation"
   ]
  },
  {
   "cell_type": "markdown",
   "id": "54b31369",
   "metadata": {},
   "source": [
    "##  [Python Fundamentals](https://datascience.quantecon.org/python_fundamentals/index.html)\n",
    "\n",
    "Basic Python programming"
   ]
  },
  {
   "cell_type": "markdown",
   "id": "24a83ee5",
   "metadata": {},
   "source": [
    "##  [Scientific Computing](https://datascience.quantecon.org/scientific/index.html)\n",
    "\n",
    "Numerical and scientific methods"
   ]
  },
  {
   "cell_type": "markdown",
   "id": "d22fb1e0",
   "metadata": {},
   "source": [
    "##  [Pandas](https://datascience.quantecon.org/pandas/index.html)\n",
    "\n",
    "The “data” in data science"
   ]
  },
  {
   "cell_type": "markdown",
   "id": "d104719e",
   "metadata": {},
   "source": [
    "##  [Applications](https://datascience.quantecon.org/applications/index.html)\n",
    "\n",
    "Applications and statistical tools"
   ]
  }
 ],
 "metadata": {
  "date": 1621045101.5010083,
  "filename": "index.md",
  "kernelspec": {
   "display_name": "Python",
   "language": "python3",
   "name": "python3"
  },
  "title": "Datascience for Economists"
 },
 "nbformat": 4,
 "nbformat_minor": 5
}