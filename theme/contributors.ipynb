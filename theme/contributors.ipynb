{
 "cells": [
  {
   "cell_type": "markdown",
   "id": "51f92919",
   "metadata": {},
   "source": [
    "# Contributors:\n",
    "\n",
    "This project would not have been possible without contributions from the people listed\n",
    "on this page. They were involved in authoring/editing material, designing the website,\n",
    "and providing technological support. We are grateful to each of these individuals for\n",
    "their contributions."
   ]
  },
  {
   "cell_type": "markdown",
   "id": "7332bfdf",
   "metadata": {},
   "source": [
    "##  [Quentin Batista](https://github.com/QBatista)\n",
    "\n",
    "- Becker Friedman Institute  "
   ]
  },
  {
   "cell_type": "markdown",
   "id": "7064be50",
   "metadata": {},
   "source": [
    "##  [Kim Ruhl](http://kimjruhl.com/)\n",
    "\n",
    "- UW  "
   ]
  },
  {
   "cell_type": "markdown",
   "id": "7d4944a7",
   "metadata": {},
   "source": [
    "##  [Thomas Sargent](http://www.tomsargent.com/)\n",
    "\n",
    "- NYU  "
   ]
  },
  {
   "cell_type": "markdown",
   "id": "af9d1916",
   "metadata": {},
   "source": [
    "##  [Paul Schrimpf](https://economics.ubc.ca/faculty-and-staff/paul-schrimpf/)\n",
    "\n",
    "- UBC  "
   ]
  },
  {
   "cell_type": "markdown",
   "id": "f4470c13",
   "metadata": {},
   "source": [
    "##  [Arnav Sood](https://arnavsood.com)\n",
    "\n",
    "- UBC  "
   ]
  },
  {
   "cell_type": "markdown",
   "id": "d405de23",
   "metadata": {},
   "source": [
    "##  [Andrij Stachurski](https://drdrij.com/)\n",
    "\n",
    "- Web Consultant  "
   ]
  },
  {
   "cell_type": "markdown",
   "id": "1f48dae4",
   "metadata": {},
   "source": [
    "##  [John Stachurski](http://johnstachurski.net)\n",
    "\n",
    "- ANU  "
   ]
  },
  {
   "cell_type": "markdown",
   "id": "e3f87267",
   "metadata": {},
   "source": [
    "##  [Natasha Watkins](https://github.com/natashawatkins)\n",
    "\n",
    "- UCLA  "
   ]
  },
  {
   "cell_type": "markdown",
   "id": "ab7654b5",
   "metadata": {},
   "source": [
    "##  [Michael Waugh](http://www.waugheconomics.com/)\n",
    "\n",
    "- NYU  "
   ]
  },
  {
   "cell_type": "markdown",
   "id": "7b5f1ac3",
   "metadata": {},
   "source": [
    "##  [Peifan Wu](https://peifanwu.weebly.com)\n",
    "\n",
    "- UBC  "
   ]
  }
 ],
 "metadata": {
  "date": 1621127276.3756406,
  "filename": "contributors.md",
  "kernelspec": {
   "display_name": "Python",
   "language": "python3",
   "name": "python3"
  },
  "title": "Contributors:"
 },
 "nbformat": 4,
 "nbformat_minor": 5
}