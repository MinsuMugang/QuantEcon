{
 "cells": [
  {
   "cell_type": "markdown",
   "id": "7ce48e3e",
   "metadata": {},
   "source": [
    "# Contributors:\n",
    "\n",
    "This project would not have been possible without contributions from the people listed\n",
    "on this page. They were involved in authoring/editing material, designing the website,\n",
    "and providing technological support. We are grateful to each of these individuals for\n",
    "their contributions."
   ]
  },
  {
   "cell_type": "markdown",
   "id": "d655f33f",
   "metadata": {},
   "source": [
    "##  [Quentin Batista](https://github.com/QBatista)\n",
    "\n",
    "- Becker Friedman Institute  "
   ]
  },
  {
   "cell_type": "markdown",
   "id": "6bddf695",
   "metadata": {},
   "source": [
    "##  [Kim Ruhl](http://kimjruhl.com/)\n",
    "\n",
    "- UW  "
   ]
  },
  {
   "cell_type": "markdown",
   "id": "df211dc7",
   "metadata": {},
   "source": [
    "##  [Thomas Sargent](http://www.tomsargent.com/)\n",
    "\n",
    "- NYU  "
   ]
  },
  {
   "cell_type": "markdown",
   "id": "979785d7",
   "metadata": {},
   "source": [
    "##  [Paul Schrimpf](https://economics.ubc.ca/faculty-and-staff/paul-schrimpf/)\n",
    "\n",
    "- UBC  "
   ]
  },
  {
   "cell_type": "markdown",
   "id": "347a76de",
   "metadata": {},
   "source": [
    "##  [Arnav Sood](https://arnavsood.com)\n",
    "\n",
    "- UBC  "
   ]
  },
  {
   "cell_type": "markdown",
   "id": "47e16634",
   "metadata": {},
   "source": [
    "##  [Andrij Stachurski](https://drdrij.com/)\n",
    "\n",
    "- Web Consultant  "
   ]
  },
  {
   "cell_type": "markdown",
   "id": "472b4845",
   "metadata": {},
   "source": [
    "##  [John Stachurski](http://johnstachurski.net)\n",
    "\n",
    "- ANU  "
   ]
  },
  {
   "cell_type": "markdown",
   "id": "061f23c7",
   "metadata": {},
   "source": [
    "##  [Natasha Watkins](https://github.com/natashawatkins)\n",
    "\n",
    "- UCLA  "
   ]
  },
  {
   "cell_type": "markdown",
   "id": "e26ba194",
   "metadata": {},
   "source": [
    "##  [Michael Waugh](http://www.waugheconomics.com/)\n",
    "\n",
    "- NYU  "
   ]
  },
  {
   "cell_type": "markdown",
   "id": "03c2108b",
   "metadata": {},
   "source": [
    "##  [Peifan Wu](https://peifanwu.weebly.com)\n",
    "\n",
    "- UBC  "
   ]
  }
 ],
 "metadata": {
  "date": 1623904830.7795537,
  "filename": "contributors.md",
  "kernelspec": {
   "display_name": "Python",
   "language": "python3",
   "name": "python3"
  },
  "title": "Contributors:"
 },
 "nbformat": 4,
 "nbformat_minor": 5
}