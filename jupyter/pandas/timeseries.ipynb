{
 "cells": [
  {
   "cell_type": "markdown",
   "id": "c2ba282c",
   "metadata": {},
   "source": [
    "# Time series\n",
    "\n",
    "**Prerequisites**\n",
    "\n",
    "- [Python functions](https://datascience.quantecon.org/../python_fundamentals/functions.html)  \n",
    "- [GroupBy](https://datascience.quantecon.org/groupby.html)  \n",
    "\n",
    "\n",
    "**Outcomes**\n",
    "\n",
    "- Know how pandas handles dates  \n",
    "- Understand how to parse strings into `datetime` objects  \n",
    "- Know how to write dates as custom formatted strings  \n",
    "- Be able to access day, month, year, etc. for a `DateTimeIndex` and\n",
    "  a column with `dtype` `datetime`  \n",
    "- Understand both rolling and re-sampling operations and the difference\n",
    "  between the two  \n",
    "\n",
    "\n",
    "**Data**\n",
    "\n",
    "- Bitcoin to USD exchange rates from March 2014 to the present  "
   ]
  },
  {
   "cell_type": "code",
   "execution_count": null,
   "id": "7713d36a",
   "metadata": {
    "hide-output": false
   },
   "outputs": [],
   "source": [
    "# Uncomment following line to install on colab\n",
    "#! pip install qeds"
   ]
  },
  {
   "cell_type": "code",
   "execution_count": null,
   "id": "6223b195",
   "metadata": {
    "hide-output": false
   },
   "outputs": [],
   "source": [
    "import os\n",
    "import pandas as pd\n",
    "import matplotlib.pyplot as plt\n",
    "import quandl\n",
    "import qeds\n",
    "\n",
    "# see section on API keys at end of lecture!\n",
    "quandl.ApiConfig.api_key = os.environ.get(\"QUANDL_AUTH\", \"Dn6BtVoBhzuKTuyo6hbp\")\n",
    "start_date = \"2014-05-01\"\n",
    "\n",
    "%matplotlib inline\n",
    "# activate plot theme\n",
    "import qeds\n",
    "qeds.themes.mpl_style();"
   ]
  },
  {
   "cell_type": "markdown",
   "id": "7a8a48a5",
   "metadata": {},
   "source": [
    "## Intro\n",
    "\n",
    "pandas has extensive support for handling dates and times.\n",
    "\n",
    "We will loosely refer to data with date or time information as time\n",
    "series data.\n",
    "\n",
    "In this lecture, we will cover the most useful parts of pandas’ time\n",
    "series functionality.\n",
    "\n",
    "Among these topics are:\n",
    "\n",
    "- Parsing strings as dates  \n",
    "- Writing `datetime` objects as (inverse operation of previous point)  \n",
    "- Extracting data from a DataFrame or Series with date information in\n",
    "  the index  \n",
    "- Shifting data through time (taking leads or lags)  \n",
    "- Re-sampling data to a different frequency and rolling operations  \n",
    "\n",
    "\n",
    "However, even more than with previous topics, we will skip a lot of the\n",
    "functionality pandas offers, and we urge you to refer to the [official\n",
    "documentation](https://pandas.pydata.org/pandas-docs/stable/timeseries.html)\n",
    "for more information."
   ]
  },
  {
   "cell_type": "markdown",
   "id": "99718466",
   "metadata": {},
   "source": [
    "## Parsing Strings as Dates\n",
    "\n",
    "When working with time series data, we almost always receive the data\n",
    "with dates encoded as strings.\n",
    "\n",
    "Hopefully, the date strings follow a structured format or pattern.\n",
    "\n",
    "One common pattern is `YYYY-MM-DD`: 4 numbers for the year, 2 for the\n",
    "month, and 2 for the day with each section separated by a `-`.\n",
    "\n",
    "For example, we write Christmas day 2017 in this format as"
   ]
  },
  {
   "cell_type": "code",
   "execution_count": null,
   "id": "ecca1159",
   "metadata": {
    "hide-output": false
   },
   "outputs": [],
   "source": [
    "christmas_str = \"2017-12-25\""
   ]
  },
  {
   "cell_type": "markdown",
   "id": "059a3704",
   "metadata": {},
   "source": [
    "To convert a string into a time-aware object, we use the\n",
    "`pd.to_datetime` function."
   ]
  },
  {
   "cell_type": "code",
   "execution_count": null,
   "id": "30be5f4d",
   "metadata": {
    "hide-output": false
   },
   "outputs": [],
   "source": [
    "christmas = pd.to_datetime(christmas_str)\n",
    "print(\"The type of christmas is\", type(christmas))\n",
    "christmas"
   ]
  },
  {
   "cell_type": "markdown",
   "id": "2af79697",
   "metadata": {},
   "source": [
    "The `pd.to_datetime` function is pretty smart at guessing the format\n",
    "of the date…"
   ]
  },
  {
   "cell_type": "code",
   "execution_count": null,
   "id": "4e400671",
   "metadata": {
    "hide-output": false
   },
   "outputs": [],
   "source": [
    "for date in [\"December 25, 2017\", \"Dec. 25, 2017\",\n",
    "             \"Monday, Dec. 25, 2017\", \"25 Dec. 2017\", \"25th Dec. 2017\"]:\n",
    "    print(\"pandas interprets {} as {}\".format(date, pd.to_datetime(date)))"
   ]
  },
  {
   "cell_type": "markdown",
   "id": "53cc7214",
   "metadata": {},
   "source": [
    "However, sometimes we will need to give pandas a hint.\n",
    "\n",
    "For example, that same time (midnight on Christmas) would be reported on\n",
    "an Amazon transaction report as"
   ]
  },
  {
   "cell_type": "code",
   "execution_count": null,
   "id": "17380c54",
   "metadata": {
    "hide-output": false
   },
   "outputs": [],
   "source": [
    "christmas_amzn = \"2017-12-25T00:00:00+ 00 :00\""
   ]
  },
  {
   "cell_type": "markdown",
   "id": "0edf029e",
   "metadata": {},
   "source": [
    "If we try to pass this to `pd.to_datetime`, it will fail."
   ]
  },
  {
   "cell_type": "code",
   "execution_count": null,
   "id": "df8e6358",
   "metadata": {
    "hide-output": false
   },
   "outputs": [],
   "source": [
    "pd.to_datetime(christmas_amzn)"
   ]
  },
  {
   "cell_type": "markdown",
   "id": "d7486e3a",
   "metadata": {},
   "source": [
    "To parse a date with this format, we need to specify the `format`\n",
    "argument for `pd.to_datetime`."
   ]
  },
  {
   "cell_type": "code",
   "execution_count": null,
   "id": "e3c8583c",
   "metadata": {
    "hide-output": false
   },
   "outputs": [],
   "source": [
    "amzn_strftime = \"%Y-%m-%dT%H:%M:%S+ 00 :00\"\n",
    "pd.to_datetime(christmas_amzn, format=amzn_strftime)"
   ]
  },
  {
   "cell_type": "markdown",
   "id": "e9299988",
   "metadata": {},
   "source": [
    "Can you guess what `amzn_strftime` represents?\n",
    "\n",
    "Let’s take a closer look at `amzn_strftime` and `christmas_amzn`."
   ]
  },
  {
   "cell_type": "code",
   "execution_count": null,
   "id": "f66673d6",
   "metadata": {
    "hide-output": false
   },
   "outputs": [],
   "source": [
    "print(amzn_strftime)\n",
    "print(christmas_amzn)"
   ]
  },
  {
   "cell_type": "markdown",
   "id": "a910a684",
   "metadata": {},
   "source": [
    "Notice that both of the strings have a similar form, but that instead of actual numerical values, `amzn_strftime` has *placeholders*.\n",
    "\n",
    "Specifically, anywhere the `%` shows up is a signal to the `pd.to_datetime`\n",
    "function that it is where relevant information is stored.\n",
    "\n",
    "For example, the `%Y` is a stand-in for a four digit year, `%m` is\n",
    "for 2 a digit month, and so on…\n",
    "\n",
    "The official [Python\n",
    "documentation](https://docs.python.org/3/library/datetime.html#strftime-and-strptime-behavior) contains a complete list of possible `%`something patterns that are accepted\n",
    "in the `format` argument."
   ]
  },
  {
   "cell_type": "markdown",
   "id": "3edd0a66",
   "metadata": {},
   "source": [
    "## Exercise\n",
    "\n",
    "See exercise 1 in the [exercise list](#pd-tim-ex)."
   ]
  },
  {
   "cell_type": "markdown",
   "id": "a34ee6ae",
   "metadata": {},
   "source": [
    "### Multiple Dates\n",
    "\n",
    "If we have dates in a Series (e.g. column of DataFrame) or a list, we\n",
    "can pass the entire collection to `pd.to_datetime` and get a\n",
    "collection of dates back.\n",
    "\n",
    "We’ll just show an example of that here as the mechanics are the same as\n",
    "a single date."
   ]
  },
  {
   "cell_type": "code",
   "execution_count": null,
   "id": "5a32bc13",
   "metadata": {
    "hide-output": false
   },
   "outputs": [],
   "source": [
    "pd.to_datetime([\"2017-12-25\", \"2017-12-31\"])"
   ]
  },
  {
   "cell_type": "markdown",
   "id": "e74233b2",
   "metadata": {},
   "source": [
    "## Date Formatting\n",
    "\n",
    "We can use the `%`pattern format to have pandas write `datetime`\n",
    "objects as specially formatted strings using the `strftime` (string\n",
    "format time) method.\n",
    "\n",
    "For example,"
   ]
  },
  {
   "cell_type": "code",
   "execution_count": null,
   "id": "83f54cc5",
   "metadata": {
    "hide-output": false
   },
   "outputs": [],
   "source": [
    "christmas.strftime(\"We love %A %B %d (also written %c)\")"
   ]
  },
  {
   "cell_type": "markdown",
   "id": "13bcd39c",
   "metadata": {},
   "source": [
    "## Exercise\n",
    "\n",
    "See exercise 2 in the [exercise list](#pd-tim-ex)."
   ]
  },
  {
   "cell_type": "markdown",
   "id": "c939378d",
   "metadata": {},
   "source": [
    "## Extracting Data\n",
    "\n",
    "When the index of a DataFrame has date information and pandas\n",
    "recognizes the values as `datetime` values, we can leverage some\n",
    "convenient indexing features for extracting data.\n",
    "\n",
    "The flexibility of these features is best understood through example,\n",
    "so let’s load up some data and take a look."
   ]
  },
  {
   "cell_type": "code",
   "execution_count": null,
   "id": "f9369de6",
   "metadata": {
    "hide-output": false
   },
   "outputs": [],
   "source": [
    "btc_usd = quandl.get(\"BCHARTS/BITSTAMPUSD\", start_date=start_date)\n",
    "btc_usd.info()\n",
    "btc_usd.head()"
   ]
  },
  {
   "cell_type": "markdown",
   "id": "1bbbc215",
   "metadata": {},
   "source": [
    "Here, we have the Bitcoin (BTC) to US dollar (USD) exchange rate from\n",
    "March 2014 until today.\n",
    "\n",
    "Notice that the type of index is `DateTimeIndex`.\n",
    "\n",
    "This is the key that enables things like…\n",
    "\n",
    "Extracting all data for the year 2015 by passing `\"2015\"` to `.loc`."
   ]
  },
  {
   "cell_type": "code",
   "execution_count": null,
   "id": "3c636847",
   "metadata": {
    "hide-output": false
   },
   "outputs": [],
   "source": [
    "btc_usd.loc[\"2015\"]"
   ]
  },
  {
   "cell_type": "markdown",
   "id": "6e55a46f",
   "metadata": {},
   "source": [
    "We can also narrow down to specific months."
   ]
  },
  {
   "cell_type": "code",
   "execution_count": null,
   "id": "e0adc5ef",
   "metadata": {
    "hide-output": false
   },
   "outputs": [],
   "source": [
    "# By month's name\n",
    "btc_usd.loc[\"August 2017\"]"
   ]
  },
  {
   "cell_type": "code",
   "execution_count": null,
   "id": "d5fce319",
   "metadata": {
    "hide-output": false
   },
   "outputs": [],
   "source": [
    "# By month's number\n",
    "btc_usd.loc[\"08/2017\"]"
   ]
  },
  {
   "cell_type": "markdown",
   "id": "0fc40c50",
   "metadata": {},
   "source": [
    "Or even a day…"
   ]
  },
  {
   "cell_type": "code",
   "execution_count": null,
   "id": "0404594a",
   "metadata": {
    "hide-output": false
   },
   "outputs": [],
   "source": [
    "# By date name\n",
    "btc_usd.loc[\"August 1, 2017\"]"
   ]
  },
  {
   "cell_type": "code",
   "execution_count": null,
   "id": "e0e68d63",
   "metadata": {
    "hide-output": false
   },
   "outputs": [],
   "source": [
    "# By date number\n",
    "btc_usd.loc[\"08-01-2017\"]"
   ]
  },
  {
   "cell_type": "markdown",
   "id": "5c61d5f2",
   "metadata": {},
   "source": [
    "What can we pass as the `.loc` argument when we have a\n",
    "`DateTimeIndex`?\n",
    "\n",
    "Anything that can be converted to a `datetime` using\n",
    "`pd.to_datetime`, *without* having to specify the format argument.\n",
    "\n",
    "When that condition holds, pandas will return *all* rows whose date in\n",
    "the index “belong” to that date or period.\n",
    "\n",
    "We can also use the range shorthand notation to give a start and end\n",
    "date for selection."
   ]
  },
  {
   "cell_type": "code",
   "execution_count": null,
   "id": "2f332843",
   "metadata": {
    "hide-output": false
   },
   "outputs": [],
   "source": [
    "btc_usd.loc[\"April 1, 2015\":\"April 10, 2015\"]"
   ]
  },
  {
   "cell_type": "markdown",
   "id": "1cabfd26",
   "metadata": {},
   "source": [
    "## Exercise\n",
    "\n",
    "See exercise 3 in the [exercise list](#pd-tim-ex)."
   ]
  },
  {
   "cell_type": "markdown",
   "id": "36a8b1dd",
   "metadata": {},
   "source": [
    "## Accessing Date Properties\n",
    "\n",
    "Sometimes, we would like to directly access a part of the date/time.\n",
    "\n",
    "If our date/time information is in the index, we can to `df.index.XX`\n",
    "where `XX` is replaced by `year`, `month`, or whatever we would\n",
    "like to access."
   ]
  },
  {
   "cell_type": "code",
   "execution_count": null,
   "id": "78ec1180",
   "metadata": {
    "hide-output": false
   },
   "outputs": [],
   "source": [
    "btc_usd.index.year"
   ]
  },
  {
   "cell_type": "code",
   "execution_count": null,
   "id": "3a596e5a",
   "metadata": {
    "hide-output": false
   },
   "outputs": [],
   "source": [
    "btc_usd.index.day"
   ]
  },
  {
   "cell_type": "markdown",
   "id": "c630968c",
   "metadata": {},
   "source": [
    "We can also do the same if the date/time information is stored in a\n",
    "column, but we have to use a slightly different syntax."
   ]
  },
  {
   "cell_type": "code",
   "execution_count": null,
   "id": "962e1e42",
   "metadata": {
    "hide-output": false
   },
   "outputs": [],
   "source": [
    "df[\"column_name\"].dt.XX"
   ]
  },
  {
   "cell_type": "code",
   "execution_count": null,
   "id": "528ce5fd",
   "metadata": {
    "hide-output": false
   },
   "outputs": [],
   "source": [
    "btc_date_column = btc_usd.reset_index()\n",
    "btc_date_column.head()"
   ]
  },
  {
   "cell_type": "code",
   "execution_count": null,
   "id": "a7d2a174",
   "metadata": {
    "hide-output": false
   },
   "outputs": [],
   "source": [
    "btc_date_column[\"Date\"].dt.year.head()"
   ]
  },
  {
   "cell_type": "code",
   "execution_count": null,
   "id": "156cc8c4",
   "metadata": {
    "hide-output": false
   },
   "outputs": [],
   "source": [
    "btc_date_column[\"Date\"].dt.month.head()"
   ]
  },
  {
   "cell_type": "markdown",
   "id": "446d0b37",
   "metadata": {},
   "source": [
    "## Leads and Lags: `df.shift`\n",
    "\n",
    "When doing time series analysis, we often want to compare data at one\n",
    "date against data at another date.\n",
    "\n",
    "pandas can help us with this if we leverage the `shift` method.\n",
    "\n",
    "Without any additional arguments, `shift()` will move all data\n",
    "*forward* one period, filling the first row with missing data."
   ]
  },
  {
   "cell_type": "code",
   "execution_count": null,
   "id": "c79afb2b",
   "metadata": {
    "hide-output": false
   },
   "outputs": [],
   "source": [
    "# so we can see the result of shift clearly\n",
    "btc_usd.head()"
   ]
  },
  {
   "cell_type": "code",
   "execution_count": null,
   "id": "d9dae566",
   "metadata": {
    "hide-output": false
   },
   "outputs": [],
   "source": [
    "btc_usd.shift().head()"
   ]
  },
  {
   "cell_type": "markdown",
   "id": "7bfcd642",
   "metadata": {},
   "source": [
    "We can use this to compute the percent change from one day to the next.\n",
    "(Quiz: Why does that work? Remember how pandas uses the index to *align*\n",
    "data.)"
   ]
  },
  {
   "cell_type": "code",
   "execution_count": null,
   "id": "dcc9e7b9",
   "metadata": {
    "hide-output": false
   },
   "outputs": [],
   "source": [
    "((btc_usd - btc_usd.shift()) / btc_usd.shift()).head()"
   ]
  },
  {
   "cell_type": "markdown",
   "id": "8eb673c3",
   "metadata": {},
   "source": [
    "Setting the first argument to `n` tells pandas to shift the data down\n",
    "`n` rows (apply an `n` period lag)."
   ]
  },
  {
   "cell_type": "code",
   "execution_count": null,
   "id": "b47034fc",
   "metadata": {
    "hide-output": false
   },
   "outputs": [],
   "source": [
    "btc_usd.shift(3).head()"
   ]
  },
  {
   "cell_type": "markdown",
   "id": "0f2461df",
   "metadata": {},
   "source": [
    "A negative value will shift the data *up* or apply a lead."
   ]
  },
  {
   "cell_type": "code",
   "execution_count": null,
   "id": "2fdfd5da",
   "metadata": {
    "hide-output": false
   },
   "outputs": [],
   "source": [
    "btc_usd.shift(-2).head()"
   ]
  },
  {
   "cell_type": "code",
   "execution_count": null,
   "id": "c39275f7",
   "metadata": {
    "hide-output": false
   },
   "outputs": [],
   "source": [
    "btc_usd.shift(-2).tail()"
   ]
  },
  {
   "cell_type": "markdown",
   "id": "6e7aa683",
   "metadata": {},
   "source": [
    "## Exercise\n",
    "\n",
    "See exercise 4 in the [exercise list](#pd-tim-ex)."
   ]
  },
  {
   "cell_type": "markdown",
   "id": "12b40cf0",
   "metadata": {},
   "source": [
    "## Rolling Computations: `.rolling`\n",
    "\n",
    "pandas has facilities that enable easy computation of *rolling\n",
    "statistics*.\n",
    "\n",
    "These are best understood by example, so we will dive right in."
   ]
  },
  {
   "cell_type": "code",
   "execution_count": null,
   "id": "32ce0fbe",
   "metadata": {
    "hide-output": false
   },
   "outputs": [],
   "source": [
    "# first take only the first 6 rows so we can easily see what is going on\n",
    "btc_small = btc_usd.head(6)\n",
    "btc_small"
   ]
  },
  {
   "cell_type": "markdown",
   "id": "2983304c",
   "metadata": {},
   "source": [
    "Below, we compute the 2 day moving average (for all columns)."
   ]
  },
  {
   "cell_type": "code",
   "execution_count": null,
   "id": "40e2d3b4",
   "metadata": {
    "hide-output": false
   },
   "outputs": [],
   "source": [
    "btc_small.rolling(\"2d\").mean()"
   ]
  },
  {
   "cell_type": "markdown",
   "id": "d5b2854d",
   "metadata": {},
   "source": [
    "To do this operation, pandas starts at each row (date) then looks\n",
    "*backwards* the specified number of periods (here 2 days) and then\n",
    "applies some aggregation function (`mean`) on all the data in that\n",
    "window.\n",
    "\n",
    "If pandas cannot look back the full length of the window (e.g. when\n",
    "working on the first row), it fills as much of the window as possible\n",
    "and then does the operation. Notice that the value at 2014-05-01 is\n",
    "the same in both DataFrames.\n",
    "\n",
    "Below, we see a visual depiction of the rolling maximum on a 21 day\n",
    "window for the whole dataset."
   ]
  },
  {
   "cell_type": "code",
   "execution_count": null,
   "id": "6ecce5c2",
   "metadata": {
    "hide-output": false
   },
   "outputs": [],
   "source": [
    "fig, ax = plt.subplots(figsize=(10, 4))\n",
    "btc_usd[\"Open\"].plot(ax=ax, linestyle=\"--\", alpha=0.8)\n",
    "btc_usd.rolling(\"21d\").max()[\"Open\"].plot(ax=ax, alpha=0.8, linewidth=3)\n",
    "ax.legend([\"Original\", \"21 day max\"])"
   ]
  },
  {
   "cell_type": "markdown",
   "id": "1a362655",
   "metadata": {},
   "source": [
    "We can also ask pandas to `apply` custom functions, similar to what we\n",
    "saw when studying GroupBy."
   ]
  },
  {
   "cell_type": "code",
   "execution_count": null,
   "id": "8c213365",
   "metadata": {
    "hide-output": false
   },
   "outputs": [],
   "source": [
    "def is_volatile(x):\n",
    "    \"Returns a 1 if the variance is greater than 1, otherwise returns 0\"\n",
    "    if x.var() > 1.0:\n",
    "        return 1.0\n",
    "    else:\n",
    "        return 0.0"
   ]
  },
  {
   "cell_type": "code",
   "execution_count": null,
   "id": "a21c2d37",
   "metadata": {
    "hide-output": false
   },
   "outputs": [],
   "source": [
    "btc_small.rolling(\"2d\").apply(is_volatile)"
   ]
  },
  {
   "cell_type": "markdown",
   "id": "615ca05b",
   "metadata": {},
   "source": [
    "## Exercise\n",
    "\n",
    "See exercise 5 in the [exercise list](#pd-tim-ex).\n",
    "\n",
    "To make the optimal decision, we need to know the maximum\n",
    "difference between the close price at the end of the window and the open\n",
    "price at the start of the window."
   ]
  },
  {
   "cell_type": "markdown",
   "id": "5b55c12c",
   "metadata": {},
   "source": [
    "## Exercise\n",
    "\n",
    "See exercise 6 in the [exercise list](#pd-tim-ex)."
   ]
  },
  {
   "cell_type": "markdown",
   "id": "8b9934fe",
   "metadata": {},
   "source": [
    "## Changing Frequencies: `.resample`\n",
    "\n",
    "In addition to computing rolling statistics, we can also change the\n",
    "frequency of the data.\n",
    "\n",
    "For example, instead of a monthly moving average, suppose that we wanted\n",
    "to compute the average *within* each calendar month.\n",
    "\n",
    "We will use the `resample` method to do this.\n",
    "\n",
    "Below are some examples."
   ]
  },
  {
   "cell_type": "code",
   "execution_count": null,
   "id": "6660d3ec",
   "metadata": {
    "hide-output": false
   },
   "outputs": [],
   "source": [
    "# business quarter\n",
    "btc_usd.resample(\"BQ\").mean()"
   ]
  },
  {
   "cell_type": "markdown",
   "id": "587603fb",
   "metadata": {},
   "source": [
    "Note that unlike with `rolling`, a single number is returned for\n",
    "each column for each quarter.\n",
    "\n",
    "The `resample` method will alter the frequency of the data and the\n",
    "number of rows in the result will be different from the number of rows\n",
    "in the input.\n",
    "\n",
    "On the other hand, with `rolling`, the size and frequency of the result\n",
    "are the same as the input.\n",
    "\n",
    "We can sample at other frequencies and aggregate with multiple aggregations\n",
    "function at once."
   ]
  },
  {
   "cell_type": "code",
   "execution_count": null,
   "id": "845ebb44",
   "metadata": {
    "hide-output": false
   },
   "outputs": [],
   "source": [
    "# multiple functions at 2 start-of-quarter frequency\n",
    "btc_usd.resample(\"2BQS\").agg([\"min\", \"max\"])"
   ]
  },
  {
   "cell_type": "markdown",
   "id": "65cc5fef",
   "metadata": {},
   "source": [
    "As with `groupby` and `rolling`, you can also provide custom\n",
    "functions to `.resample(...).agg` and `.resample(...).apply`"
   ]
  },
  {
   "cell_type": "markdown",
   "id": "e06ad42d",
   "metadata": {},
   "source": [
    "## Exercise\n",
    "\n",
    "See exercise 7 in the [exercise list](#pd-tim-ex).\n",
    "\n",
    "To make the optimal decision we need to, for each month,\n",
    "compute the maximum value of the close price on any day minus the open\n",
    "price on the first day of the month."
   ]
  },
  {
   "cell_type": "markdown",
   "id": "dda557e0",
   "metadata": {},
   "source": [
    "## Exercise\n",
    "\n",
    "See exercise 8 in the [exercise list](#pd-tim-ex)."
   ]
  },
  {
   "cell_type": "markdown",
   "id": "ac764dcd",
   "metadata": {},
   "source": [
    "## Optional: API keys\n",
    "\n",
    "Recall above that we had the line of code:"
   ]
  },
  {
   "cell_type": "code",
   "execution_count": null,
   "id": "f1a90b3b",
   "metadata": {
    "hide-output": false
   },
   "outputs": [],
   "source": [
    "quandl.ApiConfig.api_key = \"Dn6BtVoBhzuKTuyo6hbp\""
   ]
  },
  {
   "cell_type": "markdown",
   "id": "b27c79ce",
   "metadata": {},
   "source": [
    "This line told the `quandl` library that when obtaining making requests for data, it should use the *API key* `Dn6BtVoBhzuKTuyo6hbp`.\n",
    "\n",
    "An API key is a sort of password that web services (like the Quandl API) require you to provide when you make requests.\n",
    "\n",
    "Using this password, we were able to make a request to Quandl to obtain data directly from them.\n",
    "\n",
    "The API key used here is one that we requested on behalf of this course.\n",
    "\n",
    "If you plan to use Quandl more extensively, you should obtain your own personal API key from [their website](https://docs.quandl.com/docs#section-authentication) and re-run the `quandl.ApiConfig.api_key...` line of code with your new API key on the right-hand side.\n",
    "\n",
    "\n",
    "<a id='pd-tim-ex'></a>"
   ]
  },
  {
   "cell_type": "markdown",
   "id": "d0446953",
   "metadata": {},
   "source": [
    "## Exercises"
   ]
  },
  {
   "cell_type": "markdown",
   "id": "c3e6c01d",
   "metadata": {},
   "source": [
    "### Exercise 1\n",
    "\n",
    "By referring to table found at the link above, figure out the correct argument to\n",
    "pass as `format` in order to parse the dates in the next three cells below.\n",
    "\n",
    "Test your work by passing your format string to `pd.to_datetime`."
   ]
  },
  {
   "cell_type": "code",
   "execution_count": null,
   "id": "3e4c20cb",
   "metadata": {
    "hide-output": false
   },
   "outputs": [],
   "source": [
    "christmas_str2 = \"2017:12:25\""
   ]
  },
  {
   "cell_type": "code",
   "execution_count": null,
   "id": "9fea6f39",
   "metadata": {
    "hide-output": false
   },
   "outputs": [],
   "source": [
    "dbacks_win = \"M:11 D:4 Y:2001 9:15 PM\""
   ]
  },
  {
   "cell_type": "code",
   "execution_count": null,
   "id": "f2df0bf5",
   "metadata": {
    "hide-output": false
   },
   "outputs": [],
   "source": [
    "america_bday = \"America was born on July 4, 1776\""
   ]
  },
  {
   "cell_type": "markdown",
   "id": "3d9827e2",
   "metadata": {},
   "source": [
    "([back to text](#pd-tim-dir1))"
   ]
  },
  {
   "cell_type": "markdown",
   "id": "e6b65660",
   "metadata": {},
   "source": [
    "### Exercise 2\n",
    "\n",
    "Use `pd.to_datetime` to express the birthday of one of your friends\n",
    "or family members as a `datetime` object.\n",
    "\n",
    "Then use the `strftime` method to write a message of the format:"
   ]
  },
  {
   "cell_type": "code",
   "execution_count": null,
   "id": "c5c9952d",
   "metadata": {
    "hide-output": false
   },
   "outputs": [],
   "source": [
    "NAME's birthday is June 10, 1989 (a Saturday)"
   ]
  },
  {
   "cell_type": "markdown",
   "id": "d5019e58",
   "metadata": {},
   "source": [
    "(where the name and date are replaced by the appropriate values)\n",
    "\n",
    "([back to text](#pd-tim-dir2))"
   ]
  },
  {
   "cell_type": "markdown",
   "id": "71f5074b",
   "metadata": {},
   "source": [
    "### Exercise 3\n",
    "\n",
    "For each item in the list, extract the specified data from `btc_usd`:\n",
    "\n",
    "- July 2017 through August 2017 (inclusive)  \n",
    "- April 25, 2015 to June 10, 2016  \n",
    "- October 31, 2017  \n",
    "\n",
    "\n",
    "([back to text](#pd-tim-dir3))"
   ]
  },
  {
   "cell_type": "markdown",
   "id": "e8995640",
   "metadata": {},
   "source": [
    "### Exercise 4\n",
    "\n",
    "Using the `shift` function, determine the week with the largest percent change\n",
    "in the volume of trades (the `\"Volume (BTC)\"` column).\n",
    "\n",
    "Repeat the analysis at the bi-weekly and monthly frequencies.\n",
    "\n",
    "We have data at a *daily* frequency and one week is `7` days.\n",
    "\n",
    "Approximate a month by 30 days."
   ]
  },
  {
   "cell_type": "code",
   "execution_count": null,
   "id": "4054f25b",
   "metadata": {
    "hide-output": false
   },
   "outputs": [],
   "source": [
    "# your code here"
   ]
  },
  {
   "cell_type": "markdown",
   "id": "cdb21951",
   "metadata": {},
   "source": [
    "([back to text](#pd-tim-dir4))"
   ]
  },
  {
   "cell_type": "markdown",
   "id": "94871084",
   "metadata": {},
   "source": [
    "### Exercise 5\n",
    "\n",
    "Imagine that you have access to the [DeLorean time machine](https://en.wikipedia.org/wiki/DeLorean_time_machine)\n",
    "from “Back to the Future”.\n",
    "\n",
    "You are allowed to use the DeLorean only once, subject to the following\n",
    "conditions:\n",
    "\n",
    "- You may travel back to any day in the past.  \n",
    "- On that day, you may purchase one bitcoin *at market open*.  \n",
    "- You can then take the time machine 30 days into the future and sell your bitcoin *at market close*.  \n",
    "- Then you return to the present, pocketing the profits.  \n",
    "\n",
    "\n",
    "How would you pick the day?\n",
    "\n",
    "Think carefully about what you would need to compute to make the\n",
    "optimal choice. Try writing it out in the markdown cell below so you\n",
    "have a clear description of the *want* operator that we will apply after\n",
    "the exercise.\n",
    "\n",
    "(Note: **Don’t** look too far below, because in the next non-empty cell\n",
    "we have written out our answer.)\n",
    "\n",
    "To make this decision, we want to know …\n",
    "\n",
    "**Your answer here**\n",
    "\n",
    "([back to text](#pd-tim-dir5))"
   ]
  },
  {
   "cell_type": "markdown",
   "id": "ef452fb9",
   "metadata": {},
   "source": [
    "### Exercise 6\n",
    "\n",
    "Do the following:\n",
    "\n",
    "1. Write a pandas function that implements your strategy.  \n",
    "1. Pass it to the `agg` method of `rolling_btc`.  \n",
    "1. Extract the `\"Open\"` column from the result.  \n",
    "1. Find the date associated with the maximum value in that column.  \n",
    "\n",
    "\n",
    "How much money did you make? Compare with your neighbor."
   ]
  },
  {
   "cell_type": "code",
   "execution_count": null,
   "id": "5513c4e4",
   "metadata": {
    "hide-output": false
   },
   "outputs": [],
   "source": [
    "def daily_value(df):\n",
    "    # DELETE `pass` below and replace it with your code\n",
    "    pass\n",
    "\n",
    "rolling_btc = btc_usd.rolling(\"30d\")\n",
    "\n",
    "# do steps 2-4 here"
   ]
  },
  {
   "cell_type": "markdown",
   "id": "97ca4536",
   "metadata": {},
   "source": [
    "([back to text](#pd-tim-dir6))"
   ]
  },
  {
   "cell_type": "markdown",
   "id": "897af3b5",
   "metadata": {},
   "source": [
    "### Exercise 7\n",
    "\n",
    "Now suppose you still have access to the DeLorean, but the conditions are\n",
    "slightly different.\n",
    "\n",
    "You may now:\n",
    "\n",
    "- Travel back to the *first day* of any month in the past.  \n",
    "- On that day, you may purchase one bitcoin *at market open*.  \n",
    "- You can then travel to any day *in that month* and sell the bitcoin *at market close*.  \n",
    "- Then return to the present, pocketing the profits.  \n",
    "\n",
    "\n",
    "To which month would you travel? On which day of that month would you return\n",
    "to sell the bitcoin?\n",
    "\n",
    "Discuss with your neighbor what you would need to compute to make the\n",
    "optimal choice. Try writing it out in the markdown cell below so you\n",
    "have a clear description of the *want* operator that we will apply after\n",
    "the exercise.\n",
    "\n",
    "(Note: **Don’t** look too many cells below, because we have written out\n",
    "our answer.)\n",
    "\n",
    "To make the optimal decision we need …\n",
    "\n",
    "**Your answer here**\n",
    "\n",
    "([back to text](#pd-tim-dir7))"
   ]
  },
  {
   "cell_type": "markdown",
   "id": "bafa036f",
   "metadata": {},
   "source": [
    "### Exercise 8\n",
    "\n",
    "Do the following:\n",
    "\n",
    "1. Write a pandas function that implements your strategy.  \n",
    "1. Pass it to the `agg` method of `resampled_btc`.  \n",
    "1. Extract the `\"Open\"` column from the result.  \n",
    "1. Find the date associated with the maximum value in that column.  \n",
    "\n",
    "\n",
    "How much money did you make? Compare with your neighbor.\n",
    "\n",
    "Was this strategy more profitable than the previous one? By how much?"
   ]
  },
  {
   "cell_type": "code",
   "execution_count": null,
   "id": "b5bb0bb4",
   "metadata": {
    "hide-output": false
   },
   "outputs": [],
   "source": [
    "def monthly_value(df):\n",
    "    # DELETE `pass` below and replace it with your code\n",
    "    pass\n",
    "\n",
    "resampled_btc = btc_usd.resample(\"MS\")\n",
    "\n",
    "# Do steps 2-4 here"
   ]
  },
  {
   "cell_type": "markdown",
   "id": "a3a893fe",
   "metadata": {},
   "source": [
    "([back to text](#pd-tim-dir8))"
   ]
  }
 ],
 "metadata": {
  "date": 1618793145.195429,
  "filename": "timeseries.md",
  "kernelspec": {
   "display_name": "Python",
   "language": "python3",
   "name": "python3"
  },
  "title": "Time series"
 },
 "nbformat": 4,
 "nbformat_minor": 5
}