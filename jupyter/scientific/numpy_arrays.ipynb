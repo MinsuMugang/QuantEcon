{
 "cells": [
  {
   "cell_type": "markdown",
   "id": "9d265a58",
   "metadata": {},
   "source": [
    "# Introduction to Numpy\n",
    "\n",
    "**Prerequisites**\n",
    "\n",
    "- [Python Fundamentals](https://datascience.quantecon.org/../python_fundamentals/index.html)  \n",
    "\n",
    "\n",
    "**Outcomes**\n",
    "\n",
    "- Understand basics about numpy arrays  \n",
    "- Index into multi-dimensional arrays  \n",
    "- Use universal functions/broadcasting to do element-wise operations on arrays  "
   ]
  },
  {
   "cell_type": "markdown",
   "id": "917788f2",
   "metadata": {},
   "source": [
    "## Numpy Arrays\n",
    "\n",
    "Now that we have learned the fundamentals of programming in Python, we will learn how we can use Python\n",
    "to perform the computations required in data science and economics. We call these the “scientific Python tools”.\n",
    "\n",
    "The foundational library that helps us perform these computations is known as `numpy` (numerical\n",
    "Python).\n",
    "\n",
    "Numpy’s core contribution is a new data-type called an *array*.\n",
    "\n",
    "An array is similar to a list, but numpy imposes some additional restrictions on how the data inside is organized.\n",
    "\n",
    "These restrictions allow numpy to\n",
    "\n",
    "1. Be more efficient in performing mathematical and scientific computations.  \n",
    "1. Expose functions that allow numpy to do the necessary linear algebra for machine learning and statistics.  \n",
    "\n",
    "\n",
    "Before we get started, please note that the convention for importing the numpy package is to use the\n",
    "nickname `np`:"
   ]
  },
  {
   "cell_type": "code",
   "execution_count": null,
   "id": "f8456d50",
   "metadata": {
    "hide-output": false
   },
   "outputs": [],
   "source": [
    "import numpy as np"
   ]
  },
  {
   "cell_type": "markdown",
   "id": "becb13cb",
   "metadata": {},
   "source": [
    "### What is an Array?\n",
    "\n",
    "An array is a multi-dimensional grid of values.\n",
    "\n",
    "What does this mean? It is easier to demonstrate than to explain.\n",
    "\n",
    "In this block of code, we build a 1-dimensional array."
   ]
  },
  {
   "cell_type": "code",
   "execution_count": null,
   "id": "5591a25b",
   "metadata": {
    "hide-output": false
   },
   "outputs": [],
   "source": [
    "# create an array from a list\n",
    "x_1d = np.array([1, 2, 3])\n",
    "print(x_1d)"
   ]
  },
  {
   "cell_type": "markdown",
   "id": "50d842fb",
   "metadata": {},
   "source": [
    "You can think of a 1-dimensional array as a list of numbers."
   ]
  },
  {
   "cell_type": "code",
   "execution_count": null,
   "id": "72fae4eb",
   "metadata": {
    "hide-output": false
   },
   "outputs": [],
   "source": [
    "# We can index like we did with lists\n",
    "print(x_1d[0])\n",
    "print(x_1d[0:2])"
   ]
  },
  {
   "cell_type": "markdown",
   "id": "07c7fd4a",
   "metadata": {},
   "source": [
    "Note that the range of indices does not include the end-point, that\n",
    "is"
   ]
  },
  {
   "cell_type": "code",
   "execution_count": null,
   "id": "3d6b70b9",
   "metadata": {
    "hide-output": false
   },
   "outputs": [],
   "source": [
    "print(x_1d[0:3] == x_1d[:])\n",
    "print(x_1d[0:2])"
   ]
  },
  {
   "cell_type": "markdown",
   "id": "d81c3a21",
   "metadata": {},
   "source": [
    "The differences emerge as we move into higher dimensions.\n",
    "\n",
    "Next, we define a 2-dimensional array (a matrix)"
   ]
  },
  {
   "cell_type": "code",
   "execution_count": null,
   "id": "533dbb0d",
   "metadata": {
    "hide-output": false
   },
   "outputs": [],
   "source": [
    "x_2d = np.array([[1, 2, 3], [4, 5, 6], [7, 8, 9]])\n",
    "print(x_2d)"
   ]
  },
  {
   "cell_type": "markdown",
   "id": "c8cf3f50",
   "metadata": {},
   "source": [
    "Notice that the data is no longer represented as something flat, but rather,\n",
    "as three rows and three columns of numbers.\n",
    "\n",
    "The first question that you might ask yourself is: “how do I access the values in this array?”\n",
    "\n",
    "You access each element by specifying a row first and then a column. For\n",
    "example, if we wanted to access the `6`, we would ask for the (1, 2) element."
   ]
  },
  {
   "cell_type": "code",
   "execution_count": null,
   "id": "94fa492c",
   "metadata": {
    "hide-output": false
   },
   "outputs": [],
   "source": [
    "print(x_2d[1, 2])  # Indexing into two dimensions!"
   ]
  },
  {
   "cell_type": "markdown",
   "id": "d6e0ddee",
   "metadata": {},
   "source": [
    "Or to get the top left corner…"
   ]
  },
  {
   "cell_type": "code",
   "execution_count": null,
   "id": "e96262ab",
   "metadata": {
    "hide-output": false
   },
   "outputs": [],
   "source": [
    "print(x_2d[0, 0])  # Indexing into two dimensions!"
   ]
  },
  {
   "cell_type": "markdown",
   "id": "ae2013c6",
   "metadata": {},
   "source": [
    "To get the first, and then second rows…"
   ]
  },
  {
   "cell_type": "code",
   "execution_count": null,
   "id": "faf10ebd",
   "metadata": {
    "hide-output": false
   },
   "outputs": [],
   "source": [
    "print(x_2d[0, :])\n",
    "print(x_2d[1, :])"
   ]
  },
  {
   "cell_type": "markdown",
   "id": "5b30d793",
   "metadata": {},
   "source": [
    "Or the columns…"
   ]
  },
  {
   "cell_type": "code",
   "execution_count": null,
   "id": "152ef7d8",
   "metadata": {
    "hide-output": false
   },
   "outputs": [],
   "source": [
    "print(x_2d[:, 0])\n",
    "print(x_2d[:, 1])"
   ]
  },
  {
   "cell_type": "markdown",
   "id": "ec6718b8",
   "metadata": {},
   "source": [
    "This continues to generalize, since numpy gives us as many dimensions as we want in an array.\n",
    "\n",
    "For example, we build a 3-dimensional array below."
   ]
  },
  {
   "cell_type": "code",
   "execution_count": null,
   "id": "1f484d55",
   "metadata": {
    "hide-output": false
   },
   "outputs": [],
   "source": [
    "x_3d_list = [[[1, 2, 3], [4, 5, 6]], [[10, 20, 30], [40, 50, 60]]]\n",
    "x_3d = np.array(x_3d_list)\n",
    "print(x_3d)"
   ]
  },
  {
   "cell_type": "markdown",
   "id": "e23f9de2",
   "metadata": {},
   "source": [
    "#### Array Indexing\n",
    "\n",
    "Now that there are multiple dimensions, indexing might feel somewhat non-obvious.\n",
    "\n",
    "Do the rows or columns come first? In higher dimensions, what is the order of\n",
    "the index?\n",
    "\n",
    "Notice that the array is built using a list of lists (you could also use tuples!).\n",
    "\n",
    "Indexing into the array will correspond to choosing elements from each list.\n",
    "\n",
    "First, notice that the dimensions give two stacked matrices, which we can access with"
   ]
  },
  {
   "cell_type": "code",
   "execution_count": null,
   "id": "c6457d50",
   "metadata": {
    "hide-output": false
   },
   "outputs": [],
   "source": [
    "print(x_3d[0])\n",
    "print(x_3d[1])"
   ]
  },
  {
   "cell_type": "markdown",
   "id": "f259c7f1",
   "metadata": {},
   "source": [
    "In the case of the first, it is synonymous with"
   ]
  },
  {
   "cell_type": "code",
   "execution_count": null,
   "id": "afbb4b24",
   "metadata": {
    "hide-output": false
   },
   "outputs": [],
   "source": [
    "print(x_3d[0, :, :])"
   ]
  },
  {
   "cell_type": "markdown",
   "id": "e376c4b0",
   "metadata": {},
   "source": [
    "Let’s work through another example to further clarify this concept with our\n",
    "3-dimensional array.\n",
    "\n",
    "Our goal will be to find the index that retrieves the `4` out of `x_3d`.\n",
    "\n",
    "Recall that when we created `x_3d`, we used the list `[[[1, 2, 3], [4, 5, 6]], [[10, 20, 30], [40, 50, 60]]]`.\n",
    "\n",
    "Notice that the 0 element of that list is `[[1, 2, 3], [4, 5, 6]]`. This is the\n",
    "list that contains the `4` so the first index we would use is a 0."
   ]
  },
  {
   "cell_type": "code",
   "execution_count": null,
   "id": "5290fad1",
   "metadata": {
    "hide-output": false
   },
   "outputs": [],
   "source": [
    "print(f\"The 0 element is {x_3d_list[0]}\")\n",
    "print(f\"The 1 element is {x_3d_list[1]}\")"
   ]
  },
  {
   "cell_type": "markdown",
   "id": "ba6adf57",
   "metadata": {},
   "source": [
    "We then move to the next lists which were the 0 element of the inner-most dimension. Notice that\n",
    "the two lists at this level `[1, 2, 3]` and `[3, 4, 5]`.\n",
    "\n",
    "The 4 is in the second 1 element (index `1`), so the second index we would choose is 1."
   ]
  },
  {
   "cell_type": "code",
   "execution_count": null,
   "id": "caa4585b",
   "metadata": {
    "hide-output": false
   },
   "outputs": [],
   "source": [
    "print(f\"The 0 element of the 0 element is {x_3d_list[0][0]}\")\n",
    "print(f\"The 1 element of the 0 element is {x_3d_list[0][1]}\")"
   ]
  },
  {
   "cell_type": "markdown",
   "id": "3b24a0ab",
   "metadata": {},
   "source": [
    "Finally, we move to the outer-most dimension, which has a list of numbers\n",
    "`[4, 5, 6]`.\n",
    "\n",
    "The 4 is element 0 of this list, so the third, or outer-most index, would be `0`."
   ]
  },
  {
   "cell_type": "code",
   "execution_count": null,
   "id": "8972a5ea",
   "metadata": {
    "hide-output": false
   },
   "outputs": [],
   "source": [
    "print(f\"The 0 element of the 1 element of the 0 element is {x_3d_list[0][1][0]}\")"
   ]
  },
  {
   "cell_type": "markdown",
   "id": "879cccb1",
   "metadata": {},
   "source": [
    "Now we can use these same indices to index into the array. With an array, we can index using a single operation rather than repeated indexing as we did with the list `x_3d_list[0][1][0]`.\n",
    "\n",
    "Let’s test it to see whether we did it correctly!"
   ]
  },
  {
   "cell_type": "code",
   "execution_count": null,
   "id": "ccc0c8a7",
   "metadata": {
    "hide-output": false
   },
   "outputs": [],
   "source": [
    "print(x_3d[0, 1, 0])"
   ]
  },
  {
   "cell_type": "markdown",
   "id": "93b182cd",
   "metadata": {},
   "source": [
    "Success!"
   ]
  },
  {
   "cell_type": "markdown",
   "id": "42f24bf9",
   "metadata": {},
   "source": [
    "#### Exercise\n",
    "\n",
    "See exercise 1 in the [exercise list](#ex3-1)."
   ]
  },
  {
   "cell_type": "markdown",
   "id": "56634d07",
   "metadata": {},
   "source": [
    "#### Exercise\n",
    "\n",
    "See exercise 2 in the [exercise list](#ex3-1).\n",
    "\n",
    "We can also select multiple elements at a time – this is called slicing.\n",
    "\n",
    "If we wanted to have an array with just `[1, 2, 3]` then we would do"
   ]
  },
  {
   "cell_type": "code",
   "execution_count": null,
   "id": "01e9c686",
   "metadata": {
    "hide-output": false
   },
   "outputs": [],
   "source": [
    "print(x_3d[0, 0, :])"
   ]
  },
  {
   "cell_type": "markdown",
   "id": "6235b307",
   "metadata": {},
   "source": [
    "Notice that we put a `:` on the dimension where we want to select all of the elements. We can also\n",
    "slice out subsets of the elements by doing `start:stop+1`.\n",
    "\n",
    "Notice how the following arrays differ."
   ]
  },
  {
   "cell_type": "code",
   "execution_count": null,
   "id": "7724d664",
   "metadata": {
    "hide-output": false
   },
   "outputs": [],
   "source": [
    "print(x_3d[:, 0, :])\n",
    "print(x_3d[:, 0, 0:2])\n",
    "print(x_3d[:, 0, :2])  # the 0  in 0:2 is optional"
   ]
  },
  {
   "cell_type": "markdown",
   "id": "5b685460",
   "metadata": {},
   "source": [
    "#### Exercise\n",
    "\n",
    "See exercise 3 in the [exercise list](#ex3-1)."
   ]
  },
  {
   "cell_type": "markdown",
   "id": "523ece92",
   "metadata": {},
   "source": [
    "### Array Functionality"
   ]
  },
  {
   "cell_type": "markdown",
   "id": "4e89aac2",
   "metadata": {},
   "source": [
    "#### Array Properties\n",
    "\n",
    "All numpy arrays have various useful properties.\n",
    "\n",
    "Properties are similar to methods in that they’re accessed through\n",
    "the “dot notation.” However, they aren’t a function so we don’t need parentheses.\n",
    "\n",
    "The two most frequently used properties are `shape` and `dtype`.\n",
    "\n",
    "`shape` tells us how many elements are in each array dimension.\n",
    "\n",
    "`dtype` tells us the types of an array’s elements.\n",
    "\n",
    "Let’s do some examples to see these properties in action."
   ]
  },
  {
   "cell_type": "code",
   "execution_count": null,
   "id": "69fe175f",
   "metadata": {
    "hide-output": false
   },
   "outputs": [],
   "source": [
    "x = np.array([[1, 2, 3], [4, 5, 6]])\n",
    "print(x.shape)\n",
    "print(x.dtype)"
   ]
  },
  {
   "cell_type": "markdown",
   "id": "df66d417",
   "metadata": {},
   "source": [
    "We’ll use this to practice unpacking a tuple, like `x.shape`, directly into variables."
   ]
  },
  {
   "cell_type": "code",
   "execution_count": null,
   "id": "e135196b",
   "metadata": {
    "hide-output": false
   },
   "outputs": [],
   "source": [
    "rows, columns = x.shape\n",
    "print(f\"rows = {rows}, columns = {columns}\")"
   ]
  },
  {
   "cell_type": "code",
   "execution_count": null,
   "id": "f1cf2b13",
   "metadata": {
    "hide-output": false
   },
   "outputs": [],
   "source": [
    "x = np.array([True, False, True])\n",
    "print(x.shape)\n",
    "print(x.dtype)"
   ]
  },
  {
   "cell_type": "markdown",
   "id": "dc854ce2",
   "metadata": {},
   "source": [
    "Note that in the above, the `(3,)` represents a tuple of length 1, distinct from a scalar integer `3`."
   ]
  },
  {
   "cell_type": "code",
   "execution_count": null,
   "id": "9cd8a079",
   "metadata": {
    "hide-output": false
   },
   "outputs": [],
   "source": [
    "x = np.array([\n",
    "    [[1.0, 2.0], [3.0, 4.0], [5.0, 6.0]],\n",
    "    [[7.0, 8.0], [9.0, 10.0], [11.0, 12.0]]\n",
    "])\n",
    "print(x.shape)\n",
    "print(x.dtype)"
   ]
  },
  {
   "cell_type": "markdown",
   "id": "43984753",
   "metadata": {},
   "source": [
    "#### Creating Arrays\n",
    "\n",
    "It’s usually impractical to define arrays by hand as we have done so far.\n",
    "\n",
    "We’ll often need to create an array with default values and then fill it\n",
    "with other values.\n",
    "\n",
    "We can create arrays with the functions `np.zeros` and `np.ones`.\n",
    "\n",
    "Both functions take a tuple that denotes the shape of an array and creates an\n",
    "array filled with 0s or 1s respectively."
   ]
  },
  {
   "cell_type": "code",
   "execution_count": null,
   "id": "285c75ac",
   "metadata": {
    "hide-output": false
   },
   "outputs": [],
   "source": [
    "sizes = (2, 3, 4)\n",
    "x = np.zeros(sizes) # note, a tuple!\n",
    "x"
   ]
  },
  {
   "cell_type": "code",
   "execution_count": null,
   "id": "43e2a7a8",
   "metadata": {
    "hide-output": false
   },
   "outputs": [],
   "source": [
    "y = np.ones((4))\n",
    "y"
   ]
  },
  {
   "cell_type": "markdown",
   "id": "dce126b1",
   "metadata": {},
   "source": [
    "#### Broadcasting Operations\n",
    "\n",
    "Two types of operations that will be useful for arrays of any dimension are:\n",
    "\n",
    "1. Operations between an array and a single number.  \n",
    "1. Operations between two arrays of the same shape.  \n",
    "\n",
    "\n",
    "When we perform operations on an array by using a single number, we simply apply that operation to every element of the array."
   ]
  },
  {
   "cell_type": "code",
   "execution_count": null,
   "id": "1a478c66",
   "metadata": {
    "hide-output": false
   },
   "outputs": [],
   "source": [
    "# Using np.ones to create an array\n",
    "x = np.ones((2, 2))\n",
    "print(\"x = \", x)\n",
    "print(\"2 + x = \", 2 + x)\n",
    "print(\"2 - x = \", 2 - x)\n",
    "print(\"2 * x = \", 2 * x)\n",
    "print(\"x / 2 = \", x / 2)"
   ]
  },
  {
   "cell_type": "markdown",
   "id": "64403155",
   "metadata": {},
   "source": [
    "#### Exercise\n",
    "\n",
    "See exercise 4 in the [exercise list](#ex3-1).\n",
    "\n",
    "Operations between two arrays of the same size, in this case `(2, 2)`, simply apply the operation\n",
    "element-wise between the arrays."
   ]
  },
  {
   "cell_type": "code",
   "execution_count": null,
   "id": "3e7feeaa",
   "metadata": {
    "hide-output": false
   },
   "outputs": [],
   "source": [
    "x = np.array([[1.0, 2.0], [3.0, 4.0]])\n",
    "y = np.ones((2, 2))\n",
    "print(\"x = \", x)\n",
    "print(\"y = \", y)\n",
    "print(\"x + y = \", x + y)\n",
    "print(\"x - y\", x - y)\n",
    "print(\"(elementwise) x * y = \", x * y)\n",
    "print(\"(elementwise) x / y = \", x / y)"
   ]
  },
  {
   "cell_type": "markdown",
   "id": "e3afee73",
   "metadata": {},
   "source": [
    "### Universal Functions\n",
    "\n",
    "We will often need to transform data by applying a function to every element of an array.\n",
    "\n",
    "Numpy has good support for these operations, called *universal functions* or ufuncs for short.\n",
    "\n",
    "The\n",
    "[numpy documentation](https://docs.scipy.org/doc/numpy/reference/ufuncs.html?highlight=ufunc#available-ufuncs)\n",
    "has a list of all available ufuncs.\n",
    "\n",
    ">**Note**\n",
    ">\n",
    ">You should think of operations between a single number and an array, as we\n",
    "just saw, as a ufunc.\n",
    "\n",
    "Below, we will create an array that contains 10 points between 0 and 25."
   ]
  },
  {
   "cell_type": "code",
   "execution_count": null,
   "id": "44e189cb",
   "metadata": {
    "hide-output": false
   },
   "outputs": [],
   "source": [
    "# This is similar to range -- but spits out 50 evenly spaced points from 0.5\n",
    "# to 25.\n",
    "x = np.linspace(0.5, 25, 10)"
   ]
  },
  {
   "cell_type": "markdown",
   "id": "9a1b0965",
   "metadata": {},
   "source": [
    "We will experiment with some ufuncs below:"
   ]
  },
  {
   "cell_type": "code",
   "execution_count": null,
   "id": "e837efa9",
   "metadata": {
    "hide-output": false
   },
   "outputs": [],
   "source": [
    "# Applies the sin function to each element of x\n",
    "np.sin(x)"
   ]
  },
  {
   "cell_type": "markdown",
   "id": "90489f23",
   "metadata": {},
   "source": [
    "Of course, we could do the same thing with a comprehension, but\n",
    "the code would be both less readable and less efficient."
   ]
  },
  {
   "cell_type": "code",
   "execution_count": null,
   "id": "a81768ed",
   "metadata": {
    "hide-output": false
   },
   "outputs": [],
   "source": [
    "np.array([np.sin(xval) for xval in x])"
   ]
  },
  {
   "cell_type": "markdown",
   "id": "7acab661",
   "metadata": {},
   "source": [
    "You can use the inspector or the docstrings with `np.<TAB>` to see other available functions, such as"
   ]
  },
  {
   "cell_type": "code",
   "execution_count": null,
   "id": "15ef4c80",
   "metadata": {
    "hide-output": false
   },
   "outputs": [],
   "source": [
    "# Takes log of each element of x\n",
    "np.log(x)"
   ]
  },
  {
   "cell_type": "markdown",
   "id": "a4b11db7",
   "metadata": {},
   "source": [
    "A benefit of using the numpy arrays is that numpy has succinct code for combining vectorized operations."
   ]
  },
  {
   "cell_type": "code",
   "execution_count": null,
   "id": "5439046b",
   "metadata": {
    "hide-output": false
   },
   "outputs": [],
   "source": [
    "# Calculate log(z) * z elementwise\n",
    "z = np.array([1,2,3])\n",
    "np.log(z) * z"
   ]
  },
  {
   "cell_type": "markdown",
   "id": "49939801",
   "metadata": {},
   "source": [
    "### Exercise\n",
    "\n",
    "See exercise 5 in the [exercise list](#ex3-1)."
   ]
  },
  {
   "cell_type": "markdown",
   "id": "c65932e3",
   "metadata": {},
   "source": [
    "### Other Useful Array Operations\n",
    "\n",
    "We have barely scratched the surface of what is possible using numpy arrays.\n",
    "\n",
    "We hope you will experiment with other functions from numpy and see how they\n",
    "work.\n",
    "\n",
    "Below, we demonstrate a few more array operations that we find most useful – just to give you an idea\n",
    "of what else you might find.\n",
    "\n",
    "When you’re attempting to do an operation that you feel should be common, the numpy library probably has it.\n",
    "\n",
    "Use Google and tab completion to check this."
   ]
  },
  {
   "cell_type": "code",
   "execution_count": null,
   "id": "b5cd12be",
   "metadata": {
    "hide-output": false
   },
   "outputs": [],
   "source": [
    "x = np.linspace(0, 25, 10)"
   ]
  },
  {
   "cell_type": "code",
   "execution_count": null,
   "id": "a28b1e49",
   "metadata": {
    "hide-output": false
   },
   "outputs": [],
   "source": [
    "np.mean(x)"
   ]
  },
  {
   "cell_type": "code",
   "execution_count": null,
   "id": "c69632bf",
   "metadata": {
    "hide-output": false
   },
   "outputs": [],
   "source": [
    "np.std(x)"
   ]
  },
  {
   "cell_type": "code",
   "execution_count": null,
   "id": "93b062a6",
   "metadata": {
    "hide-output": false
   },
   "outputs": [],
   "source": [
    "# np.min, np.median, etc... are also defined\n",
    "np.max(x)"
   ]
  },
  {
   "cell_type": "code",
   "execution_count": null,
   "id": "1ff93612",
   "metadata": {
    "hide-output": false
   },
   "outputs": [],
   "source": [
    "np.diff(x)"
   ]
  },
  {
   "cell_type": "code",
   "execution_count": null,
   "id": "2b635e91",
   "metadata": {
    "hide-output": false
   },
   "outputs": [],
   "source": [
    "np.reshape(x, (5, 2))"
   ]
  },
  {
   "cell_type": "markdown",
   "id": "fe692475",
   "metadata": {},
   "source": [
    "Note that many of these operations can be called as methods on `x`:"
   ]
  },
  {
   "cell_type": "code",
   "execution_count": null,
   "id": "905a1223",
   "metadata": {
    "hide-output": false
   },
   "outputs": [],
   "source": [
    "print(x.mean())\n",
    "print(x.std())\n",
    "print(x.max())\n",
    "# print(x.diff())  # this one is not a method...\n",
    "print(x.reshape((5, 2)))"
   ]
  },
  {
   "cell_type": "markdown",
   "id": "9e9c356b",
   "metadata": {},
   "source": [
    "Finally, `np.vectorize` can be conveniently used with numpy broadcasting and any functions."
   ]
  },
  {
   "cell_type": "code",
   "execution_count": null,
   "id": "00e2e143",
   "metadata": {
    "hide-output": false
   },
   "outputs": [],
   "source": [
    "np.random.seed(42)\n",
    "x = np.random.rand(10)\n",
    "print(x)\n",
    "\n",
    "def f(val):\n",
    "    if val < 0.3:\n",
    "        return \"low\"\n",
    "    else:\n",
    "        return \"high\"\n",
    "\n",
    "print(f(0.1)) # scalar, no problem\n",
    "# f(x) # array, fails since f() is scalar\n",
    "f_vec = np.vectorize(f)\n",
    "print(f_vec(x))"
   ]
  },
  {
   "cell_type": "markdown",
   "id": "7ffb1d86",
   "metadata": {},
   "source": [
    "Caution: `np.vectorize` is convenient for numpy broadcasting with any function\n",
    "but is not intended to be high performance.\n",
    "\n",
    "When speed matters, directly write a `f` function to work on arrays.\n",
    "\n",
    "\n",
    "<a id='ex3-1'></a>"
   ]
  },
  {
   "cell_type": "markdown",
   "id": "1bfe99d1",
   "metadata": {},
   "source": [
    "## Exercises"
   ]
  },
  {
   "cell_type": "markdown",
   "id": "de26a5be",
   "metadata": {},
   "source": [
    "### Exercise 1\n",
    "\n",
    "Try indexing into another element of your choice from the\n",
    "3-dimensional array.\n",
    "\n",
    "Building an understanding of indexing means working through this\n",
    "type of operation several times – without skipping steps!\n",
    "\n",
    "([back to text](#dir3-1-1))"
   ]
  },
  {
   "cell_type": "markdown",
   "id": "511d76c8",
   "metadata": {},
   "source": [
    "### Exercise 2\n",
    "\n",
    "Look at the 2-dimensional array `x_2d`.\n",
    "\n",
    "Does the inner-most index correspond to rows or columns? What does the\n",
    "outer-most index correspond to?\n",
    "\n",
    "Write your thoughts.\n",
    "\n",
    "([back to text](#dir3-1-2))"
   ]
  },
  {
   "cell_type": "markdown",
   "id": "3965307e",
   "metadata": {},
   "source": [
    "### Exercise 3\n",
    "\n",
    "What would you do to extract the array `[[5, 6], [50, 60]]`?\n",
    "\n",
    "([back to text](#dir3-1-3))"
   ]
  },
  {
   "cell_type": "markdown",
   "id": "96897191",
   "metadata": {},
   "source": [
    "### Exercise 4\n",
    "\n",
    "Do you recall what multiplication by an integer did for lists?\n",
    "\n",
    "How does this differ?\n",
    "\n",
    "([back to text](#dir3-1-4))"
   ]
  },
  {
   "cell_type": "markdown",
   "id": "428bf629",
   "metadata": {},
   "source": [
    "### Exercise 5\n",
    "\n",
    "Let’s revisit a bond pricing example we saw in [Control flow](https://datascience.quantecon.org/../python_fundamentals/control_flow.html).\n",
    "\n",
    "Recall that the equation for pricing a bond with coupon payment $ C $,\n",
    "face value $ M $, yield to maturity $ i $, and periods to maturity\n",
    "$ N $ is\n",
    "\n",
    "$$\n",
    "\\begin{align*}\n",
    "    P &= \\left(\\sum_{n=1}^N \\frac{C}{(i+1)^n}\\right) + \\frac{M}{(1+i)^N} \\\\\n",
    "      &= C \\left(\\frac{1 - (1+i)^{-N}}{i} \\right) + M(1+i)^{-N}\n",
    "\\end{align*}\n",
    "$$\n",
    "\n",
    "In the code cell below, we have defined variables for `i`, `M` and `C`.\n",
    "\n",
    "You have two tasks:\n",
    "\n",
    "1. Define a numpy array `N` that contains all maturities between 1 and 10  \n",
    "  look at the `np.arange` function.  \n",
    "1. Using the equation above, determine the bond prices of all maturity levels in your array.  "
   ]
  },
  {
   "cell_type": "code",
   "execution_count": null,
   "id": "bf649ca5",
   "metadata": {
    "hide-output": false
   },
   "outputs": [],
   "source": [
    "i = 0.03\n",
    "M = 100\n",
    "C = 5\n",
    "\n",
    "# Define array here\n",
    "\n",
    "# price bonds here"
   ]
  },
  {
   "cell_type": "markdown",
   "id": "d1620b94",
   "metadata": {},
   "source": [
    "([back to text](#dir3-1-5))"
   ]
  }
 ],
 "metadata": {
  "date": 1618447279.2401001,
  "filename": "numpy_arrays.md",
  "kernelspec": {
   "display_name": "Python",
   "language": "python3",
   "name": "python3"
  },
  "title": "Introduction to Numpy"
 },
 "nbformat": 4,
 "nbformat_minor": 5
}