{
 "cells": [
  {
   "cell_type": "markdown",
   "id": "cb899cc1",
   "metadata": {},
   "source": [
    "# Contributors:\n",
    "\n",
    "This project would not have been possible without contributions from the people listed\n",
    "on this page. They were involved in authoring/editing material, designing the website,\n",
    "and providing technological support. We are grateful to each of these individuals for\n",
    "their contributions.\n",
    "\n",
    "- [Quentin Batista](https://github.com/QBatista)  \n",
    "  - Becker Friedman Institute  \n",
    "- [Kim Ruhl](http://kimjruhl.com/)  \n",
    "  - UW  \n",
    "- [Thomas Sargent](http://www.tomsargent.com/)  \n",
    "  - NYU  \n",
    "- [Paul Schrimpf](https://economics.ubc.ca/faculty-and-staff/paul-schrimpf/)  \n",
    "  - UBC  \n",
    "- [Arnav Sood](https://arnavsood.com)  \n",
    "  - UBC  \n",
    "- [Andrij Stachurski](https://drdrij.com/)  \n",
    "  - Web Consultant  \n",
    "- [John Stachurski](http://johnstachurski.net)  \n",
    "  - ANU  \n",
    "- [Natasha Watkins](https://github.com/natashawatkins)  \n",
    "  - UCLA  \n",
    "- [Michael Waugh](http://www.waugheconomics.com/)  \n",
    "  - NYU  \n",
    "- [Peifan Wu](https://peifanwu.weebly.com)  \n",
    "  - UBC  "
   ]
  }
 ],
 "metadata": {
  "date": 1618436494.069461,
  "filename": "contributors.md",
  "kernelspec": {
   "display_name": "Python",
   "language": "python3",
   "name": "python3"
  },
  "title": "Contributors:"
 },
 "nbformat": 4,
 "nbformat_minor": 5
}