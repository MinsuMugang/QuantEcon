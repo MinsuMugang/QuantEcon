{
 "cells": [
  {
   "cell_type": "markdown",
   "id": "8ed12889",
   "metadata": {},
   "source": [
    "# Problem Set 4\n",
    "\n",
    "See “Check Your Understanding” from [../scientific/applied_linalg](https://datascience.quantecon.org/../scientific/applied_linalg.html) and [../scientific/randomness](https://datascience.quantecon.org/../scientific/randomness.html)"
   ]
  },
  {
   "cell_type": "markdown",
   "id": "9e5ce6fc",
   "metadata": {},
   "source": [
    "## Question 1 and 2\n",
    "\n",
    "Alice is a stock broker who owns two types of assets: A and B. She owns 100\n",
    "units of asset A and 50 units of asset B. The current interest rate is 5%.\n",
    "Each of the A assets have a remaining duration of 6 years and pay\n",
    "$ 1500 $ dollars each year while each of the B assets have a remaining duration\n",
    "of 4 years and pay $ 500 $ dollars each year (assume the first payment starts at the beginning of the\n",
    "first year and hence, should not be discounted)."
   ]
  },
  {
   "cell_type": "markdown",
   "id": "acde83c5",
   "metadata": {},
   "source": [
    "### Question 1\n",
    "\n",
    "Alice would like to retire if she\n",
    "can sell her assets for more than \\$1 million. Use vector addition, scalar\n",
    "multiplication, and dot products to determine whether she can retire."
   ]
  },
  {
   "cell_type": "code",
   "execution_count": null,
   "id": "4a4acbb5",
   "metadata": {
    "hide-output": false
   },
   "outputs": [],
   "source": [
    "r = 0.05\n",
    "\n",
    "# your code here"
   ]
  },
  {
   "cell_type": "markdown",
   "id": "e4d5400f",
   "metadata": {},
   "source": [
    "### Question 2\n",
    "\n",
    "Consider if Alice had several alternate portfolios and decide which is the most valuable.\n",
    "Use a matrix product to simultaneously calculate the values of each portfolio,\n",
    "as we did in the lecture notes.\n",
    "\n",
    "- Portfolio 1: 100 units of A, 40 units of B  \n",
    "- Portfolio 2: 50 units of A, 150 units of B  \n",
    "- Portfolio 3: 120 units of A, 0 units of B  "
   ]
  },
  {
   "cell_type": "code",
   "execution_count": null,
   "id": "f616043d",
   "metadata": {
    "hide-output": false
   },
   "outputs": [],
   "source": [
    "r = 0.05\n",
    "\n",
    "# your code here"
   ]
  },
  {
   "cell_type": "markdown",
   "id": "3973b3c9",
   "metadata": {},
   "source": [
    "## Question 3\n",
    "\n",
    "As in [../scientific/applied_linalg](https://datascience.quantecon.org/../scientific/applied_linalg.html):\n",
    "\n",
    "Consider an economy where in any given year, $ \\alpha = 3\\% $ of workers lose their jobs and\n",
    "$ \\phi = 12\\% $ of unemployed workers find jobs.\n",
    "\n",
    "Define the vector $ x_0 = \\begin{bmatrix} 600,000 & 200,000 \\end{bmatrix} $ as the number of\n",
    "employed and unemployed workers (respectively) at time $ 0 $ in the economy.\n",
    "\n",
    "Adapting the code from the lecture notes, plot the unemployment rate over time in this economy for $ t = 0, \\ldots 20 $ (i.e. number of employed over total number of workers)."
   ]
  },
  {
   "cell_type": "code",
   "execution_count": null,
   "id": "70c31dc7",
   "metadata": {
    "hide-output": false
   },
   "outputs": [],
   "source": [
    "# your code here"
   ]
  },
  {
   "cell_type": "markdown",
   "id": "01257b84",
   "metadata": {},
   "source": [
    "Continue the simulation for 1000 periods to find a long-run unemployment rate."
   ]
  },
  {
   "cell_type": "code",
   "execution_count": null,
   "id": "a718e985",
   "metadata": {
    "hide-output": false
   },
   "outputs": [],
   "source": [
    "# your code here"
   ]
  },
  {
   "cell_type": "markdown",
   "id": "eb652347",
   "metadata": {},
   "source": [
    "Adapt the lecture notes code to use the matrix you set up for the evolution equation, and\n",
    "find the (left) eigenvector associated with the unit eigenvalue.  Rescale this as required (i.e.\n",
    "it is only unique up to a scaling parameter) to find the stationary unemployment rate. Compare to the simulated\n",
    "one."
   ]
  },
  {
   "cell_type": "code",
   "execution_count": null,
   "id": "eea93b97",
   "metadata": {
    "hide-output": false
   },
   "outputs": [],
   "source": [
    "# your code here"
   ]
  },
  {
   "cell_type": "markdown",
   "id": "a8a3a05f",
   "metadata": {},
   "source": [
    "## Question 4\n",
    "\n",
    "Adapt our unemployment example to add in an additional category: a probationary period where a firm is deciding if they want to make\n",
    "an employee a permanent offer.  Now, in any given year\n",
    "\n",
    "- $ \\alpha = 3\\% $ of workers with full job offers lose their jobs.  \n",
    "- $ \\phi = 12\\% $ of unemployed workers find a “probationary” job (i.e., they cannot get the permanent job directly).  \n",
    "- Probation lasts for exactly an entire period, at which point $ \\lambda = 60\\% $ of the employees get a permanent job offer, while the remainder become unemployed.  \n",
    "\n",
    "\n",
    "Define the vector $ x_0 = \\begin{bmatrix} 600,000 & 200,000 & 100,000\\end{bmatrix} $ as the number of\n",
    "fully employed, unemployed, and probationary workers (respectively) at time $ 0 $ in the economy.\n",
    "\n",
    "Adapting the code from the lecture notes, plot the mass of all three types of employment situations in this economy for $ t = 0, \\ldots 20 $."
   ]
  },
  {
   "cell_type": "code",
   "execution_count": null,
   "id": "5aadcee7",
   "metadata": {
    "hide-output": false
   },
   "outputs": [],
   "source": [
    "# your code here"
   ]
  },
  {
   "cell_type": "markdown",
   "id": "8ac63657",
   "metadata": {},
   "source": [
    "## Question 5\n",
    "\n",
    "Wikipedia and other credible statistics sources tell us that the mean and\n",
    "variance of the Uniform(0, 1) distribution are (1/2, 1/12) respectively.\n",
    "\n",
    "How could we check whether the numpy random numbers approximate these\n",
    "values? (*hint*: some functions in [../scientific/numpy_arrays](https://datascience.quantecon.org/../scientific/numpy_arrays.html) and [../scientific/randomness](https://datascience.quantecon.org/../scientific/randomness.html) might be useful)"
   ]
  },
  {
   "cell_type": "code",
   "execution_count": null,
   "id": "6720e645",
   "metadata": {
    "hide-output": false
   },
   "outputs": [],
   "source": [
    "# your code here"
   ]
  },
  {
   "cell_type": "markdown",
   "id": "efaa7786",
   "metadata": {},
   "source": [
    "## Question 6\n",
    "\n",
    "Assume you have been given the opportunity to choose between one of three financial assets.\n",
    "\n",
    "You will be given the asset for free, allowed to hold it indefinitely, and will keep all payoffs.\n",
    "\n",
    "Also assume the assets’ payoffs are distributed as follows (the notations are the same as in “Continuous Distributions” subsection of [../scientific/randomness](https://datascience.quantecon.org/../scientific/randomness.html)):\n",
    "\n",
    "1. Normal with $ \\mu = 10, \\sigma = 5 $  \n",
    "1. Gamma with $ k = 5.3, \\theta = 2 $  \n",
    "1. Gamma with $ k = 5, \\theta = 2 $  \n",
    "\n",
    "\n",
    "Use `scipy.stats` to answer the following questions:\n",
    "\n",
    "- Which asset has the highest average returns?  \n",
    "- Which asset has the highest median returns?  \n",
    "- Which asset has the lowest coefficient of variation, i.e., standard deviation divided by mean? (This measure is similar to “Sharpe Ratio”)  \n",
    "- Which asset would you choose? Why? (There is not a single right answer here. Just be creative and express your preferences.)  \n",
    "\n",
    "\n",
    "You can find the official documentation of `scipy.stats` [here](https://docs.scipy.org/doc/scipy/reference/stats.html)"
   ]
  },
  {
   "cell_type": "code",
   "execution_count": null,
   "id": "aa863b56",
   "metadata": {
    "hide-output": false
   },
   "outputs": [],
   "source": [
    "# your code here"
   ]
  },
  {
   "cell_type": "markdown",
   "id": "c85153cf",
   "metadata": {},
   "source": [
    "## Question 7\n",
    "\n",
    "Let’s revisit the unemployment example from the [../scientific/applied_linalg](https://datascience.quantecon.org/../scientific/applied_linalg.html).\n",
    "\n",
    "We’ll repeat necessary details here.\n",
    "\n",
    "Consider an economy where in any given year, $ \\alpha = 5\\% $ of workers lose their jobs, and\n",
    "$ \\phi = 10\\% $ of unemployed workers find jobs.\n",
    "\n",
    "Initially, 90% of the 1,000,000 workers are employed.\n",
    "\n",
    "Suppose that the average employed worker earns 10 dollars while an unemployed worker\n",
    "earns 1 dollar per period.\n",
    "\n",
    "With this, do the following:\n",
    "\n",
    "- Represent this problem as a Markov chain by defining the three components defined above  "
   ]
  },
  {
   "cell_type": "code",
   "execution_count": null,
   "id": "6eeeaf1f",
   "metadata": {
    "hide-output": false
   },
   "outputs": [],
   "source": [
    "# define components here"
   ]
  },
  {
   "cell_type": "markdown",
   "id": "6b7d59a4",
   "metadata": {},
   "source": [
    "- Construct an instance of the QuantEcon MarkovChain using the objects defined in part 1.  "
   ]
  },
  {
   "cell_type": "code",
   "execution_count": null,
   "id": "59e148ae",
   "metadata": {
    "hide-output": false
   },
   "outputs": [],
   "source": [
    "# construct the Markov chain"
   ]
  },
  {
   "cell_type": "markdown",
   "id": "05fd8b13",
   "metadata": {},
   "source": [
    "- Simulate the Markov chain 5 times for 50 time periods starting from an employment state and plot the chains over time (see helper code below).  "
   ]
  },
  {
   "cell_type": "code",
   "execution_count": null,
   "id": "cca91641",
   "metadata": {
    "hide-output": false
   },
   "outputs": [],
   "source": [
    "n = 50\n",
    "M = 5\n",
    "\n",
    "# uncomment the lines below and fill in the blanks\n",
    "# sim = XXXXX.simulate(n, init = XXXXX, num_reps = M)\n",
    "# fig, ax = plt.subplots(figsize=(10, 8))\n",
    "# ax.plot(range(n), sim.T, alpha=0.4)"
   ]
  },
  {
   "cell_type": "markdown",
   "id": "0fc301ee",
   "metadata": {},
   "source": [
    "- Using the approach above, simulate the Markov chain `M=20` times for 50 time periods. Instead of starting from an employment state, start off the `M` in proportion to the initial condition above (i.e. 90% of them in an employment state and 10% in an unemployment state). (Hint: you can pass a list to the `init` parameter in the `simulate` function.)  \n",
    "\n",
    "\n",
    "With this simulation, plot the average proportion of `M` agents in the employment state (i.e. it should start at 0.90 from the initial condition)."
   ]
  },
  {
   "cell_type": "code",
   "execution_count": null,
   "id": "073fda02",
   "metadata": {
    "hide-output": false
   },
   "outputs": [],
   "source": [
    "# define components here"
   ]
  },
  {
   "cell_type": "markdown",
   "id": "07aba24a",
   "metadata": {},
   "source": [
    "- Calculate the steady-state of the Markov chain and compare results from this simulation to the steady-state unemployment rate for the Markov chain (on a similar graph).  "
   ]
  },
  {
   "cell_type": "code",
   "execution_count": null,
   "id": "536942b6",
   "metadata": {
    "hide-output": false
   },
   "outputs": [],
   "source": [
    "# define components here"
   ]
  },
  {
   "cell_type": "markdown",
   "id": "d315c8b0",
   "metadata": {},
   "source": [
    "- Determine the average long-run payment for a worker in this setting. (Hint: Think about the stationary distribution)  "
   ]
  },
  {
   "cell_type": "code",
   "execution_count": null,
   "id": "66e54df4",
   "metadata": {
    "hide-output": false
   },
   "outputs": [],
   "source": [
    "# define components here\n",
    "\n",
    "# construct Markov chain\n",
    "\n",
    "\n",
    "# Long-run average payment"
   ]
  }
 ],
 "metadata": {
  "date": 1618432487.5326648,
  "filename": "problem_set_4.md",
  "kernelspec": {
   "display_name": "Python",
   "language": "python3",
   "name": "python3"
  },
  "title": "Problem Set 4"
 },
 "nbformat": 4,
 "nbformat_minor": 5
}