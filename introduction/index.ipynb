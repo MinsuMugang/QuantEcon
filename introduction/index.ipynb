{
 "cells": [
  {
   "cell_type": "markdown",
   "id": "f1f6c3d8",
   "metadata": {},
   "source": [
    "# Introduction\n",
    "\n",
    "In this section, we set the stage for the rest of the course.\n",
    "\n",
    "We will describe our goals and objectives.\n",
    "\n",
    "We will then talk about what a programming language is, how computers use them to do operations, and\n",
    "why we have chosen the Python language.\n",
    "\n",
    "We then present two potential environments for working through this course material:\n",
    "\n",
    "1. A cloud environment in which computations are performed remotely on the cloud and you interact\n",
    "  with this remote computer through your browser.  \n",
    "1. A local environment in which you install the appropriate software and all interactions are with\n",
    "  your own computer.  \n",
    "\n",
    "\n",
    "At the end of this section, we hope you understand what you’d like to accomplish with these lectures\n",
    "and that you are able to start and use a Jupyter notebook."
   ]
  },
  {
   "cell_type": "markdown",
   "id": "45ef8c97",
   "metadata": {},
   "source": [
    "##  [Course Description](https://quantecon.github.io/lecture-datascience.myst/overview.html)"
   ]
  },
  {
   "cell_type": "markdown",
   "id": "1f6bc1a0",
   "metadata": {},
   "source": [
    "##  [Getting Started](https://quantecon.github.io/lecture-datascience.myst/getting_started.html)"
   ]
  },
  {
   "cell_type": "markdown",
   "id": "b3fbba39",
   "metadata": {},
   "source": [
    "##  [Cloud Setup](https://quantecon.github.io/lecture-datascience.myst/cloud_setup.html)"
   ]
  },
  {
   "cell_type": "markdown",
   "id": "08387117",
   "metadata": {},
   "source": [
    "##  [Local Installation](https://quantecon.github.io/lecture-datascience.myst/local_install.html)"
   ]
  },
  {
   "cell_type": "markdown",
   "id": "028f21ed",
   "metadata": {},
   "source": [
    "##  [Troubleshooting](https://quantecon.github.io/lecture-datascience.myst/troubleshooting.html)"
   ]
  }
 ],
 "metadata": {
  "date": 1624413426.0711226,
  "filename": "index.md",
  "kernelspec": {
   "display_name": "Python",
   "language": "python3",
   "name": "python3"
  },
  "title": "Introduction"
 },
 "nbformat": 4,
 "nbformat_minor": 5
}