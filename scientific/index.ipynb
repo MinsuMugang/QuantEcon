{
 "cells": [
  {
   "cell_type": "markdown",
   "id": "6fdd7d1b",
   "metadata": {},
   "source": [
    "# Scientific Computing\n",
    "\n",
    "This section discusses several key aspects of scientific computing that enable modern economics, data science, and statistics.\n",
    "\n",
    "As the size of our data and the complexity of our models have increased (and continue doing so), we have become more reliant on computers to perform computations that we simply cannot do by hand.\n",
    "\n",
    "In this section, we will cover\n",
    "\n",
    "- Python’s main numerical library numpy and how to work with its array type.  \n",
    "- A basic introduction to visualizing data with matplotlib.  \n",
    "- A refresher on some key linear algebra concepts.  \n",
    "- A review of basic probability concepts and how to use simulation in learning economics.  \n",
    "- Using a computer to perform optimization.  \n",
    "\n",
    "\n",
    "Many of the tools learned in this section will continue to show up throughout the\n",
    "[pandas](https://quantecon.github.io/lecture-datascience.myst/../pandas/index.html) and [applications](https://quantecon.github.io/lecture-datascience.myst/../applications/index.html) sections.\n",
    "\n",
    "This section has more formal math than the previous material (and there will be more\n",
    "math as you cover certain methods).\n",
    "\n",
    "We expect that students’ mathematical backgrounds will range widely, so for those who have slightly less preparation, please don’t let this scare you.\n",
    "\n",
    "We have found that although understanding these tools will require some extra effort, it will give you a leg up in almost any career you might consider."
   ]
  },
  {
   "cell_type": "markdown",
   "id": "f9e7edc1",
   "metadata": {},
   "source": [
    "##  [Introduction to Numpy](https://quantecon.github.io/lecture-datascience.myst/numpy_arrays.html)"
   ]
  },
  {
   "cell_type": "markdown",
   "id": "b1b60a36",
   "metadata": {},
   "source": [
    "##  [Plotting](https://quantecon.github.io/lecture-datascience.myst/plotting.html)"
   ]
  },
  {
   "cell_type": "markdown",
   "id": "8bffdb7e",
   "metadata": {},
   "source": [
    "##  [Applied Linear Algebra](https://quantecon.github.io/lecture-datascience.myst/applied_linalg.html)"
   ]
  },
  {
   "cell_type": "markdown",
   "id": "482da011",
   "metadata": {},
   "source": [
    "##  [Randomness](https://quantecon.github.io/lecture-datascience.myst/randomness.html)"
   ]
  },
  {
   "cell_type": "markdown",
   "id": "1a4b2d32",
   "metadata": {},
   "source": [
    "##  [Optimization](https://quantecon.github.io/lecture-datascience.myst/optimization.html)"
   ]
  }
 ],
 "metadata": {
  "date": 1624413429.3370042,
  "filename": "index.md",
  "kernelspec": {
   "display_name": "Python",
   "language": "python3",
   "name": "python3"
  },
  "title": "Scientific Computing"
 },
 "nbformat": 4,
 "nbformat_minor": 5
}