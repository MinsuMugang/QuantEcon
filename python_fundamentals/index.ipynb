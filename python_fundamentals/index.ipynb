{
 "cells": [
  {
   "cell_type": "markdown",
   "id": "6f884a0f",
   "metadata": {},
   "source": [
    "# Python Fundamentals\n",
    "\n",
    "In this section, we begin with the basics.\n",
    "\n",
    "We will talk about what a programming language is and how computers use\n",
    "them to perform operations.\n",
    "\n",
    "We discuss why we chose the Python language for this course.\n",
    "\n",
    "We learn about core concepts like variables, data-types, and\n",
    "functions.\n",
    "\n",
    "We will become familiar with the core data-types built into Python,\n",
    "some standard functions we will frequently use, and learn how to define our own functions.\n",
    "\n",
    "By the end, you should have a solid grasp on core Python\n",
    "concepts, be prepared to study the next sections on numerical programming,\n",
    "and feel comfortable handling data."
   ]
  },
  {
   "cell_type": "markdown",
   "id": "704b3f81",
   "metadata": {},
   "source": [
    "##   [Basics](https://quantecon.github.io/lecture-datascience.myst/basics.html)"
   ]
  },
  {
   "cell_type": "markdown",
   "id": "83b5fc16",
   "metadata": {},
   "source": [
    "##   [Collections](https://quantecon.github.io/lecture-datascience.myst/collections.html)"
   ]
  },
  {
   "cell_type": "markdown",
   "id": "e436b443",
   "metadata": {},
   "source": [
    "##   [Control Flow](https://quantecon.github.io/lecture-datascience.myst/control_flow.html)"
   ]
  },
  {
   "cell_type": "markdown",
   "id": "692919b4",
   "metadata": {},
   "source": [
    "##   [Functions](https://quantecon.github.io/lecture-datascience.myst/functions.html)"
   ]
  }
 ],
 "metadata": {
  "date": 1624413429.0819538,
  "filename": "index.md",
  "kernelspec": {
   "display_name": "Python",
   "language": "python3",
   "name": "python3"
  },
  "title": "Python Fundamentals"
 },
 "nbformat": 4,
 "nbformat_minor": 5
}