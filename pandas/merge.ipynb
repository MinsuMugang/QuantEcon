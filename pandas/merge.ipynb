{
 "cells": [
  {
   "cell_type": "markdown",
   "id": "e7b1f23b",
   "metadata": {},
   "source": [
    "# Merge\n",
    "\n",
    "**Prerequisites**\n",
    "\n",
    "- [Reshape](https://datascience.quantecon.org/reshape.html)  \n",
    "\n",
    "\n",
    "**Outcomes**\n",
    "\n",
    "- Know the different pandas routines for combining datasets  \n",
    "- Know when to use `pd.concat` vs `pd.merge` vs `pd.join`  \n",
    "- Be able to apply the three main combining routines  \n",
    "\n",
    "\n",
    "**Data**\n",
    "\n",
    "- WDI data on GDP components, population, and square miles of countries  \n",
    "- Book ratings: 6,000,000 ratings for the 10,000 most rated books on\n",
    "  [Goodreads](https://www.goodreads.com/)  \n",
    "- Details for all delayed US domestic flights in November 2016,\n",
    "  obtained from the [Bureau of Transportation\n",
    "  Statistics](https://www.transtats.bts.gov/OT_Delay/OT_DelayCause1.asp)  "
   ]
  },
  {
   "cell_type": "code",
   "execution_count": null,
   "id": "03b55570",
   "metadata": {
    "hide-output": false
   },
   "outputs": [],
   "source": [
    "# Uncomment following line to install on colab\n",
    "#! pip install qeds"
   ]
  },
  {
   "cell_type": "markdown",
   "id": "d870b615",
   "metadata": {},
   "source": [
    "## Combining Datasets\n",
    "\n",
    "Often, we will want perform joint analysis on data from different sources.\n",
    "\n",
    "For example, when analyzing the regional sales for a company, we might\n",
    "want to include industry aggregates or demographic information for each\n",
    "region.\n",
    "\n",
    "Or perhaps we are working with product-level data, have a list of\n",
    "product groups in a separate dataset, and want to compute aggregate\n",
    "statistics for each group."
   ]
  },
  {
   "cell_type": "code",
   "execution_count": null,
   "id": "37f84b2b",
   "metadata": {
    "hide-output": false
   },
   "outputs": [],
   "source": [
    "import pandas as pd\n",
    "import qeds\n",
    "%matplotlib inline\n",
    "# activate plot theme\n",
    "import qeds\n",
    "qeds.themes.mpl_style();\n",
    "\n",
    "from IPython.display import display"
   ]
  },
  {
   "cell_type": "code",
   "execution_count": null,
   "id": "c0de0e2c",
   "metadata": {
    "hide-output": false
   },
   "outputs": [],
   "source": [
    "# from WDI. Units trillions of 2010 USD\n",
    "url = \"https://datascience.quantecon.org/assets/data/wdi_data.csv\"\n",
    "wdi = pd.read_csv(url).set_index([\"country\", \"year\"])\n",
    "wdi.info()\n",
    "\n",
    "wdi2017 = wdi.xs(2017, level=\"year\")\n",
    "wdi2017"
   ]
  },
  {
   "cell_type": "code",
   "execution_count": null,
   "id": "86b05012",
   "metadata": {
    "hide-output": false
   },
   "outputs": [],
   "source": [
    "wdi2016_17 = wdi.loc[pd.IndexSlice[:, [2016, 2017]],: ]\n",
    "wdi2016_17"
   ]
  },
  {
   "cell_type": "code",
   "execution_count": null,
   "id": "7a5eaed4",
   "metadata": {
    "hide-output": false
   },
   "outputs": [],
   "source": [
    "# Data from https://www.nationmaster.com/country-info/stats/Geography/Land-area/Square-miles\n",
    "# units -- millions of square miles\n",
    "sq_miles = pd.Series({\n",
    "   \"United States\": 3.8,\n",
    "   \"Canada\": 3.8,\n",
    "   \"Germany\": 0.137,\n",
    "   \"United Kingdom\": 0.0936,\n",
    "   \"Russia\": 6.6,\n",
    "}, name=\"sq_miles\").to_frame()\n",
    "sq_miles.index.name = \"country\"\n",
    "sq_miles"
   ]
  },
  {
   "cell_type": "code",
   "execution_count": null,
   "id": "bcaa50b2",
   "metadata": {
    "hide-output": false
   },
   "outputs": [],
   "source": [
    "# from WDI. Units millions of people\n",
    "pop_url = \"https://datascience.quantecon.org/assets/data/wdi_population.csv\"\n",
    "pop = pd.read_csv(pop_url).set_index([\"country\", \"year\"])\n",
    "pop.info()\n",
    "pop.head(10)"
   ]
  },
  {
   "cell_type": "markdown",
   "id": "8d2ea86b",
   "metadata": {},
   "source": [
    "Suppose that we were asked to compute a number of statistics with the data above:\n",
    "\n",
    "- As a measure of land usage or productivity, what is Consumption per square mile?  \n",
    "- What is GDP per capita (per person) for each country in each year? How about\n",
    "  Consumption per person?  \n",
    "- What is the population density of each country? How much does it change over time?  \n",
    "\n",
    "\n",
    "Notice that to answer any of the questions from above, we will have to use data\n",
    "from more than one of our DataFrames.\n",
    "\n",
    "In this lecture, we will learn many techniques for combining datasets that\n",
    "originate from different sources, careful to ensure that data is properly\n",
    "aligned.\n",
    "\n",
    "In pandas three main methods can combine datasets:\n",
    "\n",
    "1. `pd.concat([dfs...])`  \n",
    "1. `pd.merge(df1, df2)`  \n",
    "1. `df1.join(df2)`  \n",
    "\n",
    "\n",
    "We’ll look at each one."
   ]
  },
  {
   "cell_type": "markdown",
   "id": "794b2650",
   "metadata": {},
   "source": [
    "## `pd.concat`\n",
    "\n",
    "The `pd.concat` function is used to stack two or more DataFrames\n",
    "together.\n",
    "\n",
    "An example of when you might want to do this is if you have monthly data\n",
    "in separate files on your computer and would like to have 1 year of data\n",
    "in a single DataFrame.\n",
    "\n",
    "The first argument to `pd.concat` is a list of DataFrames to be\n",
    "stitched together.\n",
    "\n",
    "The other commonly used argument is named `axis`.\n",
    "\n",
    "As we have seen before, many pandas functions have an `axis` argument\n",
    "that specifies whether a particular operation should happen down rows\n",
    "(`axis=0`) or along columns (`axis=1`).\n",
    "\n",
    "In the context of `pd.concat`, setting `axis=0` (the default case)\n",
    "will stack DataFrames on top of one another while `axis=1` stacks them\n",
    "side by side.\n",
    "\n",
    "We’ll look at each case separately."
   ]
  },
  {
   "cell_type": "markdown",
   "id": "107f4af9",
   "metadata": {},
   "source": [
    "### `axis=0`\n",
    "\n",
    "When we call `pd.concat` and set `axis=0`, the list of DataFrames\n",
    "passed in the first argument will be stacked on top of one another.\n",
    "\n",
    "Let’s try it out here."
   ]
  },
  {
   "cell_type": "code",
   "execution_count": null,
   "id": "ce8e8c99",
   "metadata": {
    "hide-output": false
   },
   "outputs": [],
   "source": [
    "# equivalent to pd.concat([wdi2017, sq_miles]) -- axis=0 is default\n",
    "pd.concat([wdi2017, sq_miles], axis=0)"
   ]
  },
  {
   "cell_type": "markdown",
   "id": "68910da1",
   "metadata": {},
   "source": [
    "Notice a few things:\n",
    "\n",
    "The number of rows in the output is the total number\n",
    ": of rows in all inputs. The labels are all from the original\n",
    "DataFrames.\n",
    "\n",
    "- The column labels are all the distinct column labels from all the inputs.  \n",
    "- For columns that appeared only in one input, the value for all row labels\n",
    "  originating from a different input is equal to `NaN` (marked as missing).  "
   ]
  },
  {
   "cell_type": "markdown",
   "id": "ba49437c",
   "metadata": {},
   "source": [
    "### `axis=1`\n",
    "\n",
    "In this example, concatenating by stacking\n",
    "side-by-side makes more sense.\n",
    "\n",
    "We accomplish this by passing `axis=1` to `pd.concat`:"
   ]
  },
  {
   "cell_type": "code",
   "execution_count": null,
   "id": "b922b893",
   "metadata": {
    "hide-output": false
   },
   "outputs": [],
   "source": [
    "pd.concat([wdi2017, sq_miles], axis=1)"
   ]
  },
  {
   "cell_type": "markdown",
   "id": "399c4b74",
   "metadata": {},
   "source": [
    "Notice here that\n",
    "\n",
    "- The index entries are all unique index entries that appeared in any DataFrame.  \n",
    "- The column labels are all column labels from the inputs.  \n",
    "- As `wdi2017` didn’t have a `Russia` row, the value for all of its columns\n",
    "  is `NaN`.  \n",
    "\n",
    "\n",
    "Now we can answer one of our questions from above: What is\n",
    "Consumption per square mile?"
   ]
  },
  {
   "cell_type": "code",
   "execution_count": null,
   "id": "7fb18140",
   "metadata": {
    "hide-output": false
   },
   "outputs": [],
   "source": [
    "temp = pd.concat([wdi2017, sq_miles], axis=1)\n",
    "temp[\"Consumption\"] / temp[\"sq_miles\"]"
   ]
  },
  {
   "cell_type": "markdown",
   "id": "5dc1567a",
   "metadata": {},
   "source": [
    "## `pd.merge`\n",
    "\n",
    "`pd.merge` operates on two DataFrames at a time and is primarily used\n",
    "to bring columns from one DataFrame into another, *aligning* data based\n",
    "on one or more “key” columns.\n",
    "\n",
    "This is a somewhat difficult concept to grasp by reading, so let’s look at some\n",
    "examples."
   ]
  },
  {
   "cell_type": "code",
   "execution_count": null,
   "id": "2fe3f943",
   "metadata": {
    "hide-output": false
   },
   "outputs": [],
   "source": [
    "pd.merge(wdi2017, sq_miles, on=\"country\")"
   ]
  },
  {
   "cell_type": "markdown",
   "id": "a89b2e9f",
   "metadata": {},
   "source": [
    "The output here looks very similar to what we saw with `concat` and\n",
    "`axis=1`, except that the row for `Russia` does not appear.\n",
    "\n",
    "We will talk more about why this happened soon.\n",
    "\n",
    "For now, let’s look at a slightly more intriguing example:"
   ]
  },
  {
   "cell_type": "code",
   "execution_count": null,
   "id": "b5d0d328",
   "metadata": {
    "hide-output": false
   },
   "outputs": [],
   "source": [
    "pd.merge(wdi2016_17, sq_miles, on=\"country\")"
   ]
  },
  {
   "cell_type": "markdown",
   "id": "f6f781bf",
   "metadata": {},
   "source": [
    "Here’s how we think about what happened:\n",
    "\n",
    "- The data in `wdi2016_17` is copied over exactly as is.  \n",
    "- Because `country` was on the index for both DataFrames, it is on the\n",
    "  index of the output.  \n",
    "- We lost the year on the index – we’ll work on getting it back below.  \n",
    "- The additional column in `sq_miles` was added to column labels for the\n",
    "  output.  \n",
    "- The data from the `sq_miles` column was added to the output by looking up\n",
    "  rows where the `country` in the two DataFrames lined up.  \n",
    "  - Note that all the countries appeared twice, and the data in `sq_miles` was repeated. This is because `wdi2016_17` had two rows for each country.  \n",
    "  - Also note that because `Russia` did not appear in `wdi2016_17`, the value `sq_miles.loc[\"Russia\"]` (i.e. `6.6`) is not used the output.  \n",
    "\n",
    "\n",
    "How do we get the year back?\n",
    "\n",
    "We must first call `reset_index` on `wdi2016_17` so\n",
    "that in the first step when all columns are copied over, `year` is included."
   ]
  },
  {
   "cell_type": "code",
   "execution_count": null,
   "id": "59244bcd",
   "metadata": {
    "hide-output": false
   },
   "outputs": [],
   "source": [
    "pd.merge(wdi2016_17.reset_index(), sq_miles, on=\"country\")"
   ]
  },
  {
   "cell_type": "markdown",
   "id": "73608c62",
   "metadata": {},
   "source": [
    "### Multiple Columns\n",
    "\n",
    "Sometimes, we need to merge multiple columns.\n",
    "\n",
    "For example our `pop` and `wdi2016_17` DataFrames both have observations\n",
    "organized by country and year.\n",
    "\n",
    "To properly merge these datasets, we would need to align the data by\n",
    "both country and year.\n",
    "\n",
    "We pass a list to the `on` argument to accomplish this:"
   ]
  },
  {
   "cell_type": "code",
   "execution_count": null,
   "id": "d7b646b8",
   "metadata": {
    "hide-output": false
   },
   "outputs": [],
   "source": [
    "pd.merge(wdi2016_17, pop, on=[\"country\", \"year\"])"
   ]
  },
  {
   "cell_type": "markdown",
   "id": "a14fa0ac",
   "metadata": {},
   "source": [
    "Now, we can answer more of our questions from above: What is GDP per capita (per\n",
    "person) for each country in each year? How about Consumption per person?"
   ]
  },
  {
   "cell_type": "code",
   "execution_count": null,
   "id": "957540db",
   "metadata": {
    "hide-output": false
   },
   "outputs": [],
   "source": [
    "wdi_pop = pd.merge(wdi2016_17, pop, on=[\"country\", \"year\"])\n",
    "wdi_pop[\"GDP\"] / wdi_pop[\"Population\"]"
   ]
  },
  {
   "cell_type": "code",
   "execution_count": null,
   "id": "b5b5ac85",
   "metadata": {
    "hide-output": false
   },
   "outputs": [],
   "source": [
    "wdi_pop[\"Consumption\"] / wdi_pop[\"Population\"]"
   ]
  },
  {
   "cell_type": "markdown",
   "id": "4261c131",
   "metadata": {},
   "source": [
    "### Exercise\n",
    "\n",
    "See exercise 1 in the [exercise list](#pd-mrg-ex)."
   ]
  },
  {
   "cell_type": "markdown",
   "id": "487218a9",
   "metadata": {},
   "source": [
    "## Arguments to `merge`\n",
    "\n",
    "The `pd.merge` function can take many optional arguments.\n",
    "\n",
    "We’ll talk about a few of the most commonly-used ones here and refer you\n",
    "to the\n",
    "[documentation](https://pandas.pydata.org/pandas-docs/stable/generated/pandas.merge.html#pandas.merge)\n",
    "for more details.\n",
    "\n",
    "We’ll follow the pandas convention and refer to the first argument to\n",
    "`pd.merge` as `left` and call the second `right`."
   ]
  },
  {
   "cell_type": "markdown",
   "id": "b2afae66",
   "metadata": {},
   "source": [
    "### `on`\n",
    "\n",
    "We have already seen this one used before, but we want to point out that on\n",
    "is optional.\n",
    "\n",
    "If nothing is given for this argument, pandas will use **all** columns\n",
    "in `left` and `right` with the same name.\n",
    "\n",
    "In our example, `country` is the only column that appears in both\n",
    "DataFrames, so it is used for `on` if we don’t pass anything.\n",
    "\n",
    "The following two are equivalent."
   ]
  },
  {
   "cell_type": "code",
   "execution_count": null,
   "id": "b19b57e6",
   "metadata": {
    "hide-output": false
   },
   "outputs": [],
   "source": [
    "pd.merge(wdi2017, sq_miles, on=\"country\")"
   ]
  },
  {
   "cell_type": "code",
   "execution_count": null,
   "id": "aeab561d",
   "metadata": {
    "hide-output": false
   },
   "outputs": [],
   "source": [
    "# if we move index back to columns, the `on` is un-necessary\n",
    "pd.merge(wdi2017.reset_index(), sq_miles.reset_index())"
   ]
  },
  {
   "cell_type": "markdown",
   "id": "57bb6dda",
   "metadata": {},
   "source": [
    "### `left_on`, `right_on`\n",
    "\n",
    "Above, we used the `on` argument to identify a column in both `left`\n",
    "and `right` that was used to align data.\n",
    "\n",
    "Sometimes, both DataFrames don’t have the same name for this column.\n",
    "\n",
    "In that case, we use the `left_on` and `right_on` arguments, passing\n",
    "the proper column name(s) to align the data.\n",
    "\n",
    "We’ll show you an example below, but it is somewhat silly as our\n",
    "DataFrames do both have the `country` column."
   ]
  },
  {
   "cell_type": "code",
   "execution_count": null,
   "id": "569dc619",
   "metadata": {
    "hide-output": false
   },
   "outputs": [],
   "source": [
    "pd.merge(wdi2017, sq_miles, left_on=\"country\", right_on=\"country\")"
   ]
  },
  {
   "cell_type": "markdown",
   "id": "58860874",
   "metadata": {},
   "source": [
    "### `left_index`, `right_index`\n",
    "\n",
    "Sometimes, as in our example, the key used to align data is actually in the\n",
    "index instead of one of the columns.\n",
    "\n",
    "In this case, we can use the `left_index` or `right_index` arguments.\n",
    "\n",
    "We should only set these values to a boolean (`True` or `False`).\n",
    "\n",
    "Let’s practice with this."
   ]
  },
  {
   "cell_type": "code",
   "execution_count": null,
   "id": "c53f2816",
   "metadata": {
    "hide-output": false
   },
   "outputs": [],
   "source": [
    "pd.merge(wdi2017, sq_miles, left_on=\"country\", right_index=True)"
   ]
  },
  {
   "cell_type": "markdown",
   "id": "cbaaf595",
   "metadata": {},
   "source": [
    "### `how`\n",
    "\n",
    "The `how` is perhaps the most powerful, but most conceptually\n",
    "difficult of the arguments we will cover.\n",
    "\n",
    "This argument controls which values from the key column(s) appear in the\n",
    "output.\n",
    "\n",
    "The 4 possible options for this argument are summarized in\n",
    "the image below.\n",
    "\n",
    "![https://datascience.quantecon.org/assets/_static/merge_files/merge_venns.png](https://datascience.quantecon.org/assets/_static/merge_files/merge_venns.png)\n",
    "\n",
    "  \n",
    "In words, we have:\n",
    "\n",
    "- `left`: Default and what we described above. It uses\n",
    "  the keys from the `left` DataFrame.  \n",
    "- `right`: Output will contain all keys from `right`.  \n",
    "- `inner`: The output will only contain keys that appear in *both*\n",
    "  `left` and `right`.  \n",
    "- `outer`: The output will contain any key found in either `left`\n",
    "  or `right`.  \n",
    "\n",
    "\n",
    "In addition to the above, we will use the following two DataFrames to\n",
    "illustrate the `how` option."
   ]
  },
  {
   "cell_type": "code",
   "execution_count": null,
   "id": "0d8c7a80",
   "metadata": {
    "hide-output": false
   },
   "outputs": [],
   "source": [
    "wdi2017_no_US = wdi2017.drop(\"United States\")\n",
    "wdi2017_no_US"
   ]
  },
  {
   "cell_type": "code",
   "execution_count": null,
   "id": "0726dede",
   "metadata": {
    "hide-output": false
   },
   "outputs": [],
   "source": [
    "sq_miles_no_germany = sq_miles.drop(\"Germany\")\n",
    "sq_miles_no_germany"
   ]
  },
  {
   "cell_type": "markdown",
   "id": "85d5a8d4",
   "metadata": {},
   "source": [
    "Now, let’s see all the possible `how` options."
   ]
  },
  {
   "cell_type": "code",
   "execution_count": null,
   "id": "1d7fe5b1",
   "metadata": {
    "hide-output": false
   },
   "outputs": [],
   "source": [
    "# default\n",
    "pd.merge(wdi2017, sq_miles, on=\"country\", how=\"left\")"
   ]
  },
  {
   "cell_type": "code",
   "execution_count": null,
   "id": "9787e483",
   "metadata": {
    "hide-output": false
   },
   "outputs": [],
   "source": [
    "# notice ``Russia`` is included\n",
    "pd.merge(wdi2017, sq_miles, on=\"country\", how=\"right\")"
   ]
  },
  {
   "cell_type": "code",
   "execution_count": null,
   "id": "e939ebbb",
   "metadata": {
    "hide-output": false
   },
   "outputs": [],
   "source": [
    "# notice no United States or Russia\n",
    "pd.merge(wdi2017_no_US, sq_miles, on=\"country\", how=\"inner\")"
   ]
  },
  {
   "cell_type": "code",
   "execution_count": null,
   "id": "76005ca1",
   "metadata": {
    "hide-output": false
   },
   "outputs": [],
   "source": [
    "# includes all 5, even though they don't all appear in either DataFrame\n",
    "pd.merge(wdi2017_no_US, sq_miles_no_germany, on=\"country\", how=\"outer\")"
   ]
  },
  {
   "cell_type": "markdown",
   "id": "1c0770e8",
   "metadata": {},
   "source": [
    "### Exercise\n",
    "\n",
    "See exercise 2 in the [exercise list](#pd-mrg-ex)."
   ]
  },
  {
   "cell_type": "markdown",
   "id": "8d66996f",
   "metadata": {},
   "source": [
    "### Exercise\n",
    "\n",
    "See exercise 3 in the [exercise list](#pd-mrg-ex)."
   ]
  },
  {
   "cell_type": "markdown",
   "id": "8c4c9c12",
   "metadata": {},
   "source": [
    "### `df.merge(df2)`\n",
    "\n",
    "Note that the DataFrame type has a `merge` *method*.\n",
    "\n",
    "It is the same as the function we have been working with, but passes the\n",
    "DataFrame before the period as `left`.\n",
    "\n",
    "Thus `df.merge(other)` is equivalent to `pd.merge(df, other)`."
   ]
  },
  {
   "cell_type": "code",
   "execution_count": null,
   "id": "877cf561",
   "metadata": {
    "hide-output": false
   },
   "outputs": [],
   "source": [
    "wdi2017.merge(sq_miles, on=\"country\", how=\"right\")"
   ]
  },
  {
   "cell_type": "markdown",
   "id": "653ac2dd",
   "metadata": {},
   "source": [
    "## `df.join`\n",
    "\n",
    "The `join` method for a DataFrame is very similar to the `merge`\n",
    "method described above, but only allows you to use the index of the\n",
    "`right` DataFrame as the join key.\n",
    "\n",
    "Thus, `left.join(right, on=\"country\")` is equivalent to calling\n",
    "`pd.merge(left, right, left_on=\"country\", right_index=True)`.\n",
    "\n",
    "The implementation of the `join` method calls `merge` internally,\n",
    "but sets the `left_on` and `right_index` arguments for you.\n",
    "\n",
    "You can do anything with `df.join` that you can do with\n",
    "`df.merge`, but df.join`is more convenient to use if the keys of`right`\n",
    "are in the index."
   ]
  },
  {
   "cell_type": "code",
   "execution_count": null,
   "id": "c6ae7455",
   "metadata": {
    "hide-output": false
   },
   "outputs": [],
   "source": [
    "wdi2017.join(sq_miles, on=\"country\")"
   ]
  },
  {
   "cell_type": "code",
   "execution_count": null,
   "id": "92f1cf2d",
   "metadata": {
    "hide-output": false
   },
   "outputs": [],
   "source": [
    "wdi2017.merge(sq_miles, left_on=\"country\", right_index=True)"
   ]
  },
  {
   "cell_type": "markdown",
   "id": "4482faac",
   "metadata": {},
   "source": [
    "## Case Study\n",
    "\n",
    "Let’s put these tools to practice by loading some real datasets and\n",
    "seeing how these functions can be applied.\n",
    "\n",
    "We’ll analyze ratings of books from the website [Goodreads](https://www.goodreads.com/).\n",
    "\n",
    "We accessed the data [here](https://github.com/zygmuntz/goodbooks-10k).\n",
    "\n",
    "Let’s load it up."
   ]
  },
  {
   "cell_type": "code",
   "execution_count": null,
   "id": "4e20f9fa",
   "metadata": {
    "hide-output": false
   },
   "outputs": [],
   "source": [
    "ratings = qeds.data.load(\"goodreads_ratings\")\n",
    "display(ratings.head())\n",
    "ratings.info()"
   ]
  },
  {
   "cell_type": "markdown",
   "id": "ec981591",
   "metadata": {},
   "source": [
    "We can already do some interesting things with just the ratings data.\n",
    "\n",
    "Let’s see how many ratings of each number are in our dataset."
   ]
  },
  {
   "cell_type": "code",
   "execution_count": null,
   "id": "0785dde9",
   "metadata": {
    "hide-output": false
   },
   "outputs": [],
   "source": [
    "ratings[\"rating\"].value_counts().sort_index().plot(kind=\"bar\");"
   ]
  },
  {
   "cell_type": "markdown",
   "id": "50f2ab88",
   "metadata": {},
   "source": [
    "Let’s also see how many users have rated `N` books, for all `N`\n",
    "possible.\n",
    "\n",
    "To do this, we will use `value_counts` twice (can you think of why?).\n",
    "\n",
    "We will see a more flexible way of performing similar grouped operations in\n",
    "a future lecture."
   ]
  },
  {
   "cell_type": "code",
   "execution_count": null,
   "id": "83b19b4d",
   "metadata": {
    "hide-output": false
   },
   "outputs": [],
   "source": [
    "users_by_n = (\n",
    "    ratings[\"user_id\"]\n",
    "    .value_counts()  # Series. Index: user_id, value: n ratings by user\n",
    "    .value_counts()  # Series. Index: n_ratings by user, value: N_users with this many ratings\n",
    "    .sort_index()    # Sort our Series by the index (number of ratings)\n",
    "    .reset_index()   # Dataframe with columns `index` (from above) and `user_id`\n",
    "    .rename(columns={\"index\": \"N_ratings\", \"user_id\": \"N_users\"})\n",
    ")\n",
    "users_by_n.head(10)"
   ]
  },
  {
   "cell_type": "markdown",
   "id": "e760ab92",
   "metadata": {},
   "source": [
    "Let’s look at some statistics on that dataset."
   ]
  },
  {
   "cell_type": "code",
   "execution_count": null,
   "id": "91a9d636",
   "metadata": {
    "hide-output": false
   },
   "outputs": [],
   "source": [
    "users_by_n.describe()"
   ]
  },
  {
   "cell_type": "markdown",
   "id": "053039c9",
   "metadata": {},
   "source": [
    "We can see the same data visually in a box plot."
   ]
  },
  {
   "cell_type": "code",
   "execution_count": null,
   "id": "66b63a2c",
   "metadata": {
    "hide-output": false
   },
   "outputs": [],
   "source": [
    "users_by_n.plot(kind=\"box\", subplots=True)"
   ]
  },
  {
   "cell_type": "markdown",
   "id": "b51b32be",
   "metadata": {},
   "source": [
    "Let’s practice applying the want operator…\n",
    "\n",
    "**Want**: Determine whether a relationship between the number of\n",
    "ratings a user has written and the distribution of the ratings exists. (Maybe we\n",
    "are an author hoping to inflate our ratings and wonder if we should\n",
    "target “more experienced” Goodreads users, or focus on newcomers.)\n",
    "\n",
    "Let’s start from the result and work our way backwards:\n",
    "\n",
    "1. We can answer our question if we have two similar DataFrames:  \n",
    "  - All ratings by the `N` (e.g. 5) users with the most ratings  \n",
    "  - All ratings by the `N` users with the least number of\n",
    "    ratings  \n",
    "1. To get that, we will need to extract rows of `ratings` with\n",
    "  `user_id` associated with the `N` most and least prolific raters  \n",
    "1. For that, we need the most and least active `user_id`s  \n",
    "1. To get that info, we need a count of how many ratings each user left.  \n",
    "  - We can get that with `df[\"user_id\"].value_counts()`, so let’s\n",
    "    start there.  "
   ]
  },
  {
   "cell_type": "code",
   "execution_count": null,
   "id": "73b20adb",
   "metadata": {
    "hide-output": false
   },
   "outputs": [],
   "source": [
    "# step 4\n",
    "n_ratings = ratings[\"user_id\"].value_counts()\n",
    "n_ratings.head()"
   ]
  },
  {
   "cell_type": "code",
   "execution_count": null,
   "id": "d1d46db8",
   "metadata": {
    "hide-output": false
   },
   "outputs": [],
   "source": [
    "# step 3\n",
    "N = 5\n",
    "most_prolific_users = n_ratings.nlargest(5).index.tolist()\n",
    "least_prolific_users = n_ratings.nsmallest(5).index.tolist()"
   ]
  },
  {
   "cell_type": "code",
   "execution_count": null,
   "id": "cd302f07",
   "metadata": {
    "hide-output": false
   },
   "outputs": [],
   "source": [
    "# step 2\n",
    "active_ratings = ratings.loc[ratings[\"user_id\"].isin(most_prolific_users), :]\n",
    "inactive_ratings = ratings.loc[ratings[\"user_id\"].isin(least_prolific_users), :]"
   ]
  },
  {
   "cell_type": "code",
   "execution_count": null,
   "id": "94888474",
   "metadata": {
    "hide-output": false
   },
   "outputs": [],
   "source": [
    "# step 1 -- get the answer!\n",
    "active_ratings[\"rating\"].value_counts().sort_index().plot(\n",
    "    kind=\"bar\", title=\"Distribution of ratings by most active users\"\n",
    ")"
   ]
  },
  {
   "cell_type": "code",
   "execution_count": null,
   "id": "08a8e506",
   "metadata": {
    "hide-output": false
   },
   "outputs": [],
   "source": [
    "inactive_ratings[\"rating\"].value_counts().sort_index().plot(\n",
    "    kind=\"bar\", title=\"Distribution of ratings by least active users\"\n",
    ")"
   ]
  },
  {
   "cell_type": "markdown",
   "id": "17adb8df",
   "metadata": {},
   "source": [
    "Nice! From the picture above, the new users look much more\n",
    "likely to leave 5 star ratings than more experienced users."
   ]
  },
  {
   "cell_type": "markdown",
   "id": "d3e0c308",
   "metadata": {},
   "source": [
    "### Book Data\n",
    "\n",
    "We know what you are probably thinking: “Isn’t this a lecture on merging?\n",
    "Why are we only using one dataset?”\n",
    "\n",
    "We hear you.\n",
    "\n",
    "Let’s also load a dataset containing information on the actual books."
   ]
  },
  {
   "cell_type": "code",
   "execution_count": null,
   "id": "7da18cac",
   "metadata": {
    "hide-output": false
   },
   "outputs": [],
   "source": [
    "books = qeds.data.load(\"goodreads_books\")\n",
    "# we only need a few of the columns\n",
    "books = books[[\"book_id\", \"authors\", \"title\"]]\n",
    "print(\"shape: \", books.shape)\n",
    "print(\"dtypes:\\n\", books.dtypes, sep=\"\")\n",
    "books.head()"
   ]
  },
  {
   "cell_type": "markdown",
   "id": "14654610",
   "metadata": {},
   "source": [
    "We could do similar interesting things with just the books dataset,\n",
    "but we will skip it for now and merge them together."
   ]
  },
  {
   "cell_type": "code",
   "execution_count": null,
   "id": "95602ceb",
   "metadata": {
    "hide-output": false
   },
   "outputs": [],
   "source": [
    "rated_books = pd.merge(ratings, books)"
   ]
  },
  {
   "cell_type": "markdown",
   "id": "47afc5d0",
   "metadata": {},
   "source": [
    "Now, let’s see which books have been most often rated."
   ]
  },
  {
   "cell_type": "code",
   "execution_count": null,
   "id": "592cc44a",
   "metadata": {
    "hide-output": false
   },
   "outputs": [],
   "source": [
    "most_rated_books_id = rated_books[\"book_id\"].value_counts().nlargest(10).index\n",
    "most_rated_books = rated_books.loc[rated_books[\"book_id\"].isin(most_rated_books_id), :]\n",
    "list(most_rated_books[\"title\"].unique())"
   ]
  },
  {
   "cell_type": "markdown",
   "id": "d4321f65",
   "metadata": {},
   "source": [
    "Let’s use our `pivot_table` knowledge to compute the average rating\n",
    "for each of these books."
   ]
  },
  {
   "cell_type": "code",
   "execution_count": null,
   "id": "b244a08d",
   "metadata": {
    "hide-output": false
   },
   "outputs": [],
   "source": [
    "most_rated_books.pivot_table(values=\"rating\", index=\"title\")"
   ]
  },
  {
   "cell_type": "markdown",
   "id": "1bf474c7",
   "metadata": {},
   "source": [
    "These ratings seem surprisingly low, given that they are the most often\n",
    "rated books on Goodreads.\n",
    "\n",
    "I wonder what the bottom of the distribution looks like…"
   ]
  },
  {
   "cell_type": "markdown",
   "id": "a696d896",
   "metadata": {},
   "source": [
    "### Exercise\n",
    "\n",
    "See exercise 4 in the [exercise list](#pd-mrg-ex).\n",
    "\n",
    "Let’s compute the average number of ratings for each book in our sample."
   ]
  },
  {
   "cell_type": "code",
   "execution_count": null,
   "id": "5afd3275",
   "metadata": {
    "hide-output": false
   },
   "outputs": [],
   "source": [
    "average_ratings = (\n",
    "    rated_books\n",
    "    .pivot_table(values=\"rating\", index=\"title\")\n",
    "    .sort_values(by=\"rating\", ascending=False)\n",
    ")\n",
    "average_ratings.head(10)"
   ]
  },
  {
   "cell_type": "markdown",
   "id": "5726357c",
   "metadata": {},
   "source": [
    "What does the overall distribution of average ratings look like?"
   ]
  },
  {
   "cell_type": "code",
   "execution_count": null,
   "id": "1b1f370c",
   "metadata": {
    "hide-output": false
   },
   "outputs": [],
   "source": [
    "# plot a kernel density estimate of average ratings\n",
    "average_ratings.plot.density(xlim=(1, 5))\n",
    "\n",
    "# or a histogram\n",
    "average_ratings.plot.hist(bins=30, xlim=(1, 5))"
   ]
  },
  {
   "cell_type": "markdown",
   "id": "cac5c238",
   "metadata": {},
   "source": [
    "It looks like most books have an average rating of just below 4."
   ]
  },
  {
   "cell_type": "markdown",
   "id": "5d6951ed",
   "metadata": {},
   "source": [
    "## Extra Example: Airline Delays\n",
    "\n",
    "Let’s look at one more example.\n",
    "\n",
    "This time, we will use a dataset from the [Bureau of Transportation\n",
    "Statistics](https://www.transtats.bts.gov/OT_Delay/OT_DelayCause1.asp)\n",
    "that describes the cause of all US domestic flight delays\n",
    "in November 2016:"
   ]
  },
  {
   "cell_type": "code",
   "execution_count": null,
   "id": "04092c62",
   "metadata": {
    "hide-output": false
   },
   "outputs": [],
   "source": [
    "air_perf = qeds.load(\"airline_performance_dec16\")[[\"CRSDepTime\", \"Carrier\", \"CarrierDelay\", \"ArrDelay\"]]\n",
    "air_perf.info()\n",
    "air_perf.head()"
   ]
  },
  {
   "cell_type": "markdown",
   "id": "71a9830c",
   "metadata": {},
   "source": [
    "The `Carrier` column identifies the airline and the `CarrierDelay`\n",
    "reports the number of minutes of the total delay assigned as the\n",
    "“carrier’s fault”.\n",
    "\n",
    "**Want**: Determine which airlines, on average, contribute most to\n",
    "delays.\n",
    "\n",
    "We can do this using `pivot_table`:"
   ]
  },
  {
   "cell_type": "code",
   "execution_count": null,
   "id": "6a224e49",
   "metadata": {
    "hide-output": false
   },
   "outputs": [],
   "source": [
    "avg_delays = (\n",
    "    air_perf\n",
    "    .pivot_table(index=\"Carrier\", values=\"CarrierDelay\", aggfunc=\"mean\")\n",
    "    .sort_values(\"CarrierDelay\")\n",
    "    .nlargest(10, \"CarrierDelay\")\n",
    ")\n",
    "avg_delays"
   ]
  },
  {
   "cell_type": "markdown",
   "id": "b477fc11",
   "metadata": {},
   "source": [
    "The one issue with this dataset is that we don’t know what all those two\n",
    "letter carrier codes are!\n",
    "\n",
    "Thankfully, we have a second dataset that maps the two letter code\n",
    "into the full airline name."
   ]
  },
  {
   "cell_type": "code",
   "execution_count": null,
   "id": "a0b5fe9f",
   "metadata": {
    "hide-output": false
   },
   "outputs": [],
   "source": [
    "carrier_code = qeds.load(\"airline_carrier_codes\")\n",
    "carrier_code.tail()"
   ]
  },
  {
   "cell_type": "markdown",
   "id": "68208362",
   "metadata": {},
   "source": [
    "Let’s merge these names so we know which airlines we should avoid\n",
    "flying…"
   ]
  },
  {
   "cell_type": "code",
   "execution_count": null,
   "id": "f11425a4",
   "metadata": {
    "hide-output": false
   },
   "outputs": [],
   "source": [
    "avg_delays_w_code = avg_delays.join(carrier_code)\n",
    "avg_delays_w_code.sort_values(\"CarrierDelay\", ascending=False)"
   ]
  },
  {
   "cell_type": "markdown",
   "id": "fee8ee45",
   "metadata": {},
   "source": [
    "Based on that information, which airlines would you avoid near\n",
    "the holidays?"
   ]
  },
  {
   "cell_type": "markdown",
   "id": "e5ec7512",
   "metadata": {},
   "source": [
    "## Visualizing Merge Operations\n",
    "\n",
    "As we did in the [reshape lecture](https://datascience.quantecon.org/reshape.html), we will visualize the\n",
    "various merge operations using artificial DataFrames.\n",
    "\n",
    "First, we create some dummy DataFrames."
   ]
  },
  {
   "cell_type": "code",
   "execution_count": null,
   "id": "b205bcd4",
   "metadata": {
    "hide-output": false
   },
   "outputs": [],
   "source": [
    "dfL = pd.DataFrame(\n",
    "    {\"Key\": [\"A\", \"B\", \"A\", \"C\"], \"C1\":[1, 2, 3, 4], \"C2\": [10, 20, 30, 40]},\n",
    "    index=[\"L1\", \"L2\", \"L3\", \"L4\"]\n",
    ")[[\"Key\", \"C1\", \"C2\"]]\n",
    "\n",
    "print(\"This is dfL: \")\n",
    "display(dfL)\n",
    "\n",
    "dfR = pd.DataFrame(\n",
    "    {\"Key\": [\"A\", \"B\", \"C\", \"D\"], \"C3\": [100, 200, 300, 400]},\n",
    "    index=[\"R1\", \"R2\", \"R3\", \"R4\"]\n",
    ")[[\"Key\", \"C3\"]]\n",
    "\n",
    "print(\"This is dfR:\")\n",
    "display(dfR)"
   ]
  },
  {
   "cell_type": "markdown",
   "id": "d77bced3",
   "metadata": {},
   "source": [
    "### `pd.concat`\n",
    "\n",
    "Recall that calling `pd.concat(..., axis=0)` will stack DataFrames on top of\n",
    "one another:"
   ]
  },
  {
   "cell_type": "code",
   "execution_count": null,
   "id": "84fc83b1",
   "metadata": {
    "hide-output": false
   },
   "outputs": [],
   "source": [
    "pd.concat([dfL, dfR], axis=0)"
   ]
  },
  {
   "cell_type": "markdown",
   "id": "c704c53c",
   "metadata": {},
   "source": [
    "Here’s how we might visualize that.\n",
    "\n",
    "![https://datascience.quantecon.org/assets/_static/merge_files/concat_axis0.gif](https://datascience.quantecon.org/assets/_static/merge_files/concat_axis0.gif)\n",
    "\n",
    "  \n",
    "We can also set `axis=1` to stack side by side."
   ]
  },
  {
   "cell_type": "code",
   "execution_count": null,
   "id": "8620d042",
   "metadata": {
    "hide-output": false
   },
   "outputs": [],
   "source": [
    "pd.concat([dfL, dfR], axis=1)"
   ]
  },
  {
   "cell_type": "markdown",
   "id": "e29c0388",
   "metadata": {},
   "source": [
    "Here’s how we might visualize that.\n",
    "\n",
    "![https://datascience.quantecon.org/assets/_static/merge_files/concat_axis1.gif](https://datascience.quantecon.org/assets/_static/merge_files/concat_axis1.gif)"
   ]
  },
  {
   "cell_type": "markdown",
   "id": "4a2ecbe5",
   "metadata": {},
   "source": [
    "### `pd.merge`\n",
    "\n",
    "The animation below shows a visualization of what happens when we call"
   ]
  },
  {
   "cell_type": "code",
   "execution_count": null,
   "id": "e283b505",
   "metadata": {
    "hide-output": false
   },
   "outputs": [],
   "source": [
    "pd.merge(dfL, dfR, on=\"Key\")"
   ]
  },
  {
   "cell_type": "markdown",
   "id": "345affb3",
   "metadata": {},
   "source": [
    "![https://datascience.quantecon.org/assets/_static/merge_files/left_merge.gif](https://datascience.quantecon.org/assets/_static/merge_files/left_merge.gif)\n",
    "\n",
    "  \n",
    "Now, let’s focus on what happens when we set `how=\"right\"`.\n",
    "\n",
    "Pay special attention to what happens when filling the output value for\n",
    "the key `A`."
   ]
  },
  {
   "cell_type": "code",
   "execution_count": null,
   "id": "c4a6e683",
   "metadata": {
    "hide-output": false
   },
   "outputs": [],
   "source": [
    "pd.merge(dfL, dfR, on=\"Key\", how=\"right\")"
   ]
  },
  {
   "cell_type": "markdown",
   "id": "4ad2d00a",
   "metadata": {},
   "source": [
    "![https://datascience.quantecon.org/assets/_static/merge_files/right_merge.gif](https://datascience.quantecon.org/assets/_static/merge_files/right_merge.gif)"
   ]
  },
  {
   "cell_type": "markdown",
   "id": "aa146e5a",
   "metadata": {},
   "source": [
    "### Exercises With Artificial Data"
   ]
  },
  {
   "cell_type": "markdown",
   "id": "84e0aa7c",
   "metadata": {},
   "source": [
    "### Exercise\n",
    "\n",
    "See exercise 5 in the [exercise list](#pd-mrg-ex)."
   ]
  },
  {
   "cell_type": "markdown",
   "id": "499eba14",
   "metadata": {},
   "source": [
    "### Exercise\n",
    "\n",
    "See exercise 6 in the [exercise list](#pd-mrg-ex)."
   ]
  },
  {
   "cell_type": "markdown",
   "id": "200e4393",
   "metadata": {},
   "source": [
    "### Exercise\n",
    "\n",
    "See exercise 7 in the [exercise list](#pd-mrg-ex).\n",
    "\n",
    "\n",
    "<a id='pd-mrg-ex'></a>"
   ]
  },
  {
   "cell_type": "markdown",
   "id": "fd708573",
   "metadata": {},
   "source": [
    "## Exercises"
   ]
  },
  {
   "cell_type": "markdown",
   "id": "11d88d26",
   "metadata": {},
   "source": [
    "### Exercise 1\n",
    "\n",
    "Use your new `merge` skills to answer the final question from above: What\n",
    "is the population density of each country? How much does it change over\n",
    "time?"
   ]
  },
  {
   "cell_type": "code",
   "execution_count": null,
   "id": "5121be17",
   "metadata": {
    "hide-output": false
   },
   "outputs": [],
   "source": [
    "# your code here"
   ]
  },
  {
   "cell_type": "markdown",
   "id": "3e13b187",
   "metadata": {},
   "source": [
    "([back to text](#pd-mrg-dir1))"
   ]
  },
  {
   "cell_type": "markdown",
   "id": "c99e19d2",
   "metadata": {},
   "source": [
    "### Exercise 2\n",
    "\n",
    "Compare the `how=\"left\"` with `how=\"inner\"` options using the\n",
    "DataFrames `wdi2017_no_US` and `sq_miles_no_germany`.\n",
    "\n",
    "Are the different? How?\n",
    "\n",
    "Will this happen for all pairs of DataFrames, or are `wdi2017_no_US` and\n",
    "`sq_miles_no_germany` special in some way?\n",
    "\n",
    "Also compare `how=\"right\"` and `how=\"outer\"` and answer the same\n",
    "questions."
   ]
  },
  {
   "cell_type": "code",
   "execution_count": null,
   "id": "ecf03860",
   "metadata": {
    "hide-output": false
   },
   "outputs": [],
   "source": [
    "# your code here"
   ]
  },
  {
   "cell_type": "markdown",
   "id": "99a350c2",
   "metadata": {},
   "source": [
    "([back to text](#pd-mrg-dir2))"
   ]
  },
  {
   "cell_type": "markdown",
   "id": "80a52ca0",
   "metadata": {},
   "source": [
    "### Exercise 3\n",
    "\n",
    "Can you pick the correct argument for `how` such that `pd.merge(wdi2017, sq_miles, how=\"left\")` is equal to `pd.merge(sq_miles, wdi2017, how=XXX)`?"
   ]
  },
  {
   "cell_type": "code",
   "execution_count": null,
   "id": "4bc5d032",
   "metadata": {
    "hide-output": false
   },
   "outputs": [],
   "source": [
    "# your code here"
   ]
  },
  {
   "cell_type": "markdown",
   "id": "a57d9c00",
   "metadata": {},
   "source": [
    "([back to text](#pd-mrg-dir3))"
   ]
  },
  {
   "cell_type": "markdown",
   "id": "fb86387f",
   "metadata": {},
   "source": [
    "### Exercise 4\n",
    "\n",
    "Repeat the analysis above to determine the average rating for the books with the\n",
    "*least* number ratings.\n",
    "\n",
    "Is there a distinguishable difference in the average rating compared to\n",
    "the most rated books?\n",
    "\n",
    "Did you recognize any of the books?"
   ]
  },
  {
   "cell_type": "code",
   "execution_count": null,
   "id": "a9e1f1ed",
   "metadata": {
    "hide-output": false
   },
   "outputs": [],
   "source": [
    "# your code here"
   ]
  },
  {
   "cell_type": "markdown",
   "id": "7947da07",
   "metadata": {},
   "source": [
    "([back to text](#pd-mrg-dir4))"
   ]
  },
  {
   "cell_type": "markdown",
   "id": "0775a99a",
   "metadata": {},
   "source": [
    "### Exercise 5\n",
    "\n",
    "In writing, describe what the output looks like when you do\n",
    "`pd.concat([dfL, dfR], axis=1)` (see above and/or run the cell below).\n",
    "\n",
    "Be sure to describe things like:\n",
    "\n",
    "- What are the columns? What about columns with the same name?  \n",
    "- What is the index?  \n",
    "- Do any `NaN`s get introduced? If so, where? Why?  "
   ]
  },
  {
   "cell_type": "code",
   "execution_count": null,
   "id": "da97baf4",
   "metadata": {
    "hide-output": false
   },
   "outputs": [],
   "source": [
    "pd.concat([dfL, dfR], axis=1)"
   ]
  },
  {
   "cell_type": "markdown",
   "id": "42fd76c6",
   "metadata": {},
   "source": [
    "([back to text](#pd-mrg-dir5))"
   ]
  },
  {
   "cell_type": "markdown",
   "id": "89b19cc5",
   "metadata": {},
   "source": [
    "### Exercise 6\n",
    "\n",
    "Determine what happens when you run each of the two cells below.\n",
    "\n",
    "For each cell, answer the list of questions from the previous exercise."
   ]
  },
  {
   "cell_type": "code",
   "execution_count": null,
   "id": "f206e5fd",
   "metadata": {
    "hide-output": false
   },
   "outputs": [],
   "source": [
    "# First code cell for above exercise\n",
    "pd.concat([dfL, dfL], axis=0)"
   ]
  },
  {
   "cell_type": "code",
   "execution_count": null,
   "id": "3c55970a",
   "metadata": {
    "hide-output": false
   },
   "outputs": [],
   "source": [
    "# Second code cell for above exercise\n",
    "pd.concat([dfR, dfR], axis=1)"
   ]
  },
  {
   "cell_type": "markdown",
   "id": "5606b696",
   "metadata": {},
   "source": [
    "([back to text](#pd-mrg-dir6))"
   ]
  },
  {
   "cell_type": "markdown",
   "id": "df9d44a0",
   "metadata": {},
   "source": [
    "### Exercise 7\n",
    "\n",
    "Describe in words why the output of `pd.merge(dfL, dfR, how=\"right\")` has more rows than either `dfL` or `dfR`.\n",
    "\n",
    "Run the cell below to see the output of that operation."
   ]
  },
  {
   "cell_type": "code",
   "execution_count": null,
   "id": "19e6dc35",
   "metadata": {
    "hide-output": false
   },
   "outputs": [],
   "source": [
    "pd.merge(dfL, dfR, how=\"right\")"
   ]
  },
  {
   "cell_type": "markdown",
   "id": "e8a4e942",
   "metadata": {},
   "source": [
    "([back to text](#pd-mrg-dir7))"
   ]
  }
 ],
 "metadata": {
  "date": 1621089295.8806038,
  "filename": "merge.md",
  "kernelspec": {
   "display_name": "Python",
   "language": "python3",
   "name": "python3"
  },
  "title": "Merge"
 },
 "nbformat": 4,
 "nbformat_minor": 5
}