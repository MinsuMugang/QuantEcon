{
 "cells": [
  {
   "cell_type": "markdown",
   "id": "c1d65097",
   "metadata": {},
   "source": [
    "# pandas\n",
    "\n",
    "This section of the workshop covers data ingestion, cleaning,\n",
    "manipulation, analysis, and visualization in Python.\n",
    "\n",
    "We build on the skills learned in the [Python fundamentals](https://quantecon.github.io/lecture-datascience.myst/../python_fundamentals/index.html) section and teach the\n",
    "[pandas](https://pandas.pydata.org) library.\n",
    "\n",
    "At the end of this section, you will be able to:\n",
    "\n",
    "- Access data stored in a variety of formats  \n",
    "- Combine multiple datasets based on observations that link them\n",
    "  together  \n",
    "- Perform custom operations on tables of data  \n",
    "- Use the split-apply-combine method for analyzing sub-groups of data  \n",
    "- Automate static analysis on changing data  \n",
    "- Produce publication quality visualizations  \n",
    "\n",
    "\n",
    "In the end, our goal with this section is to provide you the\n",
    "necessary skills to – at a minimum – **immediately** replicate your current\n",
    "data analysis workflow in Python with no loss of total (computer +\n",
    "human) time.\n",
    "\n",
    "This is a lower bound on the benefits you should expect to receive by\n",
    "studying this section.\n",
    "\n",
    "The expression “practice makes perfect” is especially true here.\n",
    "\n",
    "As you work with these tools, both the time to write and the time to run\n",
    "your programs will fall dramatically."
   ]
  },
  {
   "cell_type": "markdown",
   "id": "bb8eba75",
   "metadata": {},
   "source": [
    "##  [Introduction](https://quantecon.github.io/lecture-datascience.myst/intro.html)"
   ]
  },
  {
   "cell_type": "markdown",
   "id": "ec2e534d",
   "metadata": {},
   "source": [
    "##  [Basic Functionality](https://quantecon.github.io/lecture-datascience.myst/basics.html)"
   ]
  },
  {
   "cell_type": "markdown",
   "id": "3ca88edf",
   "metadata": {},
   "source": [
    "##  [The Index](https://quantecon.github.io/lecture-datascience.myst/the_index.html)"
   ]
  },
  {
   "cell_type": "markdown",
   "id": "6f7f912e",
   "metadata": {},
   "source": [
    "##  [Storage Formats](https://quantecon.github.io/lecture-datascience.myst/storage_formats.html)"
   ]
  },
  {
   "cell_type": "markdown",
   "id": "f2d72a52",
   "metadata": {},
   "source": [
    "##  [Cleaning Data](https://quantecon.github.io/lecture-datascience.myst/data_clean.html)"
   ]
  },
  {
   "cell_type": "markdown",
   "id": "c3d69359",
   "metadata": {},
   "source": [
    "##  [Reshape](https://quantecon.github.io/lecture-datascience.myst/reshape.html)"
   ]
  },
  {
   "cell_type": "markdown",
   "id": "49ac2b53",
   "metadata": {},
   "source": [
    "##  [Merge](https://quantecon.github.io/lecture-datascience.myst/merge.html)"
   ]
  },
  {
   "cell_type": "markdown",
   "id": "52892a82",
   "metadata": {},
   "source": [
    "##  [GroupBy](https://quantecon.github.io/lecture-datascience.myst/groupby.html)"
   ]
  },
  {
   "cell_type": "markdown",
   "id": "230e44b3",
   "metadata": {},
   "source": [
    "##  [Time series](https://quantecon.github.io/lecture-datascience.myst/timeseries.html)"
   ]
  },
  {
   "cell_type": "markdown",
   "id": "34ac2c12",
   "metadata": {},
   "source": [
    "##  [Intermediate Plotting](https://quantecon.github.io/lecture-datascience.myst/matplotlib.html)"
   ]
  }
 ],
 "metadata": {
  "date": 1624413426.653347,
  "filename": "index.md",
  "kernelspec": {
   "display_name": "Python",
   "language": "python3",
   "name": "python3"
  },
  "title": "pandas"
 },
 "nbformat": 4,
 "nbformat_minor": 5
}